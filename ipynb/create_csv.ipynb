{
 "cells": [
  {
   "cell_type": "code",
   "execution_count": 1,
   "id": "a7f971bf-2b08-4950-818d-5eea0219ea06",
   "metadata": {},
   "outputs": [],
   "source": [
    "import os"
   ]
  },
  {
   "cell_type": "code",
   "execution_count": 2,
   "id": "cb19eaad-183b-4acf-8614-6db7edeb4bb1",
   "metadata": {},
   "outputs": [
    {
     "data": {
      "text/plain": [
       "True"
      ]
     },
     "execution_count": 2,
     "metadata": {},
     "output_type": "execute_result"
    }
   ],
   "source": [
    "os.path.exists(\".\")"
   ]
  },
  {
   "cell_type": "markdown",
   "id": "e0f0a95b-0e88-4e58-877b-224842a485fc",
   "metadata": {},
   "source": [
    "パスの名前は構造化されている→各パラメータがとりうる値を事前に設定し、フェッチしていく。"
   ]
  },
  {
   "cell_type": "code",
   "execution_count": 3,
   "id": "273abb6d-38f7-4ed5-b3bd-08ec7a1b7e45",
   "metadata": {},
   "outputs": [],
   "source": [
    "# 被験者\n",
    "participants = ['s' + str(i) for i in range(1, 11)]\n",
    "# 発言\n",
    "utterances = ['recording' + str(i) for i in range(2)]\n",
    "# セッション\n",
    "sessions = ['trial1', 'trial2']\n",
    "# 部屋\n",
    "rooms = ['upstairs', 'downstairs']\n",
    "# 設置場所\n",
    "placements = ['wall', 'nowall']\n",
    "# ユーザとの距離\n",
    "distances = [str(i) for i in range(1, 6, 2)]\n",
    "# 極座標\n",
    "positions = []\n",
    "for i, d in enumerate(['A', 'B', 'C']):\n",
    "    for p in range(0, 3):\n",
    "        positions.append(d + str(p) + '_' + str(2*i+1) + '_' + str(45*p))\n",
    "\n",
    "# DoV angles\n",
    "angles = [str(i) for i in range(0, 360, 45)]"
   ]
  },
  {
   "cell_type": "code",
   "execution_count": 6,
   "id": "e83e36af-6d80-4ef6-b843-3545fbe2ac5f",
   "metadata": {},
   "outputs": [],
   "source": [
    "# ファイルのフェッチ\n",
    "file_paths = []\n",
    "HOME_PATH = '/Volumes/GoogleDrive/マイドライブ/Research/Project/DoV/dataset'\n",
    "for participant_id in participants:\n",
    "    first_dir_name = participant_id\n",
    "    for room_id in rooms:\n",
    "        for device_placement_id in placements:\n",
    "            for session_id in sessions:\n",
    "                second_dir_name = participant_id + '_' + room_id + '_' + device_placement_id + '_' + session_id\n",
    "                for polar_position_id in positions:\n",
    "                    third_dir_name = polar_position_id\n",
    "                    for utterance_id in utterances:\n",
    "                        for dov_angle in angles:\n",
    "                            for mic_channel in range(0, 6):\n",
    "                                filename = utterance_id + '_' + dov_angle + '_' + str(mic_channel) + '.wav'\n",
    "                                file_paths.append(HOME_PATH + '/' + first_dir_name + '/' + second_dir_name + '/' + third_dir_name + '/' + filename)"
   ]
  },
  {
   "cell_type": "code",
   "execution_count": 7,
   "id": "193600a0-c6a6-4d69-a122-6aa369c60716",
   "metadata": {},
   "outputs": [
    {
     "data": {
      "text/plain": [
       "69120"
      ]
     },
     "execution_count": 7,
     "metadata": {},
     "output_type": "execute_result"
    }
   ],
   "source": [
    "len(file_paths)"
   ]
  },
  {
   "cell_type": "code",
   "execution_count": null,
   "id": "771ab06d-f7b6-4004-9da4-625393592a2d",
   "metadata": {},
   "outputs": [],
   "source": []
  }
 ],
 "metadata": {
  "kernelspec": {
   "display_name": "Python 3 (ipykernel)",
   "language": "python",
   "name": "python3"
  },
  "language_info": {
   "codemirror_mode": {
    "name": "ipython",
    "version": 3
   },
   "file_extension": ".py",
   "mimetype": "text/x-python",
   "name": "python",
   "nbconvert_exporter": "python",
   "pygments_lexer": "ipython3",
   "version": "3.9.7"
  },
  "toc-autonumbering": true,
  "toc-showcode": false,
  "toc-showtags": false
 },
 "nbformat": 4,
 "nbformat_minor": 5
}
