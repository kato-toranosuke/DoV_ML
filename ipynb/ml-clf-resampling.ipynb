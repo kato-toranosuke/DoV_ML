{
 "cells": [
  {
   "cell_type": "code",
   "execution_count": 2,
   "id": "2cbea523-1057-4898-8d1c-b93f5c31daf5",
   "metadata": {},
   "outputs": [],
   "source": [
    "from typing import List\n",
    "from sklearn.ensemble import ExtraTreesClassifier\n",
    "from sklearn.model_selection import cross_val_predict, cross_validate\n",
    "from sklearn.metrics import confusion_matrix\n",
    "import sys, os\n",
    "from sklearn.model_selection import GridSearchCV\n",
    "from imblearn.pipeline import Pipeline as ImbPipeline\n",
    "from imblearn.under_sampling import RandomUnderSampler, ClusterCentroids"
   ]
  },
  {
   "cell_type": "code",
   "execution_count": 3,
   "id": "4f9ede2c-9986-4fbd-95eb-5e851377a771",
   "metadata": {},
   "outputs": [],
   "source": [
    "estimator = ExtraTreesClassifier()\n",
    "resampler = ClusterCentroids(random_state=42)\n",
    "train_pipeline = ImbPipeline(steps=[('resmp', resampler), ('est', estimator)])"
   ]
  },
  {
   "cell_type": "code",
   "execution_count": 10,
   "id": "5aeffd64-1b51-440e-ae13-29ddc057559e",
   "metadata": {},
   "outputs": [],
   "source": [
    "param_grid = [\n",
    "    {'est__n_estimators': [10], 'est__min_samples_split': [2], 'est__min_samples_leaf': [5], 'est__max_features': [None], 'est__bootstrap': [False], 'est__n_jobs': [-1], 'est__random_state': [42], 'est__max_samples': [0.5]}\n",
    "]"
   ]
  },
  {
   "cell_type": "code",
   "execution_count": 4,
   "id": "893d6d54-4ac1-49a4-91d3-49462404c7a9",
   "metadata": {},
   "outputs": [],
   "source": [
    "class ML_Consts():\n",
    "  '''\n",
    "  機械学習に用いる定数を定義するクラス\n",
    "  '''\n",
    "\n",
    "  def __init__(self, csv_path=\"../../out/csv/\", output_path=\"./result/\", feature_attrbs=['low_power', 'high_power', 'hlbr', 'coe1[0]',\t'coe1[1]', 'coe3[0]', 'coe3[1]', 'coe3[2]',\t'coe3[3]', 'ratio_max_to_10ms_ave_peaks', 'ratio_max_to_9th_ave_peaks', 'ac_std', 'ac_auc', 'diff_std', 'diff_auc',\t'srmr', 'gp_max_val_std', 'gp_max_val_range', 'gp_max_val_min', 'gp_max_val_max', 'gp_max_val_mean', 'gp_max_ix_std', 'gp_max_ix_range', 'gp_max_ix_min', 'gp_max_ix_max', 'gp_max_ix_mean', 'gp_auc_std', 'gp_auc_range', 'gp_auc_min', 'gp_auc_max', 'gp_auc_mean',\t'tdoa_std', 'tdoa_range', 'tdoa_min', 'tdoa_max', 'tdoa_mean'], label_attrb=['dov_angle'], facing_dov_angles=[0, 45, 315], ncv=10, scoring=['accuracy', 'balanced_accuracy', 'f1'], refit_scoring='balanced_accuracy', param_grid=None):\n",
    "    # インスタンス変数\n",
    "    self.CSV_PATH = csv_path\n",
    "    self.OUTPUT_PATH = output_path\n",
    "    self.FEATURE_ATTRBS = feature_attrbs\n",
    "    self.LABEL_ATTRB = label_attrb\n",
    "    self.FACING_DOV_ANGLES = facing_dov_angles\n",
    "    self.NCV = ncv\n",
    "    self.SCORING = scoring\n",
    "    self.REFIT_SCORING = refit_scoring\n",
    "    self.PARAM_GRID = param_grid\n"
   ]
  },
  {
   "cell_type": "code",
   "execution_count": 11,
   "id": "59b49ffe-ad48-48ff-ad0f-e48c4c2dbafd",
   "metadata": {},
   "outputs": [],
   "source": [
    "consts = ML_Consts(param_grid=param_grid)"
   ]
  },
  {
   "cell_type": "code",
   "execution_count": 12,
   "id": "7f33208c-7086-4239-afb2-f55f31390d5d",
   "metadata": {},
   "outputs": [],
   "source": [
    "search = GridSearchCV(estimator=train_pipeline, param_grid=consts.PARAM_GRID, scoring=consts.SCORING, n_jobs=-1, refit=consts.REFIT_SCORING, cv=consts.NCV, return_train_score=False)"
   ]
  },
  {
   "cell_type": "code",
   "execution_count": 14,
   "id": "26af75f3-823d-42f1-a5a8-c6194c0f54a7",
   "metadata": {},
   "outputs": [
    {
     "ename": "AttributeError",
     "evalue": "'GridSearchCV' object has no attribute 'cv_results_'",
     "output_type": "error",
     "traceback": [
      "\u001b[0;31m---------------------------------------------------------------------------\u001b[0m",
      "\u001b[0;31mAttributeError\u001b[0m                            Traceback (most recent call last)",
      "\u001b[0;32m/var/folders/k3/jgnhztms7kqc3168xb00tgkr0000gn/T/ipykernel_36590/844440785.py\u001b[0m in \u001b[0;36m<module>\u001b[0;34m\u001b[0m\n\u001b[0;32m----> 1\u001b[0;31m \u001b[0msearch\u001b[0m\u001b[0;34m.\u001b[0m\u001b[0mcv_results_\u001b[0m\u001b[0;34m\u001b[0m\u001b[0;34m\u001b[0m\u001b[0m\n\u001b[0m",
      "\u001b[0;31mAttributeError\u001b[0m: 'GridSearchCV' object has no attribute 'cv_results_'"
     ]
    }
   ],
   "source": [
    "search.cv_results_"
   ]
  },
  {
   "cell_type": "code",
   "execution_count": null,
   "id": "3cedc640-8286-4a22-bbd8-92cdc4fda17c",
   "metadata": {},
   "outputs": [],
   "source": []
  }
 ],
 "metadata": {
  "kernelspec": {
   "display_name": "Python 3 (ipykernel)",
   "language": "python",
   "name": "python3"
  },
  "language_info": {
   "codemirror_mode": {
    "name": "ipython",
    "version": 3
   },
   "file_extension": ".py",
   "mimetype": "text/x-python",
   "name": "python",
   "nbconvert_exporter": "python",
   "pygments_lexer": "ipython3",
   "version": "3.9.7"
  }
 },
 "nbformat": 4,
 "nbformat_minor": 5
}
