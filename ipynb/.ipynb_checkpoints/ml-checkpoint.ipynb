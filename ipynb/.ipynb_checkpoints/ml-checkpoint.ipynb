{
 "cells": [
  {
   "cell_type": "code",
   "execution_count": 36,
   "id": "fdded3b9",
   "metadata": {},
   "outputs": [],
   "source": [
    "import numpy as np\n",
    "import pandas as pd\n",
    "from typing import List, Any, Union, Dict\n",
    "from sklearn.impute import SimpleImputer\n",
    "from sklearn.base import BaseEstimator, TransformerMixin\n",
    "from sklearn.pipeline import Pipeline\n",
    "from sklearn.preprocessing import MinMaxScaler\n",
    "import pprint\n",
    "from sklearn.ensemble import ExtraTreesClassifier\n",
    "import joblib"
   ]
  },
  {
   "cell_type": "markdown",
   "id": "f107cbbe-a464-4a47-b75f-da86c92f3b03",
   "metadata": {},
   "source": [
    "# CSVファイルからデータを読み込む"
   ]
  },
  {
   "cell_type": "code",
   "execution_count": 2,
   "id": "09f9d71b-7d23-4f9f-aa85-cb4d86a7b3ca",
   "metadata": {},
   "outputs": [],
   "source": [
    "CSV_PATH = \"../out/csv/\""
   ]
  },
  {
   "cell_type": "code",
   "execution_count": 3,
   "id": "ba986dcf-418b-492a-913c-f69e0bc2fdea",
   "metadata": {},
   "outputs": [],
   "source": [
    "def CsvToDf(csv_list: List) -> pd.DataFrame:\n",
    "    df = pd.concat([pd.read_csv(CSV_PATH + filename) for filename in csv_list])\n",
    "    return df"
   ]
  },
  {
   "cell_type": "code",
   "execution_count": 4,
   "id": "a2f60421-428f-44ce-aa0d-1b82a8404261",
   "metadata": {},
   "outputs": [],
   "source": [
    "# 読み込むCSVファイルのリスト\n",
    "csv_list = [\"features_ch0.csv\"]\n",
    "df = CsvToDf(csv_list)"
   ]
  },
  {
   "cell_type": "code",
   "execution_count": 5,
   "id": "20e1852b-fc1b-4f8f-a4e0-82b686ef3c97",
   "metadata": {},
   "outputs": [],
   "source": [
    "# session1のデータの抽出(式を評価するengineとしてnumexprを使用することで、処理の高速化を狙う。)\n",
    "train_set = df.query('session_id == \"trial1\"', engine='numexpr')\n",
    "test_set = df.query('session_id == \"trial2\"', engine='numexpr')"
   ]
  },
  {
   "cell_type": "markdown",
   "id": "482e1ba3-1cef-4fe6-b8a7-8703a85ad3d5",
   "metadata": {},
   "source": [
    "# データのクリーニング"
   ]
  },
  {
   "cell_type": "code",
   "execution_count": 6,
   "id": "a1d84d9c-1980-4a27-8d75-beb407442735",
   "metadata": {},
   "outputs": [],
   "source": [
    "class DataFrameSelector(BaseEstimator, TransformerMixin):\n",
    "    '''\n",
    "    DataFrameから、属性を選択し、Numpy Arrayへ変換する変換器。\n",
    "    '''\n",
    "\n",
    "    def __init__(self, attribute_names: List) -> None:\n",
    "        self.attribute_names = attribute_names\n",
    "\n",
    "    def fit(self, X: pd.DataFrame, y=None):\n",
    "        return self\n",
    "\n",
    "    def transform(self, X: pd.DataFrame) -> np.ndarray:\n",
    "        return X[self.attribute_names].to_numpy()"
   ]
  },
  {
   "cell_type": "code",
   "execution_count": 7,
   "id": "3e8ad017-dd64-41af-b193-fb12bf8a02c0",
   "metadata": {},
   "outputs": [],
   "source": [
    "class ValueTransducer(BaseEstimator, TransformerMixin):\n",
    "    '''\n",
    "    値を他の値に変換する。\n",
    "    '''\n",
    "\n",
    "    def __init__(self, vals) -> None:\n",
    "        self.vals = vals\n",
    "\n",
    "    def fit(self, X: np.ndarray, y=None):\n",
    "        return self\n",
    "\n",
    "    def transform(self, X: np.ndarray) -> np.ndarray:\n",
    "        X_ = []\n",
    "        # Trueになる値->1, それ以外->0\n",
    "        for val in self.vals:\n",
    "            x_ = np.where(X == val, 1, 0)\n",
    "            X_.append(x_)\n",
    "        # ndarrayに変換\n",
    "        X_ = np.array(X_)\n",
    "\n",
    "        # 1次元配列にまとめる\n",
    "        label_list = []\n",
    "        for i in range(len(X)):\n",
    "            bool = X_[:, i].any()\n",
    "            label_list.append(int(bool))\n",
    "        # ndarrayに変換\n",
    "        label_np = np.array(label_list)\n",
    "\n",
    "        return label_np"
   ]
  },
  {
   "cell_type": "markdown",
   "id": "37e2b782-cf54-4986-8867-72863902304c",
   "metadata": {},
   "source": [
    "## 特徴量抽出パイプライン"
   ]
  },
  {
   "cell_type": "code",
   "execution_count": 8,
   "id": "a35ac3f1-fc20-457b-ab49-600e4cffc89a",
   "metadata": {},
   "outputs": [],
   "source": [
    "# 特徴量に該当する列の抽出\n",
    "feature_attribs = ['low_power', 'high_power', 'hlbr', 'coe1[0]',\t'coe1[1]', 'coe3[0]', 'coe3[1]', 'coe3[2]',\t'coe3[3]', 'ratio_max_to_10ms_ave_peaks', 'ratio_max_to_9th_ave_peaks', 'ac_std', 'ac_auc', 'diff_std', 'diff_auc',\t'srmr', 'gp_max_val_std', 'gp_max_val_range',\n",
    "                       'gp_max_val_min',\t'gp_max_val_max',\t'gp_max_val_mean', 'gp_max_ix_std',\t'gp_max_ix_range', 'gp_max_ix_min',\t'gp_max_ix_max', 'gp_max_ix_mean', 'gp_auc_std', 'gp_auc_range', 'gp_auc_min', 'gp_auc_max', 'gp_auc_mean',\t'tdoa_std', 'tdoa_range', 'tdoa_min', 'tdoa_max', 'tdoa_mean']"
   ]
  },
  {
   "cell_type": "code",
   "execution_count": 9,
   "id": "f65748da-dfc1-4ae9-8df0-7e9a1cd25130",
   "metadata": {},
   "outputs": [],
   "source": [
    "# pipeline\n",
    "features_pipeline = Pipeline([\n",
    "    ('selector', DataFrameSelector(feature_attribs)),\n",
    "    ('imputer', SimpleImputer(strategy=\"median\")),\n",
    "#     ('min_max_scaler', MinMaxScaler())\n",
    "])"
   ]
  },
  {
   "cell_type": "code",
   "execution_count": 10,
   "id": "d1f2b440-69a5-4ffe-ad11-f6a0b7d9fab9",
   "metadata": {},
   "outputs": [],
   "source": [
    "X_train = features_pipeline.fit_transform(train_set)"
   ]
  },
  {
   "cell_type": "code",
   "execution_count": 11,
   "id": "c387a787-7e47-4d7d-bb62-5cbf98c636fb",
   "metadata": {},
   "outputs": [],
   "source": [
    "X_test = features_pipeline.fit_transform(test_set)"
   ]
  },
  {
   "cell_type": "markdown",
   "id": "15178881-727e-4f12-8f27-73720021f0e7",
   "metadata": {},
   "source": [
    "## ラベル抽出パイプライン"
   ]
  },
  {
   "cell_type": "code",
   "execution_count": 12,
   "id": "bf8a8de8-76cf-434b-bcf2-2ab3af4d883b",
   "metadata": {},
   "outputs": [],
   "source": [
    "# 正解値labelを生成するpipeline\n",
    "label_attrib = ['dov_angle']\n",
    "facing_dov_angles = [0, 45, 315]"
   ]
  },
  {
   "cell_type": "code",
   "execution_count": 13,
   "id": "4b2087e2-8bd6-4494-9924-5551a2326141",
   "metadata": {},
   "outputs": [],
   "source": [
    "label_pipeline = Pipeline([\n",
    "    ('selector', DataFrameSelector(label_attrib)),\n",
    "    ('transducer', ValueTransducer(facing_dov_angles))\n",
    "])"
   ]
  },
  {
   "cell_type": "code",
   "execution_count": 14,
   "id": "0a0ed0a7-21c5-4152-9dbf-9d92d2be00d4",
   "metadata": {},
   "outputs": [],
   "source": [
    "y_train = label_pipeline.fit_transform(train_set)\n",
    "y_test = label_pipeline.fit_transform(test_set)"
   ]
  },
  {
   "cell_type": "code",
   "execution_count": 15,
   "id": "44706e47-b952-4fc7-bd61-f8d319ea5225",
   "metadata": {},
   "outputs": [
    {
     "data": {
      "text/plain": [
       "numpy.ndarray"
      ]
     },
     "execution_count": 15,
     "metadata": {},
     "output_type": "execute_result"
    }
   ],
   "source": [
    "type(y_test)"
   ]
  },
  {
   "cell_type": "markdown",
   "id": "997f59bc-49c4-414f-88ac-72b6b232872f",
   "metadata": {},
   "source": [
    "# 訓練"
   ]
  },
  {
   "cell_type": "markdown",
   "id": "88f84304-034d-426d-9b51-79c7a6d04fdd",
   "metadata": {},
   "source": [
    "## モデルの微調整"
   ]
  },
  {
   "cell_type": "code",
   "execution_count": 16,
   "id": "3a436a6f-725a-4f07-810f-09686dfdc5a7",
   "metadata": {},
   "outputs": [
    {
     "data": {
      "text/plain": [
       "5760"
      ]
     },
     "execution_count": 16,
     "metadata": {},
     "output_type": "execute_result"
    }
   ],
   "source": [
    "X_train.shape[0]"
   ]
  },
  {
   "cell_type": "markdown",
   "id": "48538665-54df-4731-8331-169bc98a3bce",
   "metadata": {},
   "source": [
    "### Grid Search"
   ]
  },
  {
   "cell_type": "code",
   "execution_count": 17,
   "id": "7347dcc3-6507-4172-8ea3-68acf490ff64",
   "metadata": {},
   "outputs": [],
   "source": [
    "from sklearn.model_selection import GridSearchCV"
   ]
  },
  {
   "cell_type": "code",
   "execution_count": 18,
   "id": "fc845722-0b65-4a07-93de-0346db759dbd",
   "metadata": {},
   "outputs": [],
   "source": [
    "param_grid = [\n",
    "]"
   ]
  },
  {
   "cell_type": "markdown",
   "id": "a4c0b4ae-a5e4-4a29-ba03-0d876040a601",
   "metadata": {},
   "source": [
    "### Random Search"
   ]
  },
  {
   "cell_type": "code",
   "execution_count": 19,
   "id": "06bd9307-2fd3-4de9-bd49-2c5f3e99fd5d",
   "metadata": {},
   "outputs": [],
   "source": [
    "from sklearn.model_selection import RandomizedSearchCV\n",
    "from scipy.stats import randint, uniform"
   ]
  },
  {
   "cell_type": "markdown",
   "id": "c0585899-fbe3-4da3-9753-2b764f7d32b3",
   "metadata": {},
   "source": [
    "#### ペースティング"
   ]
  },
  {
   "cell_type": "code",
   "execution_count": 24,
   "id": "7de6528c-488d-473c-a82c-6ea7e860c739",
   "metadata": {},
   "outputs": [],
   "source": [
    "# ハイパーパラメータの設定\n",
    "param_distribs_paceting = {\n",
    "    'n_estimators': randint(low=1, high=800),\n",
    "    'min_samples_split': randint(low=2, high=10),\n",
    "    'min_samples_leaf': randint(low=1, high=10),\n",
    "    'max_features': ['sqrt', 'log2', None],\n",
    "    'bootstrap': [False],\n",
    "    'n_jobs': [-1],\n",
    "    'random_state': [42],\n",
    "    'max_samples': uniform()\n",
    "}"
   ]
  },
  {
   "cell_type": "code",
   "execution_count": 22,
   "id": "2d328748-607a-42fe-8a5c-6b6da24d17d1",
   "metadata": {},
   "outputs": [],
   "source": [
    "# バギングでの探索\n",
    "ext_clf_bagging = ExtraTreesClassifier()\n",
    "ext_rnd_search_bagging = RandomizedSearchCV(ext_clf_bagging, param_distributions=param_distribs_bagging, n_iter=100, cv=5, scoring='accuracy', random_state=42, n_jobs=-1)"
   ]
  },
  {
   "cell_type": "code",
   "execution_count": 23,
   "id": "31f90651-b829-4370-a503-7003ca727bf1",
   "metadata": {},
   "outputs": [
    {
     "data": {
      "text/plain": [
       "RandomizedSearchCV(cv=5, estimator=ExtraTreesClassifier(), n_iter=100,\n",
       "                   n_jobs=-1,\n",
       "                   param_distributions={'bootstrap': [False],\n",
       "                                        'max_features': ['sqrt', 'log2', None],\n",
       "                                        'max_samples': <scipy.stats._distn_infrastructure.rv_frozen object at 0x13f699d90>,\n",
       "                                        'min_samples_leaf': <scipy.stats._distn_infrastructure.rv_frozen object at 0x13f6f70d0>,\n",
       "                                        'min_samples_split': <scipy.stats._distn_infrastructure.rv_frozen object at 0x10b35b7c0>,\n",
       "                                        'n_estimators': <scipy.stats._distn_infrastructure.rv_frozen object at 0x13f6ef0a0>,\n",
       "                                        'n_jobs': [-1], 'random_state': [42]},\n",
       "                   random_state=42, scoring='accuracy')"
      ]
     },
     "execution_count": 23,
     "metadata": {},
     "output_type": "execute_result"
    }
   ],
   "source": [
    "ext_rnd_search_bagging.fit(X_train, y_train)"
   ]
  },
  {
   "cell_type": "code",
   "execution_count": 32,
   "id": "f1bf2b77-e0e7-4da5-b01b-fb6efa8011ec",
   "metadata": {},
   "outputs": [
    {
     "data": {
      "text/html": [
       "<div>\n",
       "<style scoped>\n",
       "    .dataframe tbody tr th:only-of-type {\n",
       "        vertical-align: middle;\n",
       "    }\n",
       "\n",
       "    .dataframe tbody tr th {\n",
       "        vertical-align: top;\n",
       "    }\n",
       "\n",
       "    .dataframe thead th {\n",
       "        text-align: right;\n",
       "    }\n",
       "</style>\n",
       "<table border=\"1\" class=\"dataframe\">\n",
       "  <thead>\n",
       "    <tr style=\"text-align: right;\">\n",
       "      <th></th>\n",
       "      <th>mean_fit_time</th>\n",
       "      <th>std_fit_time</th>\n",
       "      <th>mean_score_time</th>\n",
       "      <th>std_score_time</th>\n",
       "      <th>param_bootstrap</th>\n",
       "      <th>param_max_features</th>\n",
       "      <th>param_max_samples</th>\n",
       "      <th>param_min_samples_leaf</th>\n",
       "      <th>param_min_samples_split</th>\n",
       "      <th>param_n_estimators</th>\n",
       "      <th>...</th>\n",
       "      <th>param_random_state</th>\n",
       "      <th>params</th>\n",
       "      <th>split0_test_score</th>\n",
       "      <th>split1_test_score</th>\n",
       "      <th>split2_test_score</th>\n",
       "      <th>split3_test_score</th>\n",
       "      <th>split4_test_score</th>\n",
       "      <th>mean_test_score</th>\n",
       "      <th>std_test_score</th>\n",
       "      <th>rank_test_score</th>\n",
       "    </tr>\n",
       "  </thead>\n",
       "  <tbody>\n",
       "    <tr>\n",
       "      <th>0</th>\n",
       "      <td>0.135326</td>\n",
       "      <td>0.019287</td>\n",
       "      <td>0.016046</td>\n",
       "      <td>0.003662</td>\n",
       "      <td>False</td>\n",
       "      <td>None</td>\n",
       "      <td>0.796543</td>\n",
       "      <td>8</td>\n",
       "      <td>6</td>\n",
       "      <td>21</td>\n",
       "      <td>...</td>\n",
       "      <td>42</td>\n",
       "      <td>{'bootstrap': False, 'max_features': None, 'ma...</td>\n",
       "      <td>0.600694</td>\n",
       "      <td>0.729167</td>\n",
       "      <td>0.726562</td>\n",
       "      <td>0.727431</td>\n",
       "      <td>0.717014</td>\n",
       "      <td>0.700174</td>\n",
       "      <td>0.049919</td>\n",
       "      <td>3</td>\n",
       "    </tr>\n",
       "    <tr>\n",
       "      <th>1</th>\n",
       "      <td>5.596870</td>\n",
       "      <td>0.126102</td>\n",
       "      <td>0.185945</td>\n",
       "      <td>0.038010</td>\n",
       "      <td>False</td>\n",
       "      <td>None</td>\n",
       "      <td>0.445833</td>\n",
       "      <td>7</td>\n",
       "      <td>4</td>\n",
       "      <td>459</td>\n",
       "      <td>...</td>\n",
       "      <td>42</td>\n",
       "      <td>{'bootstrap': False, 'max_features': None, 'ma...</td>\n",
       "      <td>0.578993</td>\n",
       "      <td>0.727431</td>\n",
       "      <td>0.726562</td>\n",
       "      <td>0.742188</td>\n",
       "      <td>0.713542</td>\n",
       "      <td>0.697743</td>\n",
       "      <td>0.060064</td>\n",
       "      <td>22</td>\n",
       "    </tr>\n",
       "    <tr>\n",
       "      <th>2</th>\n",
       "      <td>4.502934</td>\n",
       "      <td>0.124129</td>\n",
       "      <td>0.296484</td>\n",
       "      <td>0.043560</td>\n",
       "      <td>False</td>\n",
       "      <td>sqrt</td>\n",
       "      <td>0.601115</td>\n",
       "      <td>8</td>\n",
       "      <td>4</td>\n",
       "      <td>662</td>\n",
       "      <td>...</td>\n",
       "      <td>42</td>\n",
       "      <td>{'bootstrap': False, 'max_features': 'sqrt', '...</td>\n",
       "      <td>0.639757</td>\n",
       "      <td>0.718750</td>\n",
       "      <td>0.734375</td>\n",
       "      <td>0.718750</td>\n",
       "      <td>0.678819</td>\n",
       "      <td>0.698090</td>\n",
       "      <td>0.034480</td>\n",
       "      <td>14</td>\n",
       "    </tr>\n",
       "    <tr>\n",
       "      <th>3</th>\n",
       "      <td>0.536934</td>\n",
       "      <td>0.055558</td>\n",
       "      <td>0.071699</td>\n",
       "      <td>0.005301</td>\n",
       "      <td>False</td>\n",
       "      <td>sqrt</td>\n",
       "      <td>0.96991</td>\n",
       "      <td>6</td>\n",
       "      <td>3</td>\n",
       "      <td>192</td>\n",
       "      <td>...</td>\n",
       "      <td>42</td>\n",
       "      <td>{'bootstrap': False, 'max_features': 'sqrt', '...</td>\n",
       "      <td>0.622396</td>\n",
       "      <td>0.719618</td>\n",
       "      <td>0.730035</td>\n",
       "      <td>0.717882</td>\n",
       "      <td>0.679688</td>\n",
       "      <td>0.693924</td>\n",
       "      <td>0.039641</td>\n",
       "      <td>89</td>\n",
       "    </tr>\n",
       "    <tr>\n",
       "      <th>4</th>\n",
       "      <td>6.717449</td>\n",
       "      <td>0.320695</td>\n",
       "      <td>0.414396</td>\n",
       "      <td>0.060093</td>\n",
       "      <td>False</td>\n",
       "      <td>sqrt</td>\n",
       "      <td>0.617482</td>\n",
       "      <td>6</td>\n",
       "      <td>6</td>\n",
       "      <td>748</td>\n",
       "      <td>...</td>\n",
       "      <td>42</td>\n",
       "      <td>{'bootstrap': False, 'max_features': 'sqrt', '...</td>\n",
       "      <td>0.632812</td>\n",
       "      <td>0.718750</td>\n",
       "      <td>0.731771</td>\n",
       "      <td>0.717014</td>\n",
       "      <td>0.680556</td>\n",
       "      <td>0.696181</td>\n",
       "      <td>0.035971</td>\n",
       "      <td>57</td>\n",
       "    </tr>\n",
       "    <tr>\n",
       "      <th>5</th>\n",
       "      <td>5.474162</td>\n",
       "      <td>0.204726</td>\n",
       "      <td>0.210238</td>\n",
       "      <td>0.020409</td>\n",
       "      <td>False</td>\n",
       "      <td>sqrt</td>\n",
       "      <td>0.291229</td>\n",
       "      <td>3</td>\n",
       "      <td>5</td>\n",
       "      <td>567</td>\n",
       "      <td>...</td>\n",
       "      <td>42</td>\n",
       "      <td>{'bootstrap': False, 'max_features': 'sqrt', '...</td>\n",
       "      <td>0.618056</td>\n",
       "      <td>0.726562</td>\n",
       "      <td>0.730035</td>\n",
       "      <td>0.725694</td>\n",
       "      <td>0.684028</td>\n",
       "      <td>0.696875</td>\n",
       "      <td>0.042870</td>\n",
       "      <td>45</td>\n",
       "    </tr>\n",
       "    <tr>\n",
       "      <th>6</th>\n",
       "      <td>0.257993</td>\n",
       "      <td>0.023321</td>\n",
       "      <td>0.049923</td>\n",
       "      <td>0.029551</td>\n",
       "      <td>False</td>\n",
       "      <td>sqrt</td>\n",
       "      <td>0.04645</td>\n",
       "      <td>3</td>\n",
       "      <td>8</td>\n",
       "      <td>21</td>\n",
       "      <td>...</td>\n",
       "      <td>42</td>\n",
       "      <td>{'bootstrap': False, 'max_features': 'sqrt', '...</td>\n",
       "      <td>0.624132</td>\n",
       "      <td>0.731771</td>\n",
       "      <td>0.723958</td>\n",
       "      <td>0.732639</td>\n",
       "      <td>0.699653</td>\n",
       "      <td>0.702431</td>\n",
       "      <td>0.040927</td>\n",
       "      <td>1</td>\n",
       "    </tr>\n",
       "    <tr>\n",
       "      <th>7</th>\n",
       "      <td>2.877515</td>\n",
       "      <td>0.083578</td>\n",
       "      <td>0.116862</td>\n",
       "      <td>0.002419</td>\n",
       "      <td>False</td>\n",
       "      <td>sqrt</td>\n",
       "      <td>0.065052</td>\n",
       "      <td>4</td>\n",
       "      <td>2</td>\n",
       "      <td>316</td>\n",
       "      <td>...</td>\n",
       "      <td>42</td>\n",
       "      <td>{'bootstrap': False, 'max_features': 'sqrt', '...</td>\n",
       "      <td>0.624132</td>\n",
       "      <td>0.720486</td>\n",
       "      <td>0.730903</td>\n",
       "      <td>0.723090</td>\n",
       "      <td>0.681424</td>\n",
       "      <td>0.696007</td>\n",
       "      <td>0.039822</td>\n",
       "      <td>58</td>\n",
       "    </tr>\n",
       "    <tr>\n",
       "      <th>8</th>\n",
       "      <td>4.637125</td>\n",
       "      <td>0.195115</td>\n",
       "      <td>0.218628</td>\n",
       "      <td>0.017667</td>\n",
       "      <td>False</td>\n",
       "      <td>log2</td>\n",
       "      <td>0.808397</td>\n",
       "      <td>9</td>\n",
       "      <td>3</td>\n",
       "      <td>565</td>\n",
       "      <td>...</td>\n",
       "      <td>42</td>\n",
       "      <td>{'bootstrap': False, 'max_features': 'log2', '...</td>\n",
       "      <td>0.652778</td>\n",
       "      <td>0.718750</td>\n",
       "      <td>0.728299</td>\n",
       "      <td>0.716146</td>\n",
       "      <td>0.675347</td>\n",
       "      <td>0.698264</td>\n",
       "      <td>0.029106</td>\n",
       "      <td>13</td>\n",
       "    </tr>\n",
       "    <tr>\n",
       "      <th>9</th>\n",
       "      <td>3.871631</td>\n",
       "      <td>0.204509</td>\n",
       "      <td>0.182038</td>\n",
       "      <td>0.013626</td>\n",
       "      <td>False</td>\n",
       "      <td>log2</td>\n",
       "      <td>0.684233</td>\n",
       "      <td>7</td>\n",
       "      <td>5</td>\n",
       "      <td>509</td>\n",
       "      <td>...</td>\n",
       "      <td>42</td>\n",
       "      <td>{'bootstrap': False, 'max_features': 'log2', '...</td>\n",
       "      <td>0.646701</td>\n",
       "      <td>0.717882</td>\n",
       "      <td>0.730035</td>\n",
       "      <td>0.717882</td>\n",
       "      <td>0.674479</td>\n",
       "      <td>0.697396</td>\n",
       "      <td>0.031622</td>\n",
       "      <td>34</td>\n",
       "    </tr>\n",
       "  </tbody>\n",
       "</table>\n",
       "<p>10 rows × 21 columns</p>\n",
       "</div>"
      ],
      "text/plain": [
       "   mean_fit_time  std_fit_time  mean_score_time  std_score_time  \\\n",
       "0       0.135326      0.019287         0.016046        0.003662   \n",
       "1       5.596870      0.126102         0.185945        0.038010   \n",
       "2       4.502934      0.124129         0.296484        0.043560   \n",
       "3       0.536934      0.055558         0.071699        0.005301   \n",
       "4       6.717449      0.320695         0.414396        0.060093   \n",
       "5       5.474162      0.204726         0.210238        0.020409   \n",
       "6       0.257993      0.023321         0.049923        0.029551   \n",
       "7       2.877515      0.083578         0.116862        0.002419   \n",
       "8       4.637125      0.195115         0.218628        0.017667   \n",
       "9       3.871631      0.204509         0.182038        0.013626   \n",
       "\n",
       "  param_bootstrap param_max_features param_max_samples param_min_samples_leaf  \\\n",
       "0           False               None          0.796543                      8   \n",
       "1           False               None          0.445833                      7   \n",
       "2           False               sqrt          0.601115                      8   \n",
       "3           False               sqrt           0.96991                      6   \n",
       "4           False               sqrt          0.617482                      6   \n",
       "5           False               sqrt          0.291229                      3   \n",
       "6           False               sqrt           0.04645                      3   \n",
       "7           False               sqrt          0.065052                      4   \n",
       "8           False               log2          0.808397                      9   \n",
       "9           False               log2          0.684233                      7   \n",
       "\n",
       "  param_min_samples_split param_n_estimators  ... param_random_state  \\\n",
       "0                       6                 21  ...                 42   \n",
       "1                       4                459  ...                 42   \n",
       "2                       4                662  ...                 42   \n",
       "3                       3                192  ...                 42   \n",
       "4                       6                748  ...                 42   \n",
       "5                       5                567  ...                 42   \n",
       "6                       8                 21  ...                 42   \n",
       "7                       2                316  ...                 42   \n",
       "8                       3                565  ...                 42   \n",
       "9                       5                509  ...                 42   \n",
       "\n",
       "                                              params split0_test_score  \\\n",
       "0  {'bootstrap': False, 'max_features': None, 'ma...          0.600694   \n",
       "1  {'bootstrap': False, 'max_features': None, 'ma...          0.578993   \n",
       "2  {'bootstrap': False, 'max_features': 'sqrt', '...          0.639757   \n",
       "3  {'bootstrap': False, 'max_features': 'sqrt', '...          0.622396   \n",
       "4  {'bootstrap': False, 'max_features': 'sqrt', '...          0.632812   \n",
       "5  {'bootstrap': False, 'max_features': 'sqrt', '...          0.618056   \n",
       "6  {'bootstrap': False, 'max_features': 'sqrt', '...          0.624132   \n",
       "7  {'bootstrap': False, 'max_features': 'sqrt', '...          0.624132   \n",
       "8  {'bootstrap': False, 'max_features': 'log2', '...          0.652778   \n",
       "9  {'bootstrap': False, 'max_features': 'log2', '...          0.646701   \n",
       "\n",
       "   split1_test_score  split2_test_score  split3_test_score  split4_test_score  \\\n",
       "0           0.729167           0.726562           0.727431           0.717014   \n",
       "1           0.727431           0.726562           0.742188           0.713542   \n",
       "2           0.718750           0.734375           0.718750           0.678819   \n",
       "3           0.719618           0.730035           0.717882           0.679688   \n",
       "4           0.718750           0.731771           0.717014           0.680556   \n",
       "5           0.726562           0.730035           0.725694           0.684028   \n",
       "6           0.731771           0.723958           0.732639           0.699653   \n",
       "7           0.720486           0.730903           0.723090           0.681424   \n",
       "8           0.718750           0.728299           0.716146           0.675347   \n",
       "9           0.717882           0.730035           0.717882           0.674479   \n",
       "\n",
       "   mean_test_score  std_test_score  rank_test_score  \n",
       "0         0.700174        0.049919                3  \n",
       "1         0.697743        0.060064               22  \n",
       "2         0.698090        0.034480               14  \n",
       "3         0.693924        0.039641               89  \n",
       "4         0.696181        0.035971               57  \n",
       "5         0.696875        0.042870               45  \n",
       "6         0.702431        0.040927                1  \n",
       "7         0.696007        0.039822               58  \n",
       "8         0.698264        0.029106               13  \n",
       "9         0.697396        0.031622               34  \n",
       "\n",
       "[10 rows x 21 columns]"
      ]
     },
     "execution_count": 32,
     "metadata": {},
     "output_type": "execute_result"
    }
   ],
   "source": [
    "# ハイパーパラメータの組み合わせを確認する\n",
    "cvres_paceting = ext_rnd_search_bagging.cv_results_\n",
    "pd.DataFrame(cvres_paceting)[:10]"
   ]
  },
  {
   "cell_type": "code",
   "execution_count": 33,
   "id": "eb7a512d-2473-4354-8d01-998f190cf6f7",
   "metadata": {},
   "outputs": [
    {
     "data": {
      "text/plain": [
       "{'bootstrap': False,\n",
       " 'max_features': 'sqrt',\n",
       " 'max_samples': 0.046450412719997725,\n",
       " 'min_samples_leaf': 3,\n",
       " 'min_samples_split': 8,\n",
       " 'n_estimators': 21,\n",
       " 'n_jobs': -1,\n",
       " 'random_state': 42}"
      ]
     },
     "execution_count": 33,
     "metadata": {},
     "output_type": "execute_result"
    }
   ],
   "source": [
    "# 最良の分類器のハイパーパラメータを確認する\n",
    "ext_rnd_search_bagging.best_params_"
   ]
  },
  {
   "cell_type": "code",
   "execution_count": 37,
   "id": "797f3195-2c12-43a2-ac6d-add4fde276bf",
   "metadata": {},
   "outputs": [
    {
     "data": {
      "text/plain": [
       "0.7024305555555556"
      ]
     },
     "execution_count": 37,
     "metadata": {},
     "output_type": "execute_result"
    }
   ],
   "source": [
    "ext_rnd_search_bagging.best_score_"
   ]
  },
  {
   "cell_type": "code",
   "execution_count": 39,
   "id": "426ea9bf-221a-4d2b-aa6d-d830fef98f75",
   "metadata": {},
   "outputs": [
    {
     "data": {
      "text/plain": [
       "['./pkl/ext_best_estimator_paceting_211002_1.pkl']"
      ]
     },
     "execution_count": 39,
     "metadata": {},
     "output_type": "execute_result"
    }
   ],
   "source": [
    "# モデルの保存\n",
    "ext_best_estimator_paceting = ext_rnd_search_bagging.best_estimator_\n",
    "joblib.dump(ext_best_estimator_paceting, './pkl/ext_best_estimator_paceting_211002_1.pkl')"
   ]
  },
  {
   "cell_type": "markdown",
   "id": "716e8373-b8fe-4b78-874f-516e64612750",
   "metadata": {},
   "source": [
    "#### バギング"
   ]
  },
  {
   "cell_type": "code",
   "execution_count": 46,
   "id": "0aff9f1e-0fb1-4235-b3d1-3c7aeeeab9e5",
   "metadata": {},
   "outputs": [],
   "source": [
    "# ハイパーパラメータの設定\n",
    "param_distribs_bagging = {\n",
    "    'n_estimators': randint(low=100, high=800),\n",
    "    'min_samples_split': randint(low=2, high=10),\n",
    "    'min_samples_leaf': randint(low=1, high=10),\n",
    "    'max_features': ['sqrt', 'log2', None],\n",
    "    'bootstrap': [True],\n",
    "    'oob_score': [True, False],\n",
    "    'n_jobs': [-1],\n",
    "    'random_state': [42],\n",
    "    'max_samples': uniform()\n",
    "}"
   ]
  },
  {
   "cell_type": "code",
   "execution_count": 47,
   "id": "04109f4e-fea7-41ba-a0e0-ce494915433f",
   "metadata": {},
   "outputs": [
    {
     "data": {
      "text/plain": [
       "RandomizedSearchCV(cv=5, estimator=ExtraTreesClassifier(), n_iter=100,\n",
       "                   n_jobs=-1,\n",
       "                   param_distributions={'bootstrap': [True],\n",
       "                                        'max_features': ['sqrt', 'log2', None],\n",
       "                                        'max_samples': <scipy.stats._distn_infrastructure.rv_frozen object at 0x141b90af0>,\n",
       "                                        'min_samples_leaf': <scipy.stats._distn_infrastructure.rv_frozen object at 0x141b90160>,\n",
       "                                        'min_samples_split': <scipy.stats._distn_infrastructure.rv_frozen object at 0x1419549d0>,\n",
       "                                        'n_estimators': <scipy.stats._distn_infrastructure.rv_frozen object at 0x13f73aa90>,\n",
       "                                        'n_jobs': [-1],\n",
       "                                        'oob_score': [True, False],\n",
       "                                        'random_state': [42]},\n",
       "                   random_state=42, scoring='accuracy')"
      ]
     },
     "execution_count": 47,
     "metadata": {},
     "output_type": "execute_result"
    }
   ],
   "source": [
    "# バギングでの探索\n",
    "ext_clf_bagging = ExtraTreesClassifier()\n",
    "ext_rnd_search_bagging = RandomizedSearchCV(ext_clf_bagging, param_distributions=param_distribs_bagging, n_iter=100, cv=5, scoring='accuracy', random_state=42, n_jobs=-1)\n",
    "ext_rnd_search_bagging.fit(X_train, y_train)"
   ]
  },
  {
   "cell_type": "code",
   "execution_count": 48,
   "id": "4175061b-886d-48dc-9413-0780e9252c83",
   "metadata": {},
   "outputs": [
    {
     "data": {
      "text/plain": [
       "{'bootstrap': True,\n",
       " 'max_features': 'log2',\n",
       " 'max_samples': 0.02535074341545751,\n",
       " 'min_samples_leaf': 5,\n",
       " 'min_samples_split': 7,\n",
       " 'n_estimators': 226,\n",
       " 'n_jobs': -1,\n",
       " 'oob_score': True,\n",
       " 'random_state': 42}"
      ]
     },
     "execution_count": 48,
     "metadata": {},
     "output_type": "execute_result"
    }
   ],
   "source": [
    "ext_rnd_search_bagging.best_params_"
   ]
  },
  {
   "cell_type": "code",
   "execution_count": 49,
   "id": "786ac76b-e56e-4ba1-8027-97248e826a7b",
   "metadata": {},
   "outputs": [
    {
     "data": {
      "text/plain": [
       "0.7064236111111112"
      ]
     },
     "execution_count": 49,
     "metadata": {},
     "output_type": "execute_result"
    }
   ],
   "source": [
    "ext_rnd_search_bagging.best_score_"
   ]
  },
  {
   "cell_type": "markdown",
   "id": "500d9d09-5c00-4f6d-aabf-ba5711a718d8",
   "metadata": {},
   "source": [
    "## モデルの訓練"
   ]
  },
  {
   "cell_type": "code",
   "execution_count": null,
   "id": "5fd77462-6f2f-4622-bda5-f4cbde931e17",
   "metadata": {},
   "outputs": [],
   "source": [
    "ext_clf = ExtraTreesClassifier(n_estimators=500, max_leaf_nodes=16, n_jobs=-1)"
   ]
  },
  {
   "cell_type": "code",
   "execution_count": null,
   "id": "b7fa6560-7408-4147-8805-fb4fd892dc35",
   "metadata": {},
   "outputs": [],
   "source": [
    "ext_clf.fit(X_train, y_train)"
   ]
  },
  {
   "cell_type": "markdown",
   "id": "4e087c29-2fe0-4f95-bd53-bd1b74c6836d",
   "metadata": {},
   "source": [
    "## 特徴量の重要度"
   ]
  },
  {
   "cell_type": "code",
   "execution_count": null,
   "id": "4deb5705-54da-45e0-ab33-0f68835f1572",
   "metadata": {},
   "outputs": [],
   "source": [
    "feature_score = {}\n",
    "for name, score in zip(feature_attribs, ext_clf.feature_importances_):\n",
    "    feature_score[name] = score\n",
    "    \n",
    "# sort\n",
    "feature_score_sorted = sorted(feature_score.items(), key=lambda x:x[1], reverse=True)\n",
    "pprint.pprint(feature_score_sorted)"
   ]
  },
  {
   "cell_type": "markdown",
   "id": "54e92eeb-50a8-40d6-94e2-ce8a1b9a1c01",
   "metadata": {},
   "source": [
    "## Out-Of-Bag検証"
   ]
  },
  {
   "cell_type": "markdown",
   "id": "7cdf65fb-62a5-4b88-974a-ebf4df87dbba",
   "metadata": {},
   "source": [
    "Extra-tree"
   ]
  },
  {
   "cell_type": "code",
   "execution_count": null,
   "id": "17919533-ce23-444b-a931-23f331c5cfe5",
   "metadata": {},
   "outputs": [],
   "source": [
    "ext_clf.oob_score_"
   ]
  },
  {
   "cell_type": "markdown",
   "id": "0b8dcf29-9539-48a2-89b2-0c31a83ac077",
   "metadata": {},
   "source": [
    "# 予測"
   ]
  },
  {
   "cell_type": "code",
   "execution_count": null,
   "id": "e0f56284-985e-4936-8c5a-ddff36c26936",
   "metadata": {},
   "outputs": [],
   "source": [
    "y_pred_ext = ext_clf.predict(X_test)"
   ]
  },
  {
   "cell_type": "markdown",
   "id": "358101b6-af9a-42f7-b946-9b48e1a9fadc",
   "metadata": {},
   "source": [
    "# 検証"
   ]
  },
  {
   "cell_type": "markdown",
   "id": "53207042-f7ad-4cf4-b508-f5dc74b09c27",
   "metadata": {},
   "source": [
    "## 訓練セットでの検証"
   ]
  },
  {
   "cell_type": "markdown",
   "id": "1c152a4c-c531-4d13-9726-d490a4bf1cf3",
   "metadata": {},
   "source": [
    "### 平均正解率"
   ]
  },
  {
   "cell_type": "code",
   "execution_count": null,
   "id": "88c0cd2b-34c2-4f17-b83b-9968eff35232",
   "metadata": {},
   "outputs": [],
   "source": [
    "ext_clf.score(X_train, y_train)"
   ]
  },
  {
   "cell_type": "markdown",
   "id": "bbb1368a-d9d0-45b0-b847-20a50d34454b",
   "metadata": {},
   "source": [
    "### 交差検証"
   ]
  },
  {
   "cell_type": "markdown",
   "id": "1927d634-8bcf-49c6-bcf9-b2fec446444b",
   "metadata": {},
   "source": [
    "分類器の評価においては、歪んだデータセット、すなわち一部のクラスが他のクラスよりも出現度の高いデータセットの正解率は当てにならない。（今回のデータセットはそうでもない気はする。）"
   ]
  },
  {
   "cell_type": "code",
   "execution_count": null,
   "id": "1726fb68-a4ec-4061-8358-6cd9cd16a8b3",
   "metadata": {},
   "outputs": [],
   "source": [
    "from sklearn.model_selection import cross_val_score"
   ]
  },
  {
   "cell_type": "code",
   "execution_count": null,
   "id": "45c95595-60f2-4908-abd4-863c34b7d058",
   "metadata": {},
   "outputs": [],
   "source": [
    "cross_val_score(ext_clf, X_train, y_train, cv=3, scoring='accuracy')"
   ]
  },
  {
   "cell_type": "markdown",
   "id": "66601f5f-f6a2-4ab1-9f11-8fb2a9ac5540",
   "metadata": {},
   "source": [
    "### 混同行列"
   ]
  },
  {
   "cell_type": "markdown",
   "id": "f2915699-f2c6-49ec-8ccc-36705b0cb3b7",
   "metadata": {},
   "source": [
    "分類器の性能評価は混同行列を用いる。"
   ]
  },
  {
   "cell_type": "code",
   "execution_count": null,
   "id": "5ad6e9e4-910a-4fe0-941d-5e2d49b9fefc",
   "metadata": {},
   "outputs": [],
   "source": [
    "from sklearn.model_selection import cross_val_predict"
   ]
  },
  {
   "cell_type": "code",
   "execution_count": null,
   "id": "7c2939e5-d176-485c-b2a7-b65833cbc747",
   "metadata": {},
   "outputs": [],
   "source": [
    "# K分割交差検証を行い、個々のテストフォールドに対する予測結果を返す。（評価のスコアではない）\n",
    "y_train_pred = cross_val_predict(ext_clf, X_train, y_train, cv=3)\n",
    "y_train_pred"
   ]
  },
  {
   "cell_type": "code",
   "execution_count": null,
   "id": "f8fa7920-d7de-4aa2-9c89-f78438ba8d90",
   "metadata": {},
   "outputs": [],
   "source": [
    "from sklearn.metrics import confusion_matrix"
   ]
  },
  {
   "cell_type": "code",
   "execution_count": null,
   "id": "6d7da582-8230-43e7-90ee-d7cb9db02389",
   "metadata": {},
   "outputs": [],
   "source": [
    "# 混同行列\n",
    "confusion_matrix(y_train, y_train_pred)"
   ]
  },
  {
   "cell_type": "code",
   "execution_count": null,
   "id": "84fa12f7-68b9-4121-85e7-6ef7e3a4c858",
   "metadata": {},
   "outputs": [],
   "source": [
    "from sklearn.metrics import f1_score"
   ]
  },
  {
   "cell_type": "code",
   "execution_count": null,
   "id": "496e1443-90dc-4e55-940b-3d5ce97ce896",
   "metadata": {},
   "outputs": [],
   "source": [
    "# F1スコアの計算\n",
    "f1_score(y_train, y_train_pred)"
   ]
  },
  {
   "cell_type": "markdown",
   "id": "abaa3c79-818c-4911-9ca2-d7a398d45067",
   "metadata": {},
   "source": [
    "## テストセットでの検証"
   ]
  },
  {
   "cell_type": "code",
   "execution_count": null,
   "id": "75498e8b-7473-4a5e-af52-20e405616b30",
   "metadata": {},
   "outputs": [],
   "source": [
    "ext_clf.score(X_test, y_test)"
   ]
  },
  {
   "cell_type": "code",
   "execution_count": null,
   "id": "2ca736c3-03e7-4b16-99f7-3425ed9d82c0",
   "metadata": {},
   "outputs": [],
   "source": []
  }
 ],
 "metadata": {
  "interpreter": {
   "hash": "aee8b7b246df8f9039afb4144a1f6fd8d2ca17a180786b69acc140d282b71a49"
  },
  "kernelspec": {
   "display_name": "Python 3 (ipykernel)",
   "language": "python",
   "name": "python3"
  },
  "language_info": {
   "codemirror_mode": {
    "name": "ipython",
    "version": 3
   },
   "file_extension": ".py",
   "mimetype": "text/x-python",
   "name": "python",
   "nbconvert_exporter": "python",
   "pygments_lexer": "ipython3",
   "version": "3.9.7"
  },
  "toc-autonumbering": true
 },
 "nbformat": 4,
 "nbformat_minor": 5
}
