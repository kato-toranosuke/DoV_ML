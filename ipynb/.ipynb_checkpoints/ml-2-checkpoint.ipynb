{
 "cells": [
  {
   "cell_type": "code",
   "execution_count": 70,
   "id": "b69e7a3b-6f3e-4d21-9ad0-8cda67979170",
   "metadata": {},
   "outputs": [],
   "source": [
    "import numpy as np\n",
    "import pandas as pd\n",
    "from typing import List, Any, Union, Dict\n",
    "from sklearn.impute import SimpleImputer\n",
    "from sklearn.base import BaseEstimator, TransformerMixin\n",
    "from sklearn.pipeline import Pipeline\n",
    "from sklearn.preprocessing import MinMaxScaler\n",
    "import pprint\n",
    "from sklearn.ensemble import ExtraTreesClassifier\n",
    "import joblib\n",
    "from sklearn.model_selection import cross_val_score, cross_val_predict, cross_validate\n",
    "from sklearn.metrics import confusion_matrix, f1_score\n",
    "from sklearn.ensemble import RandomForestClassifier\n",
    "import os, re"
   ]
  },
  {
   "cell_type": "markdown",
   "id": "f107cbbe-a464-4a47-b75f-da86c92f3b03",
   "metadata": {},
   "source": [
    "# CSVファイルからデータを読み込む"
   ]
  },
  {
   "cell_type": "code",
   "execution_count": 14,
   "id": "09f9d71b-7d23-4f9f-aa85-cb4d86a7b3ca",
   "metadata": {},
   "outputs": [],
   "source": [
    "CSV_PATH = \"../out/csv/\""
   ]
  },
  {
   "cell_type": "code",
   "execution_count": 15,
   "id": "ba986dcf-418b-492a-913c-f69e0bc2fdea",
   "metadata": {},
   "outputs": [],
   "source": [
    "def CsvToDf(csv_list: List) -> pd.DataFrame:\n",
    "    df = pd.concat([pd.read_csv(CSV_PATH + filename) for filename in csv_list])\n",
    "    return df"
   ]
  },
  {
   "cell_type": "code",
   "execution_count": 16,
   "id": "a2f60421-428f-44ce-aa0d-1b82a8404261",
   "metadata": {},
   "outputs": [],
   "source": [
    "# 読み込むCSVファイルのリスト\n",
    "csv_list = [\"fearures_mono_ch_complete_211007.csv\"]\n",
    "df = CsvToDf(csv_list)"
   ]
  },
  {
   "cell_type": "code",
   "execution_count": 17,
   "id": "20e1852b-fc1b-4f8f-a4e0-82b686ef3c97",
   "metadata": {},
   "outputs": [],
   "source": [
    "# session1のデータの抽出(式を評価するengineとしてnumexprを使用することで、処理の高速化を狙う。)\n",
    "train_set = df.query('session_id == \"trial1\"', engine='numexpr')\n",
    "test_set = df.query('session_id == \"trial2\"', engine='numexpr')"
   ]
  },
  {
   "cell_type": "markdown",
   "id": "482e1ba3-1cef-4fe6-b8a7-8703a85ad3d5",
   "metadata": {},
   "source": [
    "# データのクリーニング"
   ]
  },
  {
   "cell_type": "code",
   "execution_count": 18,
   "id": "a1d84d9c-1980-4a27-8d75-beb407442735",
   "metadata": {},
   "outputs": [],
   "source": [
    "class DataFrameSelector(BaseEstimator, TransformerMixin):\n",
    "    '''\n",
    "    DataFrameから、属性を選択し、Numpy Arrayへ変換する変換器。\n",
    "    '''\n",
    "\n",
    "    def __init__(self, attribute_names: List) -> None:\n",
    "        self.attribute_names = attribute_names\n",
    "\n",
    "    def fit(self, X: pd.DataFrame, y=None):\n",
    "        return self\n",
    "\n",
    "    def transform(self, X: pd.DataFrame) -> np.ndarray:\n",
    "        return X[self.attribute_names].to_numpy()"
   ]
  },
  {
   "cell_type": "code",
   "execution_count": 19,
   "id": "3e8ad017-dd64-41af-b193-fb12bf8a02c0",
   "metadata": {},
   "outputs": [],
   "source": [
    "class ValueTransducer(BaseEstimator, TransformerMixin):\n",
    "    '''\n",
    "    値を他の値に変換する。\n",
    "    '''\n",
    "\n",
    "    def __init__(self, vals) -> None:\n",
    "        self.vals = vals\n",
    "\n",
    "    def fit(self, X: np.ndarray, y=None):\n",
    "        return self\n",
    "\n",
    "    def transform(self, X: np.ndarray) -> np.ndarray:\n",
    "        X_ = []\n",
    "        # Trueになる値->1, それ以外->0\n",
    "        for val in self.vals:\n",
    "            x_ = np.where(X == val, 1, 0)\n",
    "            X_.append(x_)\n",
    "        # ndarrayに変換\n",
    "        X_ = np.array(X_)\n",
    "\n",
    "        # 1次元配列にまとめる\n",
    "        label_list = []\n",
    "        for i in range(len(X)):\n",
    "            bool = X_[:, i].any()\n",
    "            label_list.append(int(bool))\n",
    "        # ndarrayに変換\n",
    "        label_np = np.array(label_list)\n",
    "\n",
    "        return label_np"
   ]
  },
  {
   "cell_type": "markdown",
   "id": "37e2b782-cf54-4986-8867-72863902304c",
   "metadata": {},
   "source": [
    "## 特徴量抽出パイプライン"
   ]
  },
  {
   "cell_type": "code",
   "execution_count": 20,
   "id": "a35ac3f1-fc20-457b-ab49-600e4cffc89a",
   "metadata": {},
   "outputs": [],
   "source": [
    "# 特徴量に該当する列の抽出\n",
    "feature_attribs = ['low_power', 'high_power', 'hlbr', 'coe1[0]',\t'coe1[1]', 'coe3[0]', 'coe3[1]', 'coe3[2]',\t'coe3[3]', 'ratio_max_to_10ms_ave_peaks', 'ratio_max_to_9th_ave_peaks', 'ac_std', 'ac_auc', 'diff_std', 'diff_auc',\t'srmr', 'gp_max_val_std', 'gp_max_val_range',\n",
    "                       'gp_max_val_min', 'gp_max_val_max', 'gp_max_val_mean', 'gp_max_ix_std', 'gp_max_ix_range', 'gp_max_ix_min', 'gp_max_ix_max', 'gp_max_ix_mean', 'gp_auc_std', 'gp_auc_range', 'gp_auc_min', 'gp_auc_max', 'gp_auc_mean',\t'tdoa_std', 'tdoa_range', 'tdoa_min', 'tdoa_max', 'tdoa_mean']"
   ]
  },
  {
   "cell_type": "code",
   "execution_count": 21,
   "id": "f65748da-dfc1-4ae9-8df0-7e9a1cd25130",
   "metadata": {},
   "outputs": [],
   "source": [
    "# pipeline\n",
    "features_pipeline = Pipeline([\n",
    "    ('selector', DataFrameSelector(feature_attribs)),\n",
    "    ('imputer', SimpleImputer(strategy=\"median\")),\n",
    "#     ('min_max_scaler', MinMaxScaler())\n",
    "])"
   ]
  },
  {
   "cell_type": "code",
   "execution_count": 22,
   "id": "d1f2b440-69a5-4ffe-ad11-f6a0b7d9fab9",
   "metadata": {},
   "outputs": [],
   "source": [
    "X_train = features_pipeline.fit_transform(train_set)"
   ]
  },
  {
   "cell_type": "code",
   "execution_count": 23,
   "id": "c387a787-7e47-4d7d-bb62-5cbf98c636fb",
   "metadata": {},
   "outputs": [],
   "source": [
    "X_test = features_pipeline.fit_transform(test_set)"
   ]
  },
  {
   "cell_type": "markdown",
   "id": "15178881-727e-4f12-8f27-73720021f0e7",
   "metadata": {},
   "source": [
    "## ラベル抽出パイプライン"
   ]
  },
  {
   "cell_type": "code",
   "execution_count": 24,
   "id": "bf8a8de8-76cf-434b-bcf2-2ab3af4d883b",
   "metadata": {},
   "outputs": [],
   "source": [
    "# 正解値labelを生成するpipeline\n",
    "label_attrib = ['dov_angle']\n",
    "facing_dov_angles = [0, 45, 315]"
   ]
  },
  {
   "cell_type": "code",
   "execution_count": 25,
   "id": "4b2087e2-8bd6-4494-9924-5551a2326141",
   "metadata": {},
   "outputs": [],
   "source": [
    "label_pipeline = Pipeline([\n",
    "    ('selector', DataFrameSelector(label_attrib)),\n",
    "    ('transducer', ValueTransducer(facing_dov_angles))\n",
    "])"
   ]
  },
  {
   "cell_type": "code",
   "execution_count": 26,
   "id": "0a0ed0a7-21c5-4152-9dbf-9d92d2be00d4",
   "metadata": {},
   "outputs": [],
   "source": [
    "y_train = label_pipeline.fit_transform(train_set)\n",
    "y_test = label_pipeline.fit_transform(test_set)"
   ]
  },
  {
   "cell_type": "markdown",
   "id": "997f59bc-49c4-414f-88ac-72b6b232872f",
   "metadata": {},
   "source": [
    "# 訓練"
   ]
  },
  {
   "cell_type": "code",
   "execution_count": 27,
   "id": "9366cc3b-bd69-43ab-8f57-9241b2592e60",
   "metadata": {},
   "outputs": [],
   "source": [
    "# 交差検証の結果を表示する\n",
    "def display_scores(scores):\n",
    "    print(\"Scores: \", scores)\n",
    "    print(\"Mean: \", scores.mean())\n",
    "    print(\"Standard deviation: \", scores.std())"
   ]
  },
  {
   "cell_type": "markdown",
   "id": "88f84304-034d-426d-9b51-79c7a6d04fdd",
   "metadata": {},
   "source": [
    "## Extra-Tree"
   ]
  },
  {
   "cell_type": "markdown",
   "id": "e6f52d4d-d10a-44a8-9993-85e0bb19ec5c",
   "metadata": {},
   "source": [
    "### Trial 1"
   ]
  },
  {
   "cell_type": "markdown",
   "id": "c05448e7-46d2-4563-93ec-21d8b0fc2aa0",
   "metadata": {},
   "source": [
    "#### 訓練"
   ]
  },
  {
   "cell_type": "code",
   "execution_count": 28,
   "id": "7347dcc3-6507-4172-8ea3-68acf490ff64",
   "metadata": {},
   "outputs": [],
   "source": [
    "from sklearn.model_selection import GridSearchCV"
   ]
  },
  {
   "cell_type": "code",
   "execution_count": 19,
   "id": "fc845722-0b65-4a07-93de-0346db759dbd",
   "metadata": {},
   "outputs": [],
   "source": [
    "param_grid = [\n",
    "    {'n_estimators': [2, 10, 100, 1000], 'min_samples_split': [2, 5, 10], 'min_samples_leaf': [1, 5, 10], 'max_features': ['sqrt', 'log2', None], 'bootstrap': [False], 'n_jobs': [-1], 'random_state': [42], 'max_samples': [0.01, 0.5, 0.09]},\n",
    "    {'n_estimators': [2, 10, 100, 1000], 'min_samples_split': [2, 5, 10], 'min_samples_leaf': [1, 5, 10], 'max_features': ['sqrt', 'log2', None], 'bootstrap': [True], 'oob_score': [True, False], 'n_jobs': [-1], 'random_state': [42], 'max_samples': [0.01, 0.5, 0.09]}\n",
    "]"
   ]
  },
  {
   "cell_type": "code",
   "execution_count": 31,
   "id": "03d03a50-10d0-42c0-abb2-38406f9ccbcd",
   "metadata": {},
   "outputs": [],
   "source": [
    "param_grid = [\n",
    "    {'n_estimators': [10], 'min_samples_split': [2], 'min_samples_leaf': [5], 'max_features': [None], 'bootstrap': [False], 'n_jobs': [-1], 'random_state': [42], 'max_samples': [0.5]}\n",
    "]"
   ]
  },
  {
   "cell_type": "code",
   "execution_count": 32,
   "id": "a6baff93-15a5-4c6f-81f3-d9fdd6a1e428",
   "metadata": {},
   "outputs": [],
   "source": [
    "ext_clf = ExtraTreesClassifier()\n",
    "ext_grid_search = GridSearchCV(estimator=ext_clf, param_grid=param_grid, scoring=['accuracy', 'balanced_accuracy', 'f1'], n_jobs=-1, refit='accuracy', cv=5, return_train_score=True)"
   ]
  },
  {
   "cell_type": "code",
   "execution_count": 33,
   "id": "fce0595d-5f7d-4df6-b207-19c6629410b3",
   "metadata": {},
   "outputs": [
    {
     "data": {
      "text/plain": [
       "GridSearchCV(cv=5, estimator=ExtraTreesClassifier(), n_jobs=-1,\n",
       "             param_grid=[{'bootstrap': [False], 'max_features': [None],\n",
       "                          'max_samples': [0.5], 'min_samples_leaf': [5],\n",
       "                          'min_samples_split': [2], 'n_estimators': [10],\n",
       "                          'n_jobs': [-1], 'random_state': [42]}],\n",
       "             refit='accuracy', return_train_score=True,\n",
       "             scoring=['accuracy', 'balanced_accuracy', 'f1'])"
      ]
     },
     "execution_count": 33,
     "metadata": {},
     "output_type": "execute_result"
    }
   ],
   "source": [
    "ext_grid_search.fit(X_train, y_train)"
   ]
  },
  {
   "cell_type": "code",
   "execution_count": 23,
   "id": "db451d25-1ec3-4b5d-a356-9c630fe1e798",
   "metadata": {},
   "outputs": [
    {
     "data": {
      "text/html": [
       "<div>\n",
       "<style scoped>\n",
       "    .dataframe tbody tr th:only-of-type {\n",
       "        vertical-align: middle;\n",
       "    }\n",
       "\n",
       "    .dataframe tbody tr th {\n",
       "        vertical-align: top;\n",
       "    }\n",
       "\n",
       "    .dataframe thead th {\n",
       "        text-align: right;\n",
       "    }\n",
       "</style>\n",
       "<table border=\"1\" class=\"dataframe\">\n",
       "  <thead>\n",
       "    <tr style=\"text-align: right;\">\n",
       "      <th></th>\n",
       "      <th>mean_fit_time</th>\n",
       "      <th>std_fit_time</th>\n",
       "      <th>mean_score_time</th>\n",
       "      <th>std_score_time</th>\n",
       "      <th>param_bootstrap</th>\n",
       "      <th>param_max_features</th>\n",
       "      <th>param_max_samples</th>\n",
       "      <th>param_min_samples_leaf</th>\n",
       "      <th>param_min_samples_split</th>\n",
       "      <th>param_n_estimators</th>\n",
       "      <th>...</th>\n",
       "      <th>mean_test_f1</th>\n",
       "      <th>std_test_f1</th>\n",
       "      <th>rank_test_f1</th>\n",
       "      <th>split0_train_f1</th>\n",
       "      <th>split1_train_f1</th>\n",
       "      <th>split2_train_f1</th>\n",
       "      <th>split3_train_f1</th>\n",
       "      <th>split4_train_f1</th>\n",
       "      <th>mean_train_f1</th>\n",
       "      <th>std_train_f1</th>\n",
       "    </tr>\n",
       "  </thead>\n",
       "  <tbody>\n",
       "    <tr>\n",
       "      <th>0</th>\n",
       "      <td>0.035842</td>\n",
       "      <td>0.007772</td>\n",
       "      <td>0.022638</td>\n",
       "      <td>0.005836</td>\n",
       "      <td>False</td>\n",
       "      <td>sqrt</td>\n",
       "      <td>0.01</td>\n",
       "      <td>1</td>\n",
       "      <td>2</td>\n",
       "      <td>2</td>\n",
       "      <td>...</td>\n",
       "      <td>0.428745</td>\n",
       "      <td>0.098021</td>\n",
       "      <td>864</td>\n",
       "      <td>1.000000</td>\n",
       "      <td>1.000000</td>\n",
       "      <td>1.000000</td>\n",
       "      <td>1.000000</td>\n",
       "      <td>1.000000</td>\n",
       "      <td>1.000000</td>\n",
       "      <td>0.000000</td>\n",
       "    </tr>\n",
       "    <tr>\n",
       "      <th>1</th>\n",
       "      <td>0.058388</td>\n",
       "      <td>0.009000</td>\n",
       "      <td>0.016288</td>\n",
       "      <td>0.003961</td>\n",
       "      <td>False</td>\n",
       "      <td>sqrt</td>\n",
       "      <td>0.01</td>\n",
       "      <td>1</td>\n",
       "      <td>2</td>\n",
       "      <td>10</td>\n",
       "      <td>...</td>\n",
       "      <td>0.543205</td>\n",
       "      <td>0.073517</td>\n",
       "      <td>343</td>\n",
       "      <td>1.000000</td>\n",
       "      <td>1.000000</td>\n",
       "      <td>1.000000</td>\n",
       "      <td>1.000000</td>\n",
       "      <td>1.000000</td>\n",
       "      <td>1.000000</td>\n",
       "      <td>0.000000</td>\n",
       "    </tr>\n",
       "    <tr>\n",
       "      <th>2</th>\n",
       "      <td>0.437997</td>\n",
       "      <td>0.017923</td>\n",
       "      <td>0.042817</td>\n",
       "      <td>0.002756</td>\n",
       "      <td>False</td>\n",
       "      <td>sqrt</td>\n",
       "      <td>0.01</td>\n",
       "      <td>1</td>\n",
       "      <td>2</td>\n",
       "      <td>100</td>\n",
       "      <td>...</td>\n",
       "      <td>0.563058</td>\n",
       "      <td>0.063490</td>\n",
       "      <td>217</td>\n",
       "      <td>1.000000</td>\n",
       "      <td>1.000000</td>\n",
       "      <td>1.000000</td>\n",
       "      <td>1.000000</td>\n",
       "      <td>1.000000</td>\n",
       "      <td>1.000000</td>\n",
       "      <td>0.000000</td>\n",
       "    </tr>\n",
       "    <tr>\n",
       "      <th>3</th>\n",
       "      <td>7.528751</td>\n",
       "      <td>0.240522</td>\n",
       "      <td>0.890580</td>\n",
       "      <td>0.034091</td>\n",
       "      <td>False</td>\n",
       "      <td>sqrt</td>\n",
       "      <td>0.01</td>\n",
       "      <td>1</td>\n",
       "      <td>2</td>\n",
       "      <td>1000</td>\n",
       "      <td>...</td>\n",
       "      <td>0.565558</td>\n",
       "      <td>0.061481</td>\n",
       "      <td>191</td>\n",
       "      <td>1.000000</td>\n",
       "      <td>1.000000</td>\n",
       "      <td>1.000000</td>\n",
       "      <td>1.000000</td>\n",
       "      <td>1.000000</td>\n",
       "      <td>1.000000</td>\n",
       "      <td>0.000000</td>\n",
       "    </tr>\n",
       "    <tr>\n",
       "      <th>4</th>\n",
       "      <td>0.146725</td>\n",
       "      <td>0.077780</td>\n",
       "      <td>0.007455</td>\n",
       "      <td>0.000380</td>\n",
       "      <td>False</td>\n",
       "      <td>sqrt</td>\n",
       "      <td>0.01</td>\n",
       "      <td>1</td>\n",
       "      <td>5</td>\n",
       "      <td>2</td>\n",
       "      <td>...</td>\n",
       "      <td>0.491077</td>\n",
       "      <td>0.057995</td>\n",
       "      <td>747</td>\n",
       "      <td>0.966392</td>\n",
       "      <td>0.963116</td>\n",
       "      <td>0.968842</td>\n",
       "      <td>0.967988</td>\n",
       "      <td>0.964948</td>\n",
       "      <td>0.966257</td>\n",
       "      <td>0.002063</td>\n",
       "    </tr>\n",
       "    <tr>\n",
       "      <th>5</th>\n",
       "      <td>0.129029</td>\n",
       "      <td>0.090469</td>\n",
       "      <td>0.012284</td>\n",
       "      <td>0.001006</td>\n",
       "      <td>False</td>\n",
       "      <td>sqrt</td>\n",
       "      <td>0.01</td>\n",
       "      <td>1</td>\n",
       "      <td>5</td>\n",
       "      <td>10</td>\n",
       "      <td>...</td>\n",
       "      <td>0.561852</td>\n",
       "      <td>0.064248</td>\n",
       "      <td>227</td>\n",
       "      <td>0.997681</td>\n",
       "      <td>0.998841</td>\n",
       "      <td>0.999132</td>\n",
       "      <td>0.998842</td>\n",
       "      <td>0.998843</td>\n",
       "      <td>0.998668</td>\n",
       "      <td>0.000506</td>\n",
       "    </tr>\n",
       "    <tr>\n",
       "      <th>6</th>\n",
       "      <td>0.387958</td>\n",
       "      <td>0.065177</td>\n",
       "      <td>0.054027</td>\n",
       "      <td>0.011887</td>\n",
       "      <td>False</td>\n",
       "      <td>sqrt</td>\n",
       "      <td>0.01</td>\n",
       "      <td>1</td>\n",
       "      <td>5</td>\n",
       "      <td>100</td>\n",
       "      <td>...</td>\n",
       "      <td>0.565363</td>\n",
       "      <td>0.065670</td>\n",
       "      <td>194</td>\n",
       "      <td>1.000000</td>\n",
       "      <td>0.999711</td>\n",
       "      <td>0.999711</td>\n",
       "      <td>1.000000</td>\n",
       "      <td>0.999711</td>\n",
       "      <td>0.999826</td>\n",
       "      <td>0.000142</td>\n",
       "    </tr>\n",
       "    <tr>\n",
       "      <th>7</th>\n",
       "      <td>8.063670</td>\n",
       "      <td>0.460066</td>\n",
       "      <td>0.884824</td>\n",
       "      <td>0.077372</td>\n",
       "      <td>False</td>\n",
       "      <td>sqrt</td>\n",
       "      <td>0.01</td>\n",
       "      <td>1</td>\n",
       "      <td>5</td>\n",
       "      <td>1000</td>\n",
       "      <td>...</td>\n",
       "      <td>0.559580</td>\n",
       "      <td>0.064639</td>\n",
       "      <td>240</td>\n",
       "      <td>0.999711</td>\n",
       "      <td>0.999711</td>\n",
       "      <td>1.000000</td>\n",
       "      <td>1.000000</td>\n",
       "      <td>1.000000</td>\n",
       "      <td>0.999884</td>\n",
       "      <td>0.000142</td>\n",
       "    </tr>\n",
       "    <tr>\n",
       "      <th>8</th>\n",
       "      <td>0.040952</td>\n",
       "      <td>0.036384</td>\n",
       "      <td>0.014958</td>\n",
       "      <td>0.006641</td>\n",
       "      <td>False</td>\n",
       "      <td>sqrt</td>\n",
       "      <td>0.01</td>\n",
       "      <td>1</td>\n",
       "      <td>10</td>\n",
       "      <td>2</td>\n",
       "      <td>...</td>\n",
       "      <td>0.521351</td>\n",
       "      <td>0.056619</td>\n",
       "      <td>530</td>\n",
       "      <td>0.869697</td>\n",
       "      <td>0.877707</td>\n",
       "      <td>0.886267</td>\n",
       "      <td>0.876704</td>\n",
       "      <td>0.876289</td>\n",
       "      <td>0.877333</td>\n",
       "      <td>0.005287</td>\n",
       "    </tr>\n",
       "    <tr>\n",
       "      <th>9</th>\n",
       "      <td>0.039043</td>\n",
       "      <td>0.007607</td>\n",
       "      <td>0.014090</td>\n",
       "      <td>0.005064</td>\n",
       "      <td>False</td>\n",
       "      <td>sqrt</td>\n",
       "      <td>0.01</td>\n",
       "      <td>1</td>\n",
       "      <td>10</td>\n",
       "      <td>10</td>\n",
       "      <td>...</td>\n",
       "      <td>0.551261</td>\n",
       "      <td>0.072347</td>\n",
       "      <td>286</td>\n",
       "      <td>0.948153</td>\n",
       "      <td>0.950477</td>\n",
       "      <td>0.948901</td>\n",
       "      <td>0.951132</td>\n",
       "      <td>0.954789</td>\n",
       "      <td>0.950690</td>\n",
       "      <td>0.002310</td>\n",
       "    </tr>\n",
       "  </tbody>\n",
       "</table>\n",
       "<p>10 rows × 59 columns</p>\n",
       "</div>"
      ],
      "text/plain": [
       "   mean_fit_time  std_fit_time  mean_score_time  std_score_time  \\\n",
       "0       0.035842      0.007772         0.022638        0.005836   \n",
       "1       0.058388      0.009000         0.016288        0.003961   \n",
       "2       0.437997      0.017923         0.042817        0.002756   \n",
       "3       7.528751      0.240522         0.890580        0.034091   \n",
       "4       0.146725      0.077780         0.007455        0.000380   \n",
       "5       0.129029      0.090469         0.012284        0.001006   \n",
       "6       0.387958      0.065177         0.054027        0.011887   \n",
       "7       8.063670      0.460066         0.884824        0.077372   \n",
       "8       0.040952      0.036384         0.014958        0.006641   \n",
       "9       0.039043      0.007607         0.014090        0.005064   \n",
       "\n",
       "  param_bootstrap param_max_features param_max_samples param_min_samples_leaf  \\\n",
       "0           False               sqrt              0.01                      1   \n",
       "1           False               sqrt              0.01                      1   \n",
       "2           False               sqrt              0.01                      1   \n",
       "3           False               sqrt              0.01                      1   \n",
       "4           False               sqrt              0.01                      1   \n",
       "5           False               sqrt              0.01                      1   \n",
       "6           False               sqrt              0.01                      1   \n",
       "7           False               sqrt              0.01                      1   \n",
       "8           False               sqrt              0.01                      1   \n",
       "9           False               sqrt              0.01                      1   \n",
       "\n",
       "  param_min_samples_split param_n_estimators  ... mean_test_f1 std_test_f1  \\\n",
       "0                       2                  2  ...     0.428745    0.098021   \n",
       "1                       2                 10  ...     0.543205    0.073517   \n",
       "2                       2                100  ...     0.563058    0.063490   \n",
       "3                       2               1000  ...     0.565558    0.061481   \n",
       "4                       5                  2  ...     0.491077    0.057995   \n",
       "5                       5                 10  ...     0.561852    0.064248   \n",
       "6                       5                100  ...     0.565363    0.065670   \n",
       "7                       5               1000  ...     0.559580    0.064639   \n",
       "8                      10                  2  ...     0.521351    0.056619   \n",
       "9                      10                 10  ...     0.551261    0.072347   \n",
       "\n",
       "  rank_test_f1 split0_train_f1  split1_train_f1  split2_train_f1  \\\n",
       "0          864        1.000000         1.000000         1.000000   \n",
       "1          343        1.000000         1.000000         1.000000   \n",
       "2          217        1.000000         1.000000         1.000000   \n",
       "3          191        1.000000         1.000000         1.000000   \n",
       "4          747        0.966392         0.963116         0.968842   \n",
       "5          227        0.997681         0.998841         0.999132   \n",
       "6          194        1.000000         0.999711         0.999711   \n",
       "7          240        0.999711         0.999711         1.000000   \n",
       "8          530        0.869697         0.877707         0.886267   \n",
       "9          286        0.948153         0.950477         0.948901   \n",
       "\n",
       "   split3_train_f1  split4_train_f1  mean_train_f1  std_train_f1  \n",
       "0         1.000000         1.000000       1.000000      0.000000  \n",
       "1         1.000000         1.000000       1.000000      0.000000  \n",
       "2         1.000000         1.000000       1.000000      0.000000  \n",
       "3         1.000000         1.000000       1.000000      0.000000  \n",
       "4         0.967988         0.964948       0.966257      0.002063  \n",
       "5         0.998842         0.998843       0.998668      0.000506  \n",
       "6         1.000000         0.999711       0.999826      0.000142  \n",
       "7         1.000000         1.000000       0.999884      0.000142  \n",
       "8         0.876704         0.876289       0.877333      0.005287  \n",
       "9         0.951132         0.954789       0.950690      0.002310  \n",
       "\n",
       "[10 rows x 59 columns]"
      ]
     },
     "execution_count": 23,
     "metadata": {},
     "output_type": "execute_result"
    }
   ],
   "source": [
    "cvres_grid_search = ext_grid_search.cv_results_\n",
    "pd.DataFrame(cvres_grid_search)[:10]"
   ]
  },
  {
   "cell_type": "code",
   "execution_count": 24,
   "id": "bf5ec489-a955-4e3f-99d8-02b6ebc6d31b",
   "metadata": {},
   "outputs": [
    {
     "data": {
      "text/plain": [
       "{'bootstrap': True,\n",
       " 'max_features': None,\n",
       " 'max_samples': 0.09,\n",
       " 'min_samples_leaf': 5,\n",
       " 'min_samples_split': 2,\n",
       " 'n_estimators': 10,\n",
       " 'n_jobs': -1,\n",
       " 'oob_score': True,\n",
       " 'random_state': 42}"
      ]
     },
     "execution_count": 24,
     "metadata": {},
     "output_type": "execute_result"
    }
   ],
   "source": [
    "ext_grid_search.best_params_"
   ]
  },
  {
   "cell_type": "code",
   "execution_count": 25,
   "id": "afabbfb4-8eec-4d8a-90f5-d562ade977e0",
   "metadata": {},
   "outputs": [
    {
     "data": {
      "text/plain": [
       "0.7211805555555555"
      ]
     },
     "execution_count": 25,
     "metadata": {},
     "output_type": "execute_result"
    }
   ],
   "source": [
    "ext_grid_search.best_score_"
   ]
  },
  {
   "cell_type": "code",
   "execution_count": 27,
   "id": "3578cedf-83fa-444f-8657-418afae5b95a",
   "metadata": {},
   "outputs": [
    {
     "data": {
      "text/plain": [
       "['./pkl/ext_best_estimator_gridsearch_211008_1.pkl']"
      ]
     },
     "execution_count": 27,
     "metadata": {},
     "output_type": "execute_result"
    }
   ],
   "source": [
    "# モデルの保存\n",
    "joblib.dump(ext_grid_search.best_estimator_, './pkl/ext_best_estimator_gridsearch_211008_1.pkl')"
   ]
  },
  {
   "cell_type": "markdown",
   "id": "fcc170a9-1a8f-425c-b4be-d0732accf922",
   "metadata": {},
   "source": [
    "#### 検証"
   ]
  },
  {
   "cell_type": "code",
   "execution_count": 40,
   "id": "9c1522f1-da09-4da3-89b6-119ffabe25ab",
   "metadata": {},
   "outputs": [],
   "source": [
    "best_ext_clf = ext_grid_search.best_estimator_"
   ]
  },
  {
   "cell_type": "code",
   "execution_count": 41,
   "id": "95597702-fec3-4c75-8ff9-df866514ae0a",
   "metadata": {},
   "outputs": [
    {
     "data": {
      "text/plain": [
       "0.7451388888888889"
      ]
     },
     "execution_count": 41,
     "metadata": {},
     "output_type": "execute_result"
    }
   ],
   "source": [
    "best_ext_clf.score(X_test, y_test)"
   ]
  },
  {
   "cell_type": "code",
   "execution_count": 34,
   "id": "305ad179-56e8-4304-8b34-63517f92a554",
   "metadata": {},
   "outputs": [],
   "source": [
    "# K分割交差検証\n",
    "y_test_pred = cross_val_predict(best_ext_clf, X_test, y_test, cv=3)\n",
    "res = confusion_matrix(y_test, y_test_pred)"
   ]
  },
  {
   "cell_type": "code",
   "execution_count": 31,
   "id": "f69d3485-a9e2-477d-ae07-6d0f1c73689f",
   "metadata": {},
   "outputs": [
    {
     "data": {
      "text/plain": [
       "0.5886255924170616"
      ]
     },
     "execution_count": 31,
     "metadata": {},
     "output_type": "execute_result"
    }
   ],
   "source": [
    "f1_score(y_test, y_test_pred)"
   ]
  },
  {
   "cell_type": "code",
   "execution_count": 42,
   "id": "d0b8efbf-8802-4b21-869f-b1ef668eace8",
   "metadata": {},
   "outputs": [],
   "source": [
    "# cross_validation\n",
    "scoring = ['accuracy', 'balanced_accuracy', 'f1']\n",
    "scores = cross_validate(best_ext_clf, X_test, y_test, scoring = scoring, cv=10, n_jobs=-1)"
   ]
  },
  {
   "cell_type": "code",
   "execution_count": 47,
   "id": "53815bb8-67e6-4da4-97cc-0f45ef45c4d2",
   "metadata": {},
   "outputs": [
    {
     "data": {
      "text/plain": [
       "{'fit_time': array([0.14454913, 0.15962386, 0.16170597, 0.14397693, 0.14302015,\n",
       "        0.14372611, 0.15390587, 0.16117883, 0.15734506, 0.14432096]),\n",
       " 'score_time': array([0.01057172, 0.010252  , 0.00922513, 0.01040578, 0.0111208 ,\n",
       "        0.01080179, 0.01005793, 0.01041412, 0.00999999, 0.0106678 ]),\n",
       " 'test_accuracy': array([0.59375   , 0.71180556, 0.76736111, 0.72395833, 0.76041667,\n",
       "        0.69618056, 0.71701389, 0.73263889, 0.72916667, 0.68402778]),\n",
       " 'test_balanced_accuracy': array([0.65833333, 0.71759259, 0.72222222, 0.64305556, 0.71018519,\n",
       "        0.63472222, 0.71712963, 0.66759259, 0.69722222, 0.58703704]),\n",
       " 'test_f1': array([0.62857143, 0.65843621, 0.63586957, 0.46464646, 0.61452514,\n",
       "        0.48979592, 0.65539112, 0.53333333, 0.6119403 , 0.32089552])}"
      ]
     },
     "execution_count": 47,
     "metadata": {},
     "output_type": "execute_result"
    }
   ],
   "source": [
    "scores"
   ]
  },
  {
   "cell_type": "code",
   "execution_count": 46,
   "id": "26744d80-738a-4112-b720-6dc86745237f",
   "metadata": {},
   "outputs": [
    {
     "data": {
      "text/plain": [
       "0.7116319444444444"
      ]
     },
     "execution_count": 46,
     "metadata": {},
     "output_type": "execute_result"
    }
   ],
   "source": [
    "np.mean(scores['test_accuracy'])"
   ]
  },
  {
   "cell_type": "markdown",
   "id": "cf812819-a25a-4864-8000-0a9c0e303125",
   "metadata": {},
   "source": [
    "### Trial 2"
   ]
  },
  {
   "cell_type": "code",
   "execution_count": 16,
   "id": "a7a99fb2-9688-4399-bce9-c1f855d57535",
   "metadata": {},
   "outputs": [],
   "source": [
    "# for ext_best_estimator_gridsearch_211012_1.pkl\n",
    "param_grid = [\n",
    "    {'n_estimators': [5, 10, 20, 30, 40, 50, 60], 'min_samples_split': [2, 3, 4], 'min_samples_leaf': [3, 5, 8], 'max_features': [None], 'bootstrap': [True], 'oob_score': [True],'n_jobs': [-1], 'random_state': [42], 'max_samples': [None, 0.09]}\n",
    "]\n",
    "\n",
    "# best params\n",
    "# {'bootstrap': True,\n",
    "#  'max_features': None,\n",
    "#  'max_samples': 0.09,\n",
    "#  'min_samples_leaf': 5,\n",
    "#  'min_samples_split': 2,\n",
    "#  'n_estimators': 10,\n",
    "#  'n_jobs': -1,\n",
    "#  'oob_score': True,\n",
    "#  'random_state': 42}"
   ]
  },
  {
   "cell_type": "code",
   "execution_count": 25,
   "id": "531dadff-aee7-4ce9-90e1-c03ae7d2c950",
   "metadata": {},
   "outputs": [],
   "source": [
    "# for ext_best_estimator_gridsearch_211012_2.pkl\n",
    "param_grid = [\n",
    "    {'n_estimators': [6, 7, 8, 9, 10, 11, 12, 13, 14, 15, 16], 'min_samples_split': [2], 'min_samples_leaf': [4, 5, 6, 7], 'max_features': [None], 'bootstrap': [True], 'oob_score': [True],'n_jobs': [-1], 'random_state': [42], 'max_samples': [0.09]}\n",
    "]\n",
    "\n",
    "# best params\n",
    "# {'bootstrap': True,\n",
    "#  'max_features': None,\n",
    "#  'max_samples': 0.09,\n",
    "#  'min_samples_leaf': 5,\n",
    "#  'min_samples_split': 2,\n",
    "#  'n_estimators': 7,\n",
    "#  'n_jobs': -1,\n",
    "#  'oob_score': True,\n",
    "#  'random_state': 42}\n",
    "\n",
    "# result\n",
    "# 0.7395833333333334\n",
    "# array([[2707,  893],\n",
    "#       [ 905, 1255]])\n",
    "# f1: 0.5826369545032497"
   ]
  },
  {
   "cell_type": "code",
   "execution_count": 26,
   "id": "25432381-cb9b-42ab-80b8-5296f416e106",
   "metadata": {},
   "outputs": [
    {
     "data": {
      "text/plain": [
       "GridSearchCV(cv=5, estimator=ExtraTreesClassifier(), n_jobs=-1,\n",
       "             param_grid=[{'bootstrap': [True], 'max_features': [None],\n",
       "                          'max_samples': [0.09],\n",
       "                          'min_samples_leaf': [4, 5, 6, 7],\n",
       "                          'min_samples_split': [2],\n",
       "                          'n_estimators': [6, 7, 8, 9, 10, 11, 12, 13, 14, 15,\n",
       "                                           16],\n",
       "                          'n_jobs': [-1], 'oob_score': [True],\n",
       "                          'random_state': [42]}],\n",
       "             refit='accuracy', scoring=['accuracy', 'balanced_accuracy', 'f1'])"
      ]
     },
     "execution_count": 26,
     "metadata": {},
     "output_type": "execute_result"
    }
   ],
   "source": [
    "ext_clf = ExtraTreesClassifier()\n",
    "ext_grid_search = GridSearchCV(estimator=ext_clf, param_grid=param_grid, scoring=['accuracy', 'balanced_accuracy', 'f1'], n_jobs=-1, refit='accuracy', cv=5)\n",
    "ext_grid_search.fit(X_train, y_train)"
   ]
  },
  {
   "cell_type": "code",
   "execution_count": 27,
   "id": "84ac1952-a76d-4bcc-8b16-65e12ec9403f",
   "metadata": {},
   "outputs": [
    {
     "data": {
      "text/plain": [
       "{'bootstrap': True,\n",
       " 'max_features': None,\n",
       " 'max_samples': 0.09,\n",
       " 'min_samples_leaf': 5,\n",
       " 'min_samples_split': 2,\n",
       " 'n_estimators': 7,\n",
       " 'n_jobs': -1,\n",
       " 'oob_score': True,\n",
       " 'random_state': 42}"
      ]
     },
     "execution_count": 27,
     "metadata": {},
     "output_type": "execute_result"
    }
   ],
   "source": [
    "ext_grid_search.best_params_"
   ]
  },
  {
   "cell_type": "code",
   "execution_count": 28,
   "id": "407213d7-929f-41ea-911a-b5cbc2b7d3c5",
   "metadata": {},
   "outputs": [
    {
     "data": {
      "text/plain": [
       "['./pkl/ext_best_estimator_gridsearch_211012_2.pkl']"
      ]
     },
     "execution_count": 28,
     "metadata": {},
     "output_type": "execute_result"
    }
   ],
   "source": [
    "joblib.dump(ext_grid_search.best_estimator_, './pkl/ext_best_estimator_gridsearch_211012_2.pkl')"
   ]
  },
  {
   "cell_type": "markdown",
   "id": "bafcbe8f-a192-4b63-b0d1-61aa454bc939",
   "metadata": {},
   "source": [
    "#### 検証"
   ]
  },
  {
   "cell_type": "code",
   "execution_count": 29,
   "id": "20138a93-2f1f-498c-adb4-c50b1af84cff",
   "metadata": {},
   "outputs": [],
   "source": [
    "ext_clf = ext_grid_search.best_estimator_"
   ]
  },
  {
   "cell_type": "code",
   "execution_count": 30,
   "id": "b2120692-f6c4-4fcb-9d4b-052011c37546",
   "metadata": {},
   "outputs": [
    {
     "data": {
      "text/plain": [
       "0.7395833333333334"
      ]
     },
     "execution_count": 30,
     "metadata": {},
     "output_type": "execute_result"
    }
   ],
   "source": [
    "ext_clf.score(X_test, y_test)"
   ]
  },
  {
   "cell_type": "code",
   "execution_count": 31,
   "id": "fe66c3b0-bbb7-4862-9665-eb3afe48f9a5",
   "metadata": {},
   "outputs": [
    {
     "data": {
      "text/plain": [
       "array([[2707,  893],\n",
       "       [ 905, 1255]])"
      ]
     },
     "execution_count": 31,
     "metadata": {},
     "output_type": "execute_result"
    }
   ],
   "source": [
    "y_test_pred = cross_val_predict(ext_clf, X_test, y_test, cv=3)\n",
    "confusion_matrix(y_test, y_test_pred)"
   ]
  },
  {
   "cell_type": "code",
   "execution_count": 46,
   "id": "84317235-b1b5-4e1f-b050-debfaf6bd845",
   "metadata": {},
   "outputs": [
    {
     "name": "stdout",
     "output_type": "stream",
     "text": [
      "Scores:  [0.59375    0.71875    0.75868056 0.72743056 0.75520833 0.70138889\n",
      " 0.74131944 0.72048611 0.76909722 0.68923611]\n",
      "Mean:  0.7175347222222224\n",
      "Standard deviation:  0.04777965768669139\n"
     ]
    }
   ],
   "source": [
    "# 交差検証\n",
    "scores = cross_val_score(ext_clf, X_test, y_test, scoring=\"accuracy\", cv=10)\n",
    "display_scores(scores)"
   ]
  },
  {
   "cell_type": "code",
   "execution_count": 47,
   "id": "03c3e4fe-e95f-43dc-9bf7-a40dcf245b52",
   "metadata": {},
   "outputs": [
    {
     "name": "stdout",
     "output_type": "stream",
     "text": [
      "Scores:  [0.63177083 0.71927083 0.7265625 ]\n",
      "Mean:  0.6925347222222222\n",
      "Standard deviation:  0.043069554175932466\n"
     ]
    }
   ],
   "source": [
    "# 交差検証\n",
    "scores = cross_val_score(ext_clf, X_test, y_test, scoring=\"accuracy\", cv=3)\n",
    "display_scores(scores)"
   ]
  },
  {
   "cell_type": "code",
   "execution_count": 32,
   "id": "b520488a-3e8c-496a-be0c-ceb01e2ce98d",
   "metadata": {},
   "outputs": [
    {
     "data": {
      "text/plain": [
       "0.5826369545032497"
      ]
     },
     "execution_count": 32,
     "metadata": {},
     "output_type": "execute_result"
    }
   ],
   "source": [
    "f1_score(y_test, y_test_pred)"
   ]
  },
  {
   "cell_type": "markdown",
   "id": "515adc14-5b67-436b-aaf1-d3f123e3d3df",
   "metadata": {},
   "source": [
    "## Random Forest"
   ]
  },
  {
   "cell_type": "markdown",
   "id": "41ab54e6-3767-474f-8821-dbe0b5639dde",
   "metadata": {},
   "source": [
    "### 訓練"
   ]
  },
  {
   "cell_type": "code",
   "execution_count": 38,
   "id": "c9a8b0b1-5992-4291-8fb5-5ebe00e2f35f",
   "metadata": {},
   "outputs": [],
   "source": [
    "param_grid = [\n",
    "    {'n_estimators': [2, 10, 100, 1000], 'min_samples_split': [2, 5, 10], 'min_samples_leaf': [1, 5, 10], 'max_features': ['sqrt', 'log2', None], 'bootstrap': [False], 'n_jobs': [-1], 'random_state': [42], 'max_samples': [0.01, 0.5, 0.09]},\n",
    "    {'n_estimators': [2, 10, 100, 1000], 'min_samples_split': [2, 5, 10], 'min_samples_leaf': [1, 5, 10], 'max_features': ['sqrt', 'log2', None], 'bootstrap': [True], 'oob_score': [True, False], 'n_jobs': [-1], 'random_state': [42], 'max_samples': [0.01, 0.5, 0.09]}\n",
    "]"
   ]
  },
  {
   "cell_type": "code",
   "execution_count": 39,
   "id": "3b5b2ac2-6fb0-4a3d-beea-0ff3cf69cd7c",
   "metadata": {},
   "outputs": [],
   "source": [
    "rnd_clf = RandomForestClassifier()\n",
    "rnd_grid_search = GridSearchCV(estimator=rnd_clf, param_grid=param_grid, scoring=['accuracy', 'balanced_accuracy', 'f1'], n_jobs=-1, refit='accuracy', cv=5, return_train_score=True)"
   ]
  },
  {
   "cell_type": "code",
   "execution_count": null,
   "id": "4b7a51a8-ad80-4521-b349-77bffe952b11",
   "metadata": {},
   "outputs": [],
   "source": [
    "rnd_grid_search.fit(X_train, y_train)"
   ]
  },
  {
   "cell_type": "markdown",
   "id": "7245a5e9-d0bc-4f7d-bdd7-a58cdc9c1e11",
   "metadata": {},
   "source": [
    "### 検証"
   ]
  },
  {
   "cell_type": "markdown",
   "id": "4e087c29-2fe0-4f95-bd53-bd1b74c6836d",
   "metadata": {},
   "source": [
    "## 特徴量の重要度"
   ]
  },
  {
   "cell_type": "code",
   "execution_count": 49,
   "id": "a757f461-600f-474f-8865-73132a810f39",
   "metadata": {},
   "outputs": [],
   "source": [
    "def RecFeaturesImportance(model, feature_attrbs):\n",
    "  feature_score = {}\n",
    "  for name, score in zip(feature_attrbs, model.feature_importances_):\n",
    "    feature_score[name] = score\n",
    "  \n",
    "  # sort\n",
    "  feature_score_sorted = sorted(feature_score.items(), key=lambda x:x[1], reverse=True)\n",
    "  return feature_score_sorted"
   ]
  },
  {
   "cell_type": "code",
   "execution_count": 50,
   "id": "5cb09d2f-3d12-4c08-92d6-d714fae6a879",
   "metadata": {},
   "outputs": [
    {
     "data": {
      "text/plain": [
       "[('high_power', 0.16054591945518026),\n",
       " ('diff_std', 0.1544123883534813),\n",
       " ('hlbr', 0.094466471580454),\n",
       " ('diff_auc', 0.06991451431884008),\n",
       " ('srmr', 0.04334347839668752),\n",
       " ('coe1[1]', 0.04144773282016976),\n",
       " ('coe1[0]', 0.03570185457401731),\n",
       " ('ac_auc', 0.027006805517937625),\n",
       " ('gp_auc_max', 0.02648309034749241),\n",
       " ('coe3[3]', 0.026413032759559318),\n",
       " ('gp_max_val_mean', 0.023999624715158117),\n",
       " ('coe3[2]', 0.02264709285304872),\n",
       " ('low_power', 0.019940151871501312),\n",
       " ('ratio_max_to_10ms_ave_peaks', 0.019565034637140297),\n",
       " ('gp_auc_std', 0.019050401149591854),\n",
       " ('gp_max_val_max', 0.01820756521598376),\n",
       " ('ratio_max_to_9th_ave_peaks', 0.018204867732130113),\n",
       " ('gp_auc_min', 0.016490738354835267),\n",
       " ('gp_max_val_std', 0.016380211187951313),\n",
       " ('gp_auc_mean', 0.016242079244455566),\n",
       " ('gp_max_val_min', 0.016188220486631856),\n",
       " ('gp_max_val_range', 0.015330202484472139),\n",
       " ('ac_std', 0.01512506717508883),\n",
       " ('gp_auc_range', 0.014512044407477928),\n",
       " ('tdoa_max', 0.0092535279515857),\n",
       " ('gp_max_ix_mean', 0.007865125076328555),\n",
       " ('gp_max_ix_range', 0.007862590171146358),\n",
       " ('gp_max_ix_max', 0.007476437460060638),\n",
       " ('tdoa_min', 0.007437615491879397),\n",
       " ('tdoa_range', 0.006443628995461756),\n",
       " ('tdoa_std', 0.005894566355662733),\n",
       " ('gp_max_ix_min', 0.005689270128194678),\n",
       " ('gp_max_ix_std', 0.005235799394331776),\n",
       " ('tdoa_mean', 0.005222849336061724),\n",
       " ('coe3[0]', 0.0),\n",
       " ('coe3[1]', 0.0)]"
      ]
     },
     "execution_count": 50,
     "metadata": {},
     "output_type": "execute_result"
    }
   ],
   "source": [
    "RecFeaturesImportance(best_ext_clf, feature_attribs)"
   ]
  },
  {
   "cell_type": "code",
   "execution_count": 59,
   "id": "e6fd9fc8-7e00-47d8-91f3-ec785131074c",
   "metadata": {},
   "outputs": [
    {
     "data": {
      "text/plain": [
       "2"
      ]
     },
     "execution_count": 59,
     "metadata": {},
     "output_type": "execute_result"
    }
   ],
   "source": [
    "import datetime\n",
    "\n",
    "d_today = datetime.date.today()\n",
    "d_today.isoweekday()"
   ]
  },
  {
   "cell_type": "code",
   "execution_count": 62,
   "id": "abcbbb8a-2c21-46b6-8ddf-e0f311038e28",
   "metadata": {},
   "outputs": [
    {
     "data": {
      "text/plain": [
       "datetime.IsoCalendarDate(year=2021, week=43, weekday=2)"
      ]
     },
     "execution_count": 62,
     "metadata": {},
     "output_type": "execute_result"
    }
   ],
   "source": [
    "d_today.isocalendar()"
   ]
  },
  {
   "cell_type": "code",
   "execution_count": 64,
   "id": "1133521c-4e18-43fc-a62e-d2ec18d0fab9",
   "metadata": {},
   "outputs": [
    {
     "data": {
      "text/plain": [
       "'2021-10-26'"
      ]
     },
     "execution_count": 64,
     "metadata": {},
     "output_type": "execute_result"
    }
   ],
   "source": [
    "d_today.isoformat()"
   ]
  },
  {
   "cell_type": "code",
   "execution_count": 65,
   "id": "33b992d1-6880-4269-bb24-d9ddfea54c0c",
   "metadata": {},
   "outputs": [
    {
     "data": {
      "text/plain": [
       "time.struct_time(tm_year=2021, tm_mon=10, tm_mday=26, tm_hour=0, tm_min=0, tm_sec=0, tm_wday=1, tm_yday=299, tm_isdst=-1)"
      ]
     },
     "execution_count": 65,
     "metadata": {},
     "output_type": "execute_result"
    }
   ],
   "source": [
    "d_today.timetuple()"
   ]
  },
  {
   "cell_type": "code",
   "execution_count": 67,
   "id": "6e81fd85-fe22-45de-a731-d5c5f78e85a1",
   "metadata": {},
   "outputs": [
    {
     "data": {
      "text/plain": [
       "str"
      ]
     },
     "execution_count": 67,
     "metadata": {},
     "output_type": "execute_result"
    }
   ],
   "source": [
    "type(datetime.date.today().isoformat())"
   ]
  },
  {
   "cell_type": "code",
   "execution_count": 71,
   "id": "3c9bbf24-0423-498c-ba58-7912ab7eea1f",
   "metadata": {},
   "outputs": [
    {
     "data": {
      "text/plain": [
       "['features_s6.numbers',\n",
       " 'features_s1_s4.numbers',\n",
       " 'features_s7.numbers',\n",
       " '.DS_Store',\n",
       " 'features_ch0_2.csv',\n",
       " 'features_s5.numbers',\n",
       " 'test.csv',\n",
       " 'features_mono_ch_only_gccphat_211007.csv',\n",
       " 'features_s4.numbers',\n",
       " 'features_s10.numbers',\n",
       " 'features_s8.numbers',\n",
       " 'csv',\n",
       " 'matlab',\n",
       " 'features_s9.numbers',\n",
       " 'features_mono_ch_only_gccphat_211021.csv',\n",
       " 'features_s2.numbers',\n",
       " 'features_mono_ch_211004.csv',\n",
       " 'fearures_mono_ch_complete_211007.numbers',\n",
       " 'features_s3.numbers',\n",
       " 'features_ch0.numbers']"
      ]
     },
     "execution_count": 71,
     "metadata": {},
     "output_type": "execute_result"
    }
   ],
   "source": [
    "dirs_list = os.listdir('../out/')\n",
    "dirs_list"
   ]
  },
  {
   "cell_type": "code",
   "execution_count": 82,
   "id": "759b0e66-e5c7-4f6b-8a54-5de5086bdd7f",
   "metadata": {},
   "outputs": [
    {
     "name": "stdout",
     "output_type": "stream",
     "text": [
      "<re.Match object; span=(0, 19), match='features_s6.numbers'>\n",
      "<re.Match object; span=(0, 22), match='features_s1_s4.numbers'>\n",
      "<re.Match object; span=(0, 19), match='features_s7.numbers'>\n",
      "<re.Match object; span=(0, 18), match='features_ch0_2.csv'>\n",
      "<re.Match object; span=(0, 19), match='features_s5.numbers'>\n",
      "<re.Match object; span=(0, 40), match='features_mono_ch_only_gccphat_211007.csv'>\n",
      "<re.Match object; span=(0, 19), match='features_s4.numbers'>\n",
      "<re.Match object; span=(0, 20), match='features_s10.numbers'>\n",
      "<re.Match object; span=(0, 19), match='features_s8.numbers'>\n",
      "<re.Match object; span=(0, 19), match='features_s9.numbers'>\n",
      "<re.Match object; span=(0, 40), match='features_mono_ch_only_gccphat_211021.csv'>\n",
      "<re.Match object; span=(0, 19), match='features_s2.numbers'>\n",
      "<re.Match object; span=(0, 27), match='features_mono_ch_211004.csv'>\n",
      "<re.Match object; span=(0, 19), match='features_s3.numbers'>\n",
      "<re.Match object; span=(0, 20), match='features_ch0.numbers'>\n"
     ]
    },
    {
     "data": {
      "text/plain": [
       "15"
      ]
     },
     "execution_count": 82,
     "metadata": {},
     "output_type": "execute_result"
    }
   ],
   "source": [
    "no = 0\n",
    "for dir_name in dirs_list:\n",
    "    is_match = re.match(r'^features.*', dir_name)\n",
    "    #is_match = re.match(r'features.*', dir_name)\n",
    "    if is_match != None:\n",
    "        no += 1\n",
    "        print(is_match)\n",
    "        \n",
    "no"
   ]
  },
  {
   "cell_type": "code",
   "execution_count": 76,
   "id": "340b0040-44ff-4010-a3d1-a3f4eb067190",
   "metadata": {},
   "outputs": [
    {
     "data": {
      "text/plain": [
       "20"
      ]
     },
     "execution_count": 76,
     "metadata": {},
     "output_type": "execute_result"
    }
   ],
   "source": [
    "len(dirs_list)"
   ]
  },
  {
   "cell_type": "code",
   "execution_count": null,
   "id": "bc3b0347-3fc5-494d-bf2f-7354b11bef0c",
   "metadata": {},
   "outputs": [],
   "source": []
  }
 ],
 "metadata": {
  "interpreter": {
   "hash": "aee8b7b246df8f9039afb4144a1f6fd8d2ca17a180786b69acc140d282b71a49"
  },
  "kernelspec": {
   "display_name": "Python 3 (ipykernel)",
   "language": "python",
   "name": "python3"
  },
  "language_info": {
   "codemirror_mode": {
    "name": "ipython",
    "version": 3
   },
   "file_extension": ".py",
   "mimetype": "text/x-python",
   "name": "python",
   "nbconvert_exporter": "python",
   "pygments_lexer": "ipython3",
   "version": "3.9.7"
  },
  "toc-autonumbering": true
 },
 "nbformat": 4,
 "nbformat_minor": 5
}
