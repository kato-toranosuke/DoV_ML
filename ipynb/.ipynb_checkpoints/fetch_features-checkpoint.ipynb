{
 "cells": [
  {
   "cell_type": "markdown",
   "id": "fcdb2365-5130-4eb1-9f97-f88ba1b905da",
   "metadata": {},
   "source": [
    "# 準備"
   ]
  },
  {
   "cell_type": "markdown",
   "id": "ad21e29c-082c-434e-8a23-a7dd6f660de0",
   "metadata": {},
   "source": [
    "## 音声の読み込み"
   ]
  },
  {
   "cell_type": "code",
   "execution_count": 1,
   "id": "cae1517a-bba8-46aa-89f9-71a7d5b8cbfe",
   "metadata": {},
   "outputs": [],
   "source": [
    "import cis\n",
    "import numpy as np"
   ]
  },
  {
   "cell_type": "code",
   "execution_count": 2,
   "id": "a6c3d8be-7575-42a8-a67f-078792d3462d",
   "metadata": {},
   "outputs": [],
   "source": [
    "# 音声データの読み込み\n",
    "v, fs = cis.wavread('/Volumes/GoogleDrive/マイドライブ/Research/Project/DoV/dataset/s1/s1_downstairs_nowall_trial1/A0_1_0/recording0_0_0.wav')\n",
    "# 時間軸の設定\n",
    "dt = 1/fs\n",
    "t = np.arange(0,len(v)/fs, dt)"
   ]
  },
  {
   "cell_type": "code",
   "execution_count": 85,
   "id": "69476794-e411-4e95-8b04-5f23c9f5745d",
   "metadata": {},
   "outputs": [
    {
     "data": {
      "text/plain": [
       "numpy.ndarray"
      ]
     },
     "execution_count": 85,
     "metadata": {},
     "output_type": "execute_result"
    }
   ],
   "source": [
    "type(v)"
   ]
  },
  {
   "cell_type": "code",
   "execution_count": 87,
   "id": "62156bf4-3539-4fac-8825-b8b0fe9e55b3",
   "metadata": {},
   "outputs": [
    {
     "data": {
      "text/plain": [
       "47764"
      ]
     },
     "execution_count": 87,
     "metadata": {},
     "output_type": "execute_result"
    }
   ],
   "source": [
    "len(v)"
   ]
  },
  {
   "cell_type": "code",
   "execution_count": 88,
   "id": "57a143e1-e60e-4893-b963-7bfec0513e25",
   "metadata": {},
   "outputs": [
    {
     "data": {
      "text/plain": [
       "(47764,)"
      ]
     },
     "execution_count": 88,
     "metadata": {},
     "output_type": "execute_result"
    }
   ],
   "source": [
    "v.shape"
   ]
  },
  {
   "cell_type": "code",
   "execution_count": 3,
   "id": "ed8efe30-8f20-40b7-87d1-33509379983b",
   "metadata": {},
   "outputs": [],
   "source": [
    "v2, fs2 = cis.wavread('/Volumes/GoogleDrive/マイドライブ/Research/Project/DoV/dataset/s1/s1_downstairs_nowall_trial1/A0_1_0/recording0_0_1.wav')\n",
    "dt2 = 1/fs2\n",
    "t2 = np.arange(0, len(v2)/fs2, dt2)"
   ]
  },
  {
   "cell_type": "markdown",
   "id": "df55818d-91cf-4f78-bd28-52d921593736",
   "metadata": {},
   "source": [
    "# 音声周波数分布"
   ]
  },
  {
   "cell_type": "code",
   "execution_count": 4,
   "id": "f29913d7-0f68-4e34-9ebf-7f3bf77f5e11",
   "metadata": {},
   "outputs": [],
   "source": [
    "import matplotlib.pyplot as plt\n",
    "import scipy.fftpack as sfft\n",
    "import matplotlib.mlab as mlab\n",
    "import scipy.signal as ss"
   ]
  },
  {
   "cell_type": "markdown",
   "id": "e081bd4f-4f2c-414c-aada-fad52c1d28b7",
   "metadata": {},
   "source": [
    "## 低周波数（<7kHz）の合計パワー"
   ]
  },
  {
   "cell_type": "code",
   "execution_count": 5,
   "id": "451a23be-6786-43a6-9361-bd5451a54b91",
   "metadata": {},
   "outputs": [
    {
     "data": {
      "image/png": "[encoded data removed]",
      "text/plain": [
       "<Figure size 432x288 with 1 Axes>"
      ]
     },
     "metadata": {
      "needs_background": "light"
     },
     "output_type": "display_data"
    }
   ],
   "source": [
    "N = 2**12\n",
    "cs = sfft.fft(v[:N])\n",
    "\n",
    "# x軸の定義\n",
    "hz_delta = fs/N\n",
    "x = np.arange(0, fs/2, hz_delta)\n",
    "\n",
    "# 描画\n",
    "plt.xlabel('Hz')\n",
    "plt.plot(x, np.abs(cs[:int(N/2)]))\n",
    "plt.show()"
   ]
  },
  {
   "cell_type": "code",
   "execution_count": 6,
   "id": "f52f3fda-eab0-45d2-ba8a-6b5b43e8ad6d",
   "metadata": {},
   "outputs": [],
   "source": [
    "# 閾値となる周波数に対応するインデックス\n",
    "th = 7000\n",
    "index = int(th/hz_delta)\n",
    "power = np.power(np.abs(cs), 2)"
   ]
  },
  {
   "cell_type": "code",
   "execution_count": 7,
   "id": "42c0f5fe-a458-4b95-a0fc-d7c1c47d5649",
   "metadata": {},
   "outputs": [
    {
     "data": {
      "text/plain": [
       "208.50441"
      ]
     },
     "execution_count": 7,
     "metadata": {},
     "output_type": "execute_result"
    }
   ],
   "source": [
    "low_power = np.sum(power[:index])\n",
    "low_power"
   ]
  },
  {
   "cell_type": "markdown",
   "id": "507971b0-5784-42d5-8497-4b9ae29875ce",
   "metadata": {},
   "source": [
    "## 高周波数(>7kHz)の合計パワー"
   ]
  },
  {
   "cell_type": "code",
   "execution_count": 8,
   "id": "9868345f-9386-4f06-9867-7d12f1125bab",
   "metadata": {},
   "outputs": [
    {
     "data": {
      "text/plain": [
       "208.2433"
      ]
     },
     "execution_count": 8,
     "metadata": {},
     "output_type": "execute_result"
    }
   ],
   "source": [
    "high_power = np.sum(power[index:])\n",
    "high_power"
   ]
  },
  {
   "cell_type": "markdown",
   "id": "f844783e-10d7-49be-a283-f4edaa79111c",
   "metadata": {},
   "source": [
    "## HLBR"
   ]
  },
  {
   "cell_type": "code",
   "execution_count": 9,
   "id": "f97f026a-3f93-420c-bdaf-e887164f49ca",
   "metadata": {},
   "outputs": [
    {
     "data": {
      "text/plain": [
       "0.9987477"
      ]
     },
     "execution_count": 9,
     "metadata": {},
     "output_type": "execute_result"
    }
   ],
   "source": [
    "hlbr = high_power / low_power\n",
    "hlbr"
   ]
  },
  {
   "cell_type": "markdown",
   "id": "ce40301c-96d9-4125-905c-c6c6abc27bff",
   "metadata": {},
   "source": [
    "# 128bin FFT"
   ]
  },
  {
   "cell_type": "code",
   "execution_count": 10,
   "id": "5e271a54-4c5b-4186-a871-15475a83e390",
   "metadata": {},
   "outputs": [],
   "source": [
    "N128 = 128\n",
    "cs128 = sfft.fft(v[:N128])\n",
    "cs128_abs = np.abs(cs128[:int(N128/2)])\n",
    "\n",
    "hz128 = np.arange(0, fs/2, fs/N128)"
   ]
  },
  {
   "cell_type": "code",
   "execution_count": 11,
   "id": "dda2c67b-eb2f-4909-8b2b-44ba8fc681c8",
   "metadata": {},
   "outputs": [
    {
     "data": {
      "image/png": "[encoded data removed]",
      "text/plain": [
       "<Figure size 432x288 with 1 Axes>"
      ]
     },
     "metadata": {
      "needs_background": "light"
     },
     "output_type": "display_data"
    }
   ],
   "source": [
    "# 描画\n",
    "plt.xlabel(\"Hz\")\n",
    "plt.plot(hz128, cs128_abs)\n",
    "plt.show()"
   ]
  },
  {
   "cell_type": "code",
   "execution_count": 12,
   "id": "0e0d1413-6fde-4f21-b329-4723d362044e",
   "metadata": {},
   "outputs": [],
   "source": [
    "# 関数フィッティング\n",
    "from scipy.optimize import curve_fit\n",
    "import seaborn as sns"
   ]
  },
  {
   "cell_type": "markdown",
   "id": "afc92922-bcfd-4e55-89c5-b480a9a43a07",
   "metadata": {},
   "source": [
    "## 128-bin FFTにフィットした線形回帰"
   ]
  },
  {
   "cell_type": "markdown",
   "id": "d0d62152-8c38-4a0b-97c2-30d87365875f",
   "metadata": {},
   "source": [
    "### scipy.optimize.curve_fitを使う場合"
   ]
  },
  {
   "cell_type": "code",
   "execution_count": 13,
   "id": "0e399bfa-32fe-485a-bb97-1c5a40a2a5e6",
   "metadata": {},
   "outputs": [],
   "source": [
    "def linear_fit(x, a, b):\n",
    "    return a*x+b"
   ]
  },
  {
   "cell_type": "code",
   "execution_count": 14,
   "id": "9441bacb-7cea-4009-81ff-85204fb5e27f",
   "metadata": {},
   "outputs": [],
   "source": [
    "param, cov = curve_fit(linear_fit, hz128, cs128_abs)"
   ]
  },
  {
   "cell_type": "code",
   "execution_count": 15,
   "id": "0d28d1c0-9cb0-425e-8af1-2e9e1972481c",
   "metadata": {},
   "outputs": [
    {
     "data": {
      "text/plain": [
       "array([-1.81144648e-06,  3.26053777e-02])"
      ]
     },
     "execution_count": 15,
     "metadata": {},
     "output_type": "execute_result"
    }
   ],
   "source": [
    "param"
   ]
  },
  {
   "cell_type": "code",
   "execution_count": 16,
   "id": "52b9971c-2d8b-48e6-a907-57487094f508",
   "metadata": {},
   "outputs": [
    {
     "data": {
      "text/plain": [
       "array([[ 2.34064015e-13, -2.76488118e-09],\n",
       "       [-2.76488118e-09,  4.38924887e-05]])"
      ]
     },
     "execution_count": 16,
     "metadata": {},
     "output_type": "execute_result"
    }
   ],
   "source": [
    "cov"
   ]
  },
  {
   "cell_type": "code",
   "execution_count": 17,
   "id": "15d3f7ff-ba7d-4969-a566-de71d488039e",
   "metadata": {},
   "outputs": [
    {
     "data": {
      "image/png": "[encoded data removed]",
      "text/plain": [
       "<Figure size 432x288 with 1 Axes>"
      ]
     },
     "metadata": {
      "needs_background": "light"
     },
     "output_type": "display_data"
    }
   ],
   "source": [
    "# フィッティングの結果\n",
    "plt.plot(hz128, cs128_abs)\n",
    "\n",
    "y_linear_fit = param[0]*hz128 + param[1]\n",
    "plt.plot(hz128, y_linear_fit)\n",
    "\n",
    "plt.show()"
   ]
  },
  {
   "cell_type": "markdown",
   "id": "afca5a63-ced3-4824-a05d-2c3e0c32da4b",
   "metadata": {
    "tags": []
   },
   "source": [
    "### numpy.polyfitを使う場合\n",
    "参考：[Pythonでカーブフィット!最小二乗法で直線近似する方法](https://watlab-blog.com/2019/09/09/least-squares/)"
   ]
  },
  {
   "cell_type": "code",
   "execution_count": 18,
   "id": "3900082e-4167-445b-bb6b-f5a22dd54d29",
   "metadata": {},
   "outputs": [
    {
     "name": "stdout",
     "output_type": "stream",
     "text": [
      "[-1.81144648e-06  3.26053776e-02]\n"
     ]
    }
   ],
   "source": [
    "coe = np.polyfit(hz128, cs128_abs, 1)\n",
    "print(coe)"
   ]
  },
  {
   "cell_type": "code",
   "execution_count": 19,
   "id": "a0b8b2dc-26a1-4c7f-9814-3dd62f0e25fb",
   "metadata": {},
   "outputs": [
    {
     "data": {
      "image/png": "[encoded data removed]",
      "text/plain": [
       "<Figure size 432x288 with 1 Axes>"
      ]
     },
     "metadata": {
      "needs_background": "light"
     },
     "output_type": "display_data"
    }
   ],
   "source": [
    "# 結果の表示\n",
    "plt.plot(hz128, cs128_abs)\n",
    "\n",
    "linear_fit_res_polyfit = coe[0]*hz128 + coe[1]\n",
    "plt.plot(hz128, linear_fit_res_polyfit)\n",
    "\n",
    "plt.show()"
   ]
  },
  {
   "cell_type": "markdown",
   "id": "d665767b-6aef-47e3-8cb7-e745d1fc79d0",
   "metadata": {},
   "source": [
    "## 128-bin FFTにフィットした３次多項式"
   ]
  },
  {
   "cell_type": "markdown",
   "id": "480187f3-5fcc-490e-b349-b1db45a092c7",
   "metadata": {},
   "source": [
    "### scikit-learnを使用する場合"
   ]
  },
  {
   "cell_type": "code",
   "execution_count": 20,
   "id": "7ce02a6b-a82a-413b-b163-22a0607d69d8",
   "metadata": {},
   "outputs": [
    {
     "data": {
      "text/plain": [
       "LinearRegression()"
      ]
     },
     "execution_count": 20,
     "metadata": {},
     "output_type": "execute_result"
    }
   ],
   "source": [
    "from sklearn.preprocessing import PolynomialFeatures\n",
    "from sklearn.linear_model import LinearRegression\n",
    "\n",
    "poly_features = PolynomialFeatures(degree=3, include_bias=False)\n",
    "X = hz128\n",
    "\n",
    "# X_poly: 各特徴量の３乗と２乗を新特徴量として訓練セットに追加する。\n",
    "X_poly = poly_features.fit_transform(X.reshape(-1, 1))\n",
    "# 拡張訓練データをモデルに適合させる\n",
    "line_reg = LinearRegression()\n",
    "line_reg.fit(X_poly, cs128_abs)"
   ]
  },
  {
   "cell_type": "code",
   "execution_count": 21,
   "id": "be473c23-3ce9-4d37-914b-e72b731b5928",
   "metadata": {},
   "outputs": [
    {
     "data": {
      "text/plain": [
       "-4.309825514634042e-14"
      ]
     },
     "execution_count": 21,
     "metadata": {},
     "output_type": "execute_result"
    }
   ],
   "source": [
    "line_reg.coef_[2]"
   ]
  },
  {
   "cell_type": "code",
   "execution_count": 22,
   "id": "e15bd11a-abce-4c55-b1fc-0a5da58bd0d2",
   "metadata": {},
   "outputs": [
    {
     "data": {
      "text/plain": [
       "array([3.7500000e+02, 1.4062500e+05, 5.2734375e+07])"
      ]
     },
     "execution_count": 22,
     "metadata": {},
     "output_type": "execute_result"
    }
   ],
   "source": [
    "X_poly[1]"
   ]
  },
  {
   "cell_type": "code",
   "execution_count": 23,
   "id": "f08806dd-8de7-4d50-8e88-c351de174939",
   "metadata": {},
   "outputs": [
    {
     "data": {
      "image/png": "[encoded data removed]",
      "text/plain": [
       "<Figure size 432x288 with 1 Axes>"
      ]
     },
     "metadata": {
      "needs_background": "light"
     },
     "output_type": "display_data"
    }
   ],
   "source": [
    "# 表示\n",
    "plt.plot(X, cs128_abs)\n",
    "\n",
    "y_poly_fit = line_reg.coef_[2]*X_poly[:, 2] + line_reg.coef_[1]*X_poly[:, 1] + line_reg.coef_[0]*X_poly[:, 0] + line_reg.intercept_\n",
    "plt.plot(X, y_poly_fit)\n",
    "\n",
    "plt.show()"
   ]
  },
  {
   "cell_type": "markdown",
   "id": "d5974075-09ba-490a-b755-4835bdbc4b1c",
   "metadata": {},
   "source": [
    "### numpy.polyfitを使う場合\n",
    "参考：[Python多項式カーブフィット!2次以上も最小二乗法を簡単適用](https://watlab-blog.com/2019/09/15/least-squares-polyfit/)"
   ]
  },
  {
   "cell_type": "code",
   "execution_count": 24,
   "id": "098b7282-f448-49da-add3-dc3d7b802de0",
   "metadata": {},
   "outputs": [
    {
     "name": "stdout",
     "output_type": "stream",
     "text": [
      "[-4.30982551e-14  1.81752059e-09 -2.29876371e-05  8.62507430e-02]\n"
     ]
    }
   ],
   "source": [
    "coe = np.polyfit(hz128, cs128_abs, 3)\n",
    "print(coe)"
   ]
  },
  {
   "cell_type": "code",
   "execution_count": 25,
   "id": "04e13374-9693-4cc3-909d-86837f3f52e1",
   "metadata": {},
   "outputs": [
    {
     "data": {
      "image/png": "[encoded data removed]",
      "text/plain": [
       "<Figure size 432x288 with 1 Axes>"
      ]
     },
     "metadata": {
      "needs_background": "light"
     },
     "output_type": "display_data"
    }
   ],
   "source": [
    "# 結果を表示\n",
    "plt.plot(hz128, cs128_abs)\n",
    "\n",
    "poly_fit_res_polyfit = coe[0] * hz128**3 + coe[1] * hz128**2 + coe[2] * hz128 + coe[3]\n",
    "plt.plot(hz128, poly_fit_res_polyfit)\n",
    "\n",
    "plt.show()"
   ]
  },
  {
   "cell_type": "markdown",
   "id": "96ecd9d7-b579-4354-ac83-91c3f88b45d3",
   "metadata": {},
   "source": [
    "### 決定係数R^2での比較\n",
    "参考；[相関関係と決定係数](https://watlab-blog.com/2019/09/15/least-squares-polyfit/#:~:text=%E3%81%A6%E3%81%84%E3%81%BE%E3%81%99%E3%81%AD%E3%80%82-,%E3%81%8A%E3%81%BE%E3%81%911%EF%BC%9A%E7%9B%B8%E9%96%A2%E4%BF%82%E6%95%B0,2,-%E4%BB%A5%E4%B8%8B%E3%81%AEnp)\n",
    "\n",
    "決定係数は相関係数を２乗したもの。関数がどれだけフィットしているかの指標になる。"
   ]
  },
  {
   "cell_type": "code",
   "execution_count": 26,
   "id": "bbb076d9-fe98-4553-b4eb-46c6e8e3a62f",
   "metadata": {},
   "outputs": [
    {
     "name": "stdout",
     "output_type": "stream",
     "text": [
      "0.5139796971354977\n",
      "0.5139796971354978\n"
     ]
    }
   ],
   "source": [
    "# 相関関数と決定係数\n",
    "r_scikit = np.corrcoef(cs128_abs, y_poly_fit)[0][1]\n",
    "r2_scikit = r_scikit**2\n",
    "print(r2_scikit)\n",
    "\n",
    "\n",
    "r_polyfit = np.corrcoef(cs128_abs, poly_fit_res_polyfit)[0][1]\n",
    "r2_polyfit = r_polyfit ** 2\n",
    "print(r2_polyfit)"
   ]
  },
  {
   "cell_type": "markdown",
   "id": "86a275c5-84a1-4c16-b6cb-e6bdeefe5135",
   "metadata": {},
   "source": [
    "# ピーク検出"
   ]
  },
  {
   "cell_type": "code",
   "execution_count": 27,
   "id": "d2269b44-b55e-490b-a8a8-2e32b2483d33",
   "metadata": {},
   "outputs": [],
   "source": [
    "from scipy import signal"
   ]
  },
  {
   "cell_type": "markdown",
   "id": "8093a653-c860-453f-a8c7-10bc2201f835",
   "metadata": {},
   "source": [
    "## フーリエ変換"
   ]
  },
  {
   "cell_type": "code",
   "execution_count": 28,
   "id": "aa4de299-48c2-43e6-86ed-b50d572fb536",
   "metadata": {},
   "outputs": [],
   "source": [
    "def fft(y, dt):\n",
    "    spec = sfft.fft(y) # フーリエスペクトル（複素数）\n",
    "    freq = sfft.fftfreq(len(spec), d=dt) # 周波数軸を生成\n",
    "    amp = np.sqrt(spec.real**2 + spec.imag**2) / (len(spec)/2) # 振幅を計算\n",
    "    return spec, amp, freq"
   ]
  },
  {
   "cell_type": "code",
   "execution_count": 82,
   "id": "ecd0c195-0888-4078-9f28-71828fac1195",
   "metadata": {},
   "outputs": [],
   "source": [
    "spec = sfft.fft(v)\n",
    "# specplus = [i for i in amp if (i >= 0)]"
   ]
  },
  {
   "cell_type": "code",
   "execution_count": 30,
   "id": "b5a4f7a3-45f0-4430-9674-dd1bc5c92cdf",
   "metadata": {},
   "outputs": [],
   "source": [
    "# sample wave\n",
    "dt = 0.0001\n",
    "t = np.arange(0, 10, dt)\n",
    "noise = 1 * np.random.normal(loc=0, scale=1, size=len(t)) # 平均loc, 標準偏差scaleの正規分布に従う乱数を返す\n",
    "y = signal.sawtooth(2 * np.pi * 1 * t) + noise"
   ]
  },
  {
   "cell_type": "code",
   "execution_count": 31,
   "id": "ff52ac54-6ba1-4a1c-b6f1-adeaea7cd660",
   "metadata": {},
   "outputs": [],
   "source": [
    "# フーリエ変換する\n",
    "# spec, amp, freq = fft(y, dt)\n",
    "\n",
    "y = v\n",
    "dt = 1/fs\n",
    "t = np.arange(0, len(v)/fs, dt)\n",
    "spec, amp, freq = fft(v, dt)"
   ]
  },
  {
   "cell_type": "code",
   "execution_count": 32,
   "id": "454db095-21e4-4ae9-ab45-f36cfa1bc466",
   "metadata": {},
   "outputs": [
    {
     "data": {
      "text/plain": [
       "[<matplotlib.lines.Line2D at 0x141b67c70>]"
      ]
     },
     "execution_count": 32,
     "metadata": {},
     "output_type": "execute_result"
    },
    {
     "data": {
      "image/png": "[encoded data removed]",
      "text/plain": [
       "<Figure size 432x288 with 1 Axes>"
      ]
     },
     "metadata": {
      "needs_background": "light"
     },
     "output_type": "display_data"
    }
   ],
   "source": [
    "plt.plot(t, y)"
   ]
  },
  {
   "cell_type": "markdown",
   "id": "99e3a7b5-7bb5-4bf8-9ba7-10af3c281a55",
   "metadata": {},
   "source": [
    "## ピーク検出"
   ]
  },
  {
   "cell_type": "code",
   "execution_count": 33,
   "id": "fced2d39-db08-436d-8378-0d1f0f9536ab",
   "metadata": {
    "tags": []
   },
   "outputs": [],
   "source": [
    "# 波形(x, y)からn個のピークを幅wで検出する関数(xは0から始まる仕様）\n",
    "# x, y: 波形\n",
    "# n: 抽出するピーク数\n",
    "# w: ピーク感度に関する幅\n",
    "def findpeaks(x, y, n, w):\n",
    "    index_all = list(signal.argrelmax(y, order=w))                  # scipyのピーク検出\n",
    "    index = []                                                      # ピーク指標の空リスト\n",
    "    peaks = []                                                     # ピーク値の空リスト\n",
    "\n",
    "    # n個分のピーク情報(指標、値）を格納\n",
    "    for i in range(n):\n",
    "        # ピークがn個に満たない場合、ループを抜ける（エラー処理）\n",
    "        if i >= len(index_all[0]):\n",
    "            break\n",
    "        index.append(index_all[0][i])\n",
    "        peaks.append(y[index_all[0][i]])\n",
    "        \n",
    "    # 個数の足りない分を0で埋める（エラー処理）\n",
    "    if len(index) != n:\n",
    "        index = index + ([0] * (n - len(index)))\n",
    "        peaks = peaks + ([0] * (n - len(peaks)))\n",
    "    \n",
    "    ix_val = np.array(index) * x[1]                                  # xの分解能x[1]をかけて指標を物理軸に変換\n",
    "    return ix_val, peaks, index, index_all\n",
    "#     return index, peaks"
   ]
  },
  {
   "cell_type": "markdown",
   "id": "4342fc24-3931-47aa-a4f5-efdc2e6a3cb5",
   "metadata": {},
   "source": [
    "## 最大ピークと、+-10ms以内の他のピークの平均値の比"
   ]
  },
  {
   "cell_type": "code",
   "execution_count": 34,
   "id": "ef798cfd-e6ac-43eb-9f82-7b033f9c60c2",
   "metadata": {},
   "outputs": [],
   "source": [
    "import heapq\n",
    "import math"
   ]
  },
  {
   "cell_type": "code",
   "execution_count": 35,
   "id": "d1b9dc1b-1a83-4e67-9d6e-f0542bd3c937",
   "metadata": {},
   "outputs": [],
   "source": [
    "# 最大ピークを検出する関数\n",
    "def findMaxPeak(x, y, w):\n",
    "    all_index = list(signal.argrelmax(y, order=w))\n",
    "    all_index = all_index[0]\n",
    "    vals = y[all_index]\n",
    "    \n",
    "    # 最大値を取得\n",
    "    max_val = max(vals)\n",
    "    # 最大値のインデックス\n",
    "    max_index = all_index[np.argmax(vals)]\n",
    "    \n",
    "    return max_index, all_index, max_val"
   ]
  },
  {
   "cell_type": "code",
   "execution_count": 36,
   "id": "94acf487-056a-48fd-a08b-08ce17420977",
   "metadata": {},
   "outputs": [],
   "source": [
    "# 基準インデックスから周囲ms_range[s]の波形を切り出す\n",
    "def getWaveWithinTimeRange(x, y, base_ix, sec_range, fs):\n",
    "    dt = 1.0/fs  # インデックス間の時間間隔\n",
    "    # 切り出す範囲のインデックスを計算\n",
    "    delta_ix = math.floor(sec_range/dt)\n",
    "    start_ix = base_ix - delta_ix\n",
    "    end_ix = base_ix + delta_ix\n",
    "    \n",
    "    # 範囲外のインデックスに対する処理\n",
    "    if start_ix < 0:\n",
    "        start_ix = 0\n",
    "    if end_ix > len(y)-1:\n",
    "        end_ix = len(y) - 1\n",
    "    \n",
    "    index = np.arange(start_ix, end_ix+1)\n",
    "    val = y[index]\n",
    "    \n",
    "    return index, val"
   ]
  },
  {
   "cell_type": "code",
   "execution_count": 37,
   "id": "07526521-8507-4183-855f-ae8d55469cfa",
   "metadata": {
    "tags": []
   },
   "outputs": [],
   "source": [
    "# 最大ピークと10ms以内の他のピークの平均値の比を取得する関数\n",
    "# x, y: 波形\n",
    "# w: ピーク検出における感度\n",
    "# ms_range: 切り出す時間範囲\n",
    "def getRatioMaxToOtherAvePeaks(x, y, w, fs, sec_range=0.01):\n",
    "    # 最大ピークとその時のインデックスを取得\n",
    "    max_ix, all_ix, max_val = findMaxPeak(x, y, w)\n",
    "    \n",
    "    # max_indexから+-10ms以内の波形を切り出す。\n",
    "    # target_ix : 対象時間区間のインデックス（ピークとピークでないものも含む）\n",
    "    # target_val : target_ixに対応する値\n",
    "    target_ix, target_val = getWaveWithinTimeRange(x, y, max_ix, sec_range, fs)\n",
    "    \n",
    "    # target_peak_ix : 対象時間範囲内のピーク部分に対応するインデックス\n",
    "    target_peak_ix = [i for i in all_ix if (i >= target_ix[0]) and (i <= target_ix[-1]) and (i != max_ix)]\n",
    "    \n",
    "    # 最大ピーク以外の他の全てのピークの平均値を算出\n",
    "    mean_other_peaks = np.mean(y[target_peak_ix])\n",
    "    \n",
    "    # 結果の確認\n",
    "    max_t = 1/fs*max_ix\n",
    "    peak_t = [1/fs*i for i in target_peak_ix]\n",
    "    plt.plot(x, y)\n",
    "    plt.scatter(max_t, max_val, color='red')\n",
    "    plt.scatter(peak_t, y[target_peak_ix], color='green')\n",
    "    plt.show()\n",
    "    plt.close()\n",
    "    \n",
    "    # 比率の計算\n",
    "    ratio = mean_other_peaks/max_val\n",
    "    return ratio"
   ]
  },
  {
   "cell_type": "markdown",
   "id": "d4bb35af-7251-467c-b938-19a0031acb38",
   "metadata": {},
   "source": [
    "### テスト"
   ]
  },
  {
   "cell_type": "code",
   "execution_count": 38,
   "id": "027b763a-294a-48f2-b2b7-50aa1b9c2d14",
   "metadata": {},
   "outputs": [
    {
     "data": {
      "image/png": "[encoded data removed]",
      "text/plain": [
       "<Figure size 432x288 with 1 Axes>"
      ]
     },
     "metadata": {
      "needs_background": "light"
     },
     "output_type": "display_data"
    },
    {
     "data": {
      "text/plain": [
       "0.25740534"
      ]
     },
     "execution_count": 38,
     "metadata": {},
     "output_type": "execute_result"
    }
   ],
   "source": [
    "getRatioMaxToOtherAvePeaks(t, v, 3, fs)"
   ]
  },
  {
   "cell_type": "code",
   "execution_count": 39,
   "id": "8d3f90b6-4600-4513-82b7-1f936dbeb0b0",
   "metadata": {},
   "outputs": [
    {
     "data": {
      "image/png": "[encoded data removed]",
      "text/plain": [
       "<Figure size 432x288 with 1 Axes>"
      ]
     },
     "metadata": {
      "needs_background": "light"
     },
     "output_type": "display_data"
    },
    {
     "data": {
      "text/plain": [
       "0.3087381"
      ]
     },
     "execution_count": 39,
     "metadata": {},
     "output_type": "execute_result"
    }
   ],
   "source": [
    "vabs = np.abs(v)\n",
    "getRatioMaxToOtherAvePeaks(t, vabs, 3, fs)"
   ]
  },
  {
   "cell_type": "markdown",
   "id": "ccf4ec31-f057-4910-ae65-be1fb6d00ec4",
   "metadata": {},
   "source": [
    "---\n",
    "### 文法の確認"
   ]
  },
  {
   "cell_type": "code",
   "execution_count": 40,
   "id": "6105e9ac-f1df-4d4e-a270-8da63a9340cb",
   "metadata": {},
   "outputs": [
    {
     "data": {
      "text/plain": [
       "[4, 6, 8]"
      ]
     },
     "execution_count": 40,
     "metadata": {},
     "output_type": "execute_result"
    }
   ],
   "source": [
    "nlist = np.arange(10)\n",
    "nlist2 = [i for i in nlist if i>2 and i<9 and i%2==0]\n",
    "nlist2"
   ]
  },
  {
   "cell_type": "markdown",
   "id": "ba7259a6-d589-4287-ba09-f5617b4881c4",
   "metadata": {},
   "source": [
    "---"
   ]
  },
  {
   "cell_type": "markdown",
   "id": "13293017-f039-4bdd-806a-2b5d8ae51ec8",
   "metadata": {},
   "source": [
    "## 最大ピークと次に高い9つのピークの平均値の比"
   ]
  },
  {
   "cell_type": "code",
   "execution_count": 41,
   "id": "5b655e89-7b25-4ac0-9d7c-787f2f5b7ba0",
   "metadata": {},
   "outputs": [],
   "source": [
    "# 第n位の大きさのピークの値を取得\n",
    "# 波形(x, y)\n",
    "# n: 第n位の大きさのピークまで抽出する\n",
    "# w: ピーク感度に関する幅\n",
    "def findNthMaxPeak(x, y, n, w):\n",
    "    index_all = list(signal.argrelmax(y, order=w))\n",
    "    index_all = index_all[0]\n",
    "    vals = y[index_all]\n",
    "    \n",
    "    # 検出したピークの個数がn個に満たない場合\n",
    "    if len(index_all) < n:\n",
    "        return vals.tolist()\n",
    "    \n",
    "    peak_vals = heapq.nlargest(n, vals)\n",
    "    return peak_vals"
   ]
  },
  {
   "cell_type": "code",
   "execution_count": 42,
   "id": "c3262e83-40ab-4da5-b02b-4a3f14b7de03",
   "metadata": {},
   "outputs": [],
   "source": [
    "def getRatioMaxToNthAvePeaks(x, y, w, fs, n=10):\n",
    "    peak_vals = findNthMaxPeak(x, y, n, w)\n",
    "    max_peak_val = max(peak_vals)\n",
    "    # 最大ピークと次に高いn-1個のピークのlist\n",
    "    peak_vals.remove(max_peak_val)\n",
    "    # 平均値\n",
    "    mean_peak_val = np.mean(peak_vals)\n",
    "    # 比率を算出\n",
    "    ratio = mean_peak_val / max_peak_val\n",
    "    \n",
    "    return ratio"
   ]
  },
  {
   "cell_type": "markdown",
   "id": "788d1726-43f9-4a3a-b14c-41c8e817cba8",
   "metadata": {},
   "source": [
    "### テスト"
   ]
  },
  {
   "cell_type": "code",
   "execution_count": 43,
   "id": "05fd7ddf-9c08-4737-b98d-08247e94f853",
   "metadata": {},
   "outputs": [
    {
     "data": {
      "text/plain": [
       "0.6980633"
      ]
     },
     "execution_count": 43,
     "metadata": {},
     "output_type": "execute_result"
    }
   ],
   "source": [
    "getRatioMaxToNthAvePeaks(t, v, 3, fs)"
   ]
  },
  {
   "cell_type": "code",
   "execution_count": 44,
   "id": "5cab2f34-3369-4995-b521-26f72f3480af",
   "metadata": {},
   "outputs": [
    {
     "data": {
      "text/plain": [
       "[<matplotlib.lines.Line2D at 0x1427c8ca0>]"
      ]
     },
     "execution_count": 44,
     "metadata": {},
     "output_type": "execute_result"
    },
    {
     "data": {
      "image/png": "[encoded data removed]",
      "text/plain": [
       "<Figure size 432x288 with 1 Axes>"
      ]
     },
     "metadata": {
      "needs_background": "light"
     },
     "output_type": "display_data"
    }
   ],
   "source": [
    "plt.plot(t, v)"
   ]
  },
  {
   "cell_type": "markdown",
   "id": "7621709a-7aa0-40ec-80a8-a1fd66135de2",
   "metadata": {},
   "source": [
    "---\n",
    "### 文法確認"
   ]
  },
  {
   "cell_type": "code",
   "execution_count": 45,
   "id": "a104da82-11b8-469f-861c-35e373c0968d",
   "metadata": {},
   "outputs": [
    {
     "data": {
      "text/plain": [
       "[19, 18, 15]"
      ]
     },
     "execution_count": 45,
     "metadata": {},
     "output_type": "execute_result"
    }
   ],
   "source": [
    "import random\n",
    "numlist = np.random.randint(0, 20, 8)\n",
    "heapq.nlargest(3, numlist)"
   ]
  },
  {
   "cell_type": "code",
   "execution_count": 46,
   "id": "26ca0f26-3fc5-4f1d-946d-8cffc7db50c3",
   "metadata": {},
   "outputs": [
    {
     "data": {
      "text/plain": [
       "numpy.ndarray"
      ]
     },
     "execution_count": 46,
     "metadata": {},
     "output_type": "execute_result"
    }
   ],
   "source": [
    "type(numlist)"
   ]
  },
  {
   "cell_type": "code",
   "execution_count": 47,
   "id": "56871821-ae21-411d-a59a-5994c48a7ae4",
   "metadata": {},
   "outputs": [],
   "source": [
    "l = list(range(10))\n",
    "m = l.remove(0)\n",
    "m"
   ]
  },
  {
   "cell_type": "markdown",
   "id": "47b0600a-2fa8-42d3-b514-ab95148392af",
   "metadata": {},
   "source": [
    "---"
   ]
  },
  {
   "cell_type": "markdown",
   "id": "a59ba844-4552-4ed9-904f-0fca0e65a124",
   "metadata": {},
   "source": [
    "## グラフ表示"
   ]
  },
  {
   "cell_type": "code",
   "execution_count": 48,
   "id": "29999e6e-8112-4978-be5c-bb9795f47696",
   "metadata": {},
   "outputs": [
    {
     "data": {
      "image/png": "[encoded data removed]",
      "text/plain": [
       "<Figure size 576x360 with 2 Axes>"
      ]
     },
     "metadata": {
      "needs_background": "light"
     },
     "output_type": "display_data"
    }
   ],
   "source": [
    "# フォントの種類とサイズの設定\n",
    "plt.rcParams['font.size'] = 14\n",
    "plt.rcParams['font.family'] = 'Times New Roman'\n",
    "\n",
    "# 目盛りを内側にする\n",
    "plt.rcParams['xtick.direction'] = 'in'\n",
    "plt.rcParams['ytick.direction'] = 'in'\n",
    "\n",
    "# グラフの上下左右に目盛りを付ける\n",
    "fig = plt.figure(figsize=(8, 5))\n",
    "ax1 = fig.add_subplot(211)\n",
    "ax1.yaxis.set_ticks_position('both')\n",
    "ax1.xaxis.set_ticks_position('both')\n",
    "ax2 = fig.add_subplot(212)\n",
    "ax2.yaxis.set_ticks_position('both')\n",
    "ax2.xaxis.set_ticks_position('both')\n",
    "\n",
    "# 軸のラベルを設定する\n",
    "ax1.set_xlabel('Time[s]')\n",
    "ax1.set_ylabel('Amp.')\n",
    "ax2.set_xlabel('Frequency[Hz]')\n",
    "ax2.set_ylabel('Amp.')\n",
    "\n",
    "# スケール設定\n",
    "# ax2.set_xlim(0, 10)\n",
    "# ax2.set_yscale('log')\n",
    "\n",
    "# データプロットの準備と共に、ラベルと線の太さ、凡例の設定を行う\n",
    "ax1.plot(t, y, label='sample', lw=1)\n",
    "ax1.legend()\n",
    "\n",
    "# peaksを算出していないため、コメントアウト\n",
    "# ax2.plot(freq[:int(len(freq)/2)], amp[:int(len(freq)/2)], label='sample', lw=1)\n",
    "# ax2.scatter(index, peaks, label='peaks', color='red')\n",
    "# ax2.legend()\n",
    "\n",
    "# レイアウト設定\n",
    "fig.tight_layout()\n",
    "\n",
    "# グラフを表示する\n",
    "plt.show()\n",
    "plt.close()"
   ]
  },
  {
   "cell_type": "markdown",
   "id": "1ef3e8b0-8e85-4e0a-9350-80475baa60aa",
   "metadata": {},
   "source": [
    "# 自己相関"
   ]
  },
  {
   "cell_type": "markdown",
   "id": "3bff3c16-179a-421a-9890-6926e26a18eb",
   "metadata": {},
   "source": [
    "## 自己相関の標準偏差と曲線下面積"
   ]
  },
  {
   "cell_type": "code",
   "execution_count": 49,
   "id": "5c7a8293-225c-4304-93d1-6a60a66405b3",
   "metadata": {},
   "outputs": [],
   "source": [
    "# 自己相関を計算\n",
    "yc = np.correlate(v, v, \"full\")"
   ]
  },
  {
   "cell_type": "code",
   "execution_count": 50,
   "id": "81481663-7861-4103-b71b-75f287e7234e",
   "metadata": {},
   "outputs": [
    {
     "data": {
      "image/png": "[encoded data removed]",
      "text/plain": [
       "<Figure size 432x288 with 1 Axes>"
      ]
     },
     "metadata": {
      "needs_background": "light"
     },
     "output_type": "display_data"
    }
   ],
   "source": [
    "plt.plot(yc)\n",
    "plt.axhline(0, ls=\"-.\", color=\"magenta\")\n",
    "plt.show()"
   ]
  },
  {
   "cell_type": "code",
   "execution_count": 51,
   "id": "f37e55c6-11f0-4f0b-83d3-c270c92a63bf",
   "metadata": {},
   "outputs": [
    {
     "data": {
      "image/png": "[encoded data removed]",
      "text/plain": [
       "<Figure size 432x288 with 1 Axes>"
      ]
     },
     "metadata": {
      "needs_background": "light"
     },
     "output_type": "display_data"
    }
   ],
   "source": [
    "# 拡大表示\n",
    "plt.plot(yc[fs-4:fs])\n",
    "plt.axhline(0, ls=\"-.\", color=\"magenta\")\n",
    "plt.show()"
   ]
  },
  {
   "cell_type": "code",
   "execution_count": 52,
   "id": "bfdd7bae-87c2-4799-a4c1-e6cc60d3cd4c",
   "metadata": {},
   "outputs": [
    {
     "data": {
      "text/plain": [
       "48000"
      ]
     },
     "execution_count": 52,
     "metadata": {},
     "output_type": "execute_result"
    }
   ],
   "source": [
    "fs"
   ]
  },
  {
   "cell_type": "code",
   "execution_count": 53,
   "id": "f7b34531-2110-44f5-a082-c3f64159198d",
   "metadata": {},
   "outputs": [
    {
     "data": {
      "text/plain": [
       "3.1226935"
      ]
     },
     "execution_count": 53,
     "metadata": {},
     "output_type": "execute_result"
    }
   ],
   "source": [
    "# 標準偏差\n",
    "yc_std = np.std(yc)\n",
    "yc_std"
   ]
  },
  {
   "cell_type": "markdown",
   "id": "62c664e7-0c82-42df-899f-dbf4fa6d1100",
   "metadata": {},
   "source": [
    "### 曲線下面積"
   ]
  },
  {
   "cell_type": "code",
   "execution_count": 54,
   "id": "966e9955-29ca-4b6e-a637-14a96236bfd6",
   "metadata": {},
   "outputs": [
    {
     "data": {
      "text/plain": [
       "array([1.5860423e-05, 3.3896416e-05, 5.3725205e-05, ..., 5.3725205e-05,\n",
       "       3.3896416e-05, 1.5860423e-05], dtype=float32)"
      ]
     },
     "execution_count": 54,
     "metadata": {},
     "output_type": "execute_result"
    }
   ],
   "source": [
    "yc"
   ]
  },
  {
   "cell_type": "code",
   "execution_count": 55,
   "id": "9bbbe9b2-b9b8-4b35-b90a-2824b80b8f0b",
   "metadata": {},
   "outputs": [],
   "source": [
    "# 曲線下面積を求める\n",
    "# x軸がインデックスであることを前提とする。\n",
    "def calcAUC(y):\n",
    "    # 総面積\n",
    "    S = 0\n",
    "    \n",
    "    for i in range(0, len(y)):\n",
    "        S += np.abs(y[i]) * 1\n",
    "    \n",
    "    return S"
   ]
  },
  {
   "cell_type": "code",
   "execution_count": 56,
   "id": "ab9591ea-d21f-48f6-b91d-1dbc45061e53",
   "metadata": {},
   "outputs": [
    {
     "data": {
      "text/plain": [
       "120366.58383330889"
      ]
     },
     "execution_count": 56,
     "metadata": {},
     "output_type": "execute_result"
    }
   ],
   "source": [
    "calcAUC(yc)"
   ]
  },
  {
   "cell_type": "markdown",
   "id": "29dab38b-563b-40e1-a36e-674b312a2124",
   "metadata": {},
   "source": [
    "### 懸念点\n",
    "- 積分値の算出方法\n",
    "    - 現在は単純な区分積分\n",
    "    - シンプソン法などの方法も検討する。\n",
    "- 微分値の算出方法"
   ]
  },
  {
   "cell_type": "markdown",
   "id": "204fa350-9f04-40a6-b7a3-40b036f329b3",
   "metadata": {},
   "source": [
    "#### テスト"
   ]
  },
  {
   "cell_type": "code",
   "execution_count": 57,
   "id": "c8f92d70-198b-4ee9-96a0-fe17c7706fd7",
   "metadata": {},
   "outputs": [],
   "source": [
    "x = np.arange(-2, 2, 0.001)\n",
    "f = x"
   ]
  },
  {
   "cell_type": "code",
   "execution_count": 58,
   "id": "0968823b-a8ce-4889-a6ff-2bad8169b4db",
   "metadata": {},
   "outputs": [
    {
     "data": {
      "image/png": "[encoded data removed]",
      "text/plain": [
       "<Figure size 432x288 with 1 Axes>"
      ]
     },
     "metadata": {
      "needs_background": "light"
     },
     "output_type": "display_data"
    }
   ],
   "source": [
    "plt.plot(x, f)\n",
    "plt.axhline(0, ls=\"-.\", color=\"magenta\")\n",
    "plt.show()"
   ]
  },
  {
   "cell_type": "markdown",
   "id": "63b872c5-a1f0-43ce-9972-92b8e262a8f5",
   "metadata": {},
   "source": [
    "## 自己相関関数の微分の標準偏差と曲線下面積"
   ]
  },
  {
   "cell_type": "code",
   "execution_count": 59,
   "id": "1a1bdf99-4c2a-47c0-9559-20f807288d98",
   "metadata": {},
   "outputs": [],
   "source": [
    "# 微分値を求める\n",
    "# x軸がインデックス\n",
    "def calcDiffer(y):\n",
    "    differs = []\n",
    "    for i in range(0, len(y)-1):\n",
    "        d = np.abs((y[i+1] - y[i])/1)\n",
    "        differs.append(d)\n",
    "    return differs"
   ]
  },
  {
   "cell_type": "code",
   "execution_count": 60,
   "id": "d7e3f8c4-342b-47da-a589-a5b72d45164c",
   "metadata": {},
   "outputs": [],
   "source": [
    "yc_diff = calcDiffer(yc)"
   ]
  },
  {
   "cell_type": "code",
   "execution_count": 61,
   "id": "d59aa421-be07-47c4-9cdd-c014cff323ec",
   "metadata": {},
   "outputs": [
    {
     "data": {
      "image/png": "[encoded data removed]",
      "text/plain": [
       "<Figure size 432x288 with 1 Axes>"
      ]
     },
     "metadata": {
      "needs_background": "light"
     },
     "output_type": "display_data"
    }
   ],
   "source": [
    "plt.plot(yc_diff)\n",
    "plt.show()"
   ]
  },
  {
   "cell_type": "code",
   "execution_count": 62,
   "id": "c80a73ee-3d63-4a95-b869-fe3d803f2830",
   "metadata": {},
   "outputs": [
    {
     "data": {
      "image/png": "[encoded data removed]",
      "text/plain": [
       "<Figure size 432x288 with 1 Axes>"
      ]
     },
     "metadata": {
      "needs_background": "light"
     },
     "output_type": "display_data"
    }
   ],
   "source": [
    "plt.plot(yc)\n",
    "plt.show()"
   ]
  },
  {
   "cell_type": "markdown",
   "id": "bcaf855c-0a72-44d7-8d25-eeeedad537fb",
   "metadata": {},
   "source": [
    "### 標準偏差"
   ]
  },
  {
   "cell_type": "code",
   "execution_count": 63,
   "id": "cfe5ccef-e461-4bc6-9857-305df2c11ecf",
   "metadata": {},
   "outputs": [
    {
     "data": {
      "text/plain": [
       "0.5277870487582854"
      ]
     },
     "execution_count": 63,
     "metadata": {},
     "output_type": "execute_result"
    }
   ],
   "source": [
    "yc_diff_std = np.std(yc_diff)\n",
    "yc_diff_std"
   ]
  },
  {
   "cell_type": "markdown",
   "id": "59efe180-ce57-4d09-b7f1-2ca9b9c79238",
   "metadata": {},
   "source": [
    "### 曲線下面積"
   ]
  },
  {
   "cell_type": "code",
   "execution_count": 64,
   "id": "39a17ddd-7280-4103-b9fe-f8de83737c41",
   "metadata": {},
   "outputs": [
    {
     "data": {
      "text/plain": [
       "18556.24537084438"
      ]
     },
     "execution_count": 64,
     "metadata": {},
     "output_type": "execute_result"
    }
   ],
   "source": [
    "calcAUC(yc_diff)"
   ]
  },
  {
   "cell_type": "markdown",
   "id": "11974a47-62a5-4678-b526-974ef762923b",
   "metadata": {},
   "source": [
    "# SMMR"
   ]
  },
  {
   "cell_type": "code",
   "execution_count": 65,
   "id": "1506ddae-f49b-44b0-a5ad-626493b0bf2e",
   "metadata": {},
   "outputs": [],
   "source": [
    "from srmrpy.srmr import *"
   ]
  },
  {
   "cell_type": "code",
   "execution_count": 66,
   "id": "cc23cc06-a5b1-42de-aa87-946efec45943",
   "metadata": {},
   "outputs": [
    {
     "data": {
      "text/plain": [
       "(11.954743865257521,\n",
       " array([[[5.78066469e-07, 2.23047992e-07, 4.65551011e-07, ...,\n",
       "          1.89827088e-05, 9.24316638e-06, 1.07257742e-05],\n",
       "         [1.50653896e-06, 1.85516081e-06, 1.04389281e-06, ...,\n",
       "          4.32095936e-06, 8.08889906e-06, 8.33701083e-06],\n",
       "         [1.43193381e-06, 1.42694449e-06, 1.34350361e-06, ...,\n",
       "          3.69041505e-06, 8.59599605e-06, 1.47069780e-05],\n",
       "         ...,\n",
       "         [1.04287038e-06, 1.29540314e-06, 5.62063705e-07, ...,\n",
       "          2.14562425e-06, 1.74311704e-06, 4.13290387e-06],\n",
       "         [1.49345792e-06, 1.60940491e-06, 6.26086282e-07, ...,\n",
       "          1.39480673e-06, 1.84336652e-06, 8.94667521e-06],\n",
       "         [3.96519858e-07, 5.11789051e-07, 4.37382997e-07, ...,\n",
       "          7.59789897e-07, 7.38876594e-07, 1.71248506e-06]],\n",
       " \n",
       "        [[2.75909192e-07, 1.39769538e-07, 2.04431092e-07, ...,\n",
       "          3.10833992e-05, 1.99095666e-05, 2.87196016e-05],\n",
       "         [7.04678782e-07, 8.94813249e-07, 6.57638953e-07, ...,\n",
       "          8.65496569e-06, 6.34877663e-06, 1.44490052e-05],\n",
       "         [6.37852797e-07, 5.71703490e-07, 9.97745034e-07, ...,\n",
       "          4.02531737e-06, 3.74249299e-06, 9.93727389e-06],\n",
       "         ...,\n",
       "         [1.71413966e-06, 1.87603170e-06, 6.71042052e-07, ...,\n",
       "          3.21689154e-06, 3.10284333e-06, 4.86678750e-06],\n",
       "         [1.57053417e-06, 1.54193817e-06, 5.82098171e-07, ...,\n",
       "          3.10534214e-06, 2.14048550e-06, 3.00996573e-06],\n",
       "         [4.53809802e-07, 5.94003604e-07, 4.54896694e-07, ...,\n",
       "          5.46132616e-06, 2.28497891e-06, 3.48354168e-06]],\n",
       " \n",
       "        [[8.95982404e-08, 4.84115129e-08, 7.36418477e-08, ...,\n",
       "          5.21412534e-05, 3.19538201e-05, 4.47602238e-05],\n",
       "         [1.46169399e-07, 1.50786773e-07, 2.26385442e-07, ...,\n",
       "          9.01649944e-05, 3.60784821e-05, 1.72861528e-05],\n",
       "         [1.86658408e-07, 1.58610861e-07, 2.87949896e-07, ...,\n",
       "          2.63994975e-05, 1.19517496e-05, 2.69529231e-05],\n",
       "         ...,\n",
       "         [1.02081258e-06, 9.91869851e-07, 5.40635650e-07, ...,\n",
       "          5.68724798e-06, 4.76692243e-06, 9.72192834e-06],\n",
       "         [5.34288405e-07, 4.91534333e-07, 4.41904411e-07, ...,\n",
       "          5.36563700e-06, 3.15992539e-06, 7.54286417e-06],\n",
       "         [1.44706898e-07, 2.32068722e-07, 2.23613297e-07, ...,\n",
       "          1.78385952e-05, 4.18169967e-06, 7.09420898e-06]],\n",
       " \n",
       "        ...,\n",
       " \n",
       "        [[1.86915444e-10, 7.66490070e-11, 2.94846356e-11, ...,\n",
       "          8.08105353e-08, 1.22886943e-07, 9.39370537e-08],\n",
       "         [1.23031558e-10, 4.55189876e-11, 1.34486145e-11, ...,\n",
       "          2.32633606e-07, 3.45708102e-07, 2.04316254e-07],\n",
       "         [3.52067534e-11, 9.86233484e-12, 1.25943208e-11, ...,\n",
       "          1.30787457e-07, 2.32386200e-07, 1.13130155e-07],\n",
       "         ...,\n",
       "         [1.88176460e-11, 2.16528130e-11, 1.14934251e-11, ...,\n",
       "          1.17210736e-08, 1.26525860e-08, 5.16746101e-09],\n",
       "         [9.71815558e-12, 9.99984331e-12, 9.44499422e-12, ...,\n",
       "          6.50793263e-09, 7.75024617e-09, 3.41161373e-09],\n",
       "         [6.30932385e-12, 8.36879396e-12, 8.55123927e-12, ...,\n",
       "          2.82119089e-09, 2.04604350e-09, 1.40541472e-09]],\n",
       " \n",
       "        [[2.64027856e-10, 1.30017300e-10, 5.36072827e-11, ...,\n",
       "          2.28244207e-08, 3.82534355e-08, 3.13415599e-08],\n",
       "         [1.14272176e-10, 3.28392486e-11, 1.46803035e-11, ...,\n",
       "          5.76542622e-08, 9.71035240e-08, 6.50128452e-08],\n",
       "         [3.32913934e-11, 8.49796885e-12, 1.51031122e-11, ...,\n",
       "          4.45205711e-08, 7.71902178e-08, 3.66627098e-08],\n",
       "         ...,\n",
       "         [2.35419111e-11, 2.74974592e-11, 1.74829600e-11, ...,\n",
       "          4.09293296e-09, 4.24940380e-09, 2.07419350e-09],\n",
       "         [1.71749333e-11, 1.54182423e-11, 8.64984958e-12, ...,\n",
       "          2.25302242e-09, 2.48143821e-09, 1.29395535e-09],\n",
       "         [1.09402469e-11, 6.93994767e-12, 4.95517347e-12, ...,\n",
       "          1.10493178e-09, 6.42276014e-10, 5.75383578e-10]],\n",
       " \n",
       "        [[5.60646555e-10, 2.70049560e-10, 1.00259706e-10, ...,\n",
       "          4.96638861e-08, 6.94386353e-08, 5.63355933e-08],\n",
       "         [3.13338878e-10, 1.06171403e-10, 3.25045101e-11, ...,\n",
       "          7.92427934e-08, 1.31883092e-07, 1.05455521e-07],\n",
       "         [6.80555787e-11, 1.13730016e-11, 1.34682473e-11, ...,\n",
       "          6.80014819e-08, 1.10358754e-07, 4.94256728e-08],\n",
       "         ...,\n",
       "         [3.77209846e-11, 3.01211021e-11, 2.69863617e-11, ...,\n",
       "          6.02435343e-09, 5.27111866e-09, 3.01572159e-09],\n",
       "         [2.32707857e-11, 2.63380411e-11, 2.85725813e-11, ...,\n",
       "          3.42335900e-09, 3.46432235e-09, 1.74111296e-09],\n",
       "         [1.37399921e-11, 1.31636197e-11, 1.10343379e-11, ...,\n",
       "          2.03750498e-09, 1.01146225e-09, 1.17481286e-09]]]))"
      ]
     },
     "execution_count": 66,
     "metadata": {},
     "output_type": "execute_result"
    }
   ],
   "source": [
    "srmr(v, fs)"
   ]
  },
  {
   "cell_type": "markdown",
   "id": "cc738b86-a67d-4949-8ef8-aa820dff0079",
   "metadata": {},
   "source": [
    "# GCC-PHAT"
   ]
  },
  {
   "cell_type": "code",
   "execution_count": 67,
   "id": "af2c19c5-1e1c-4313-b8bc-ded9536f6ced",
   "metadata": {},
   "outputs": [],
   "source": [
    "# GCC-PHATを算出\n",
    "def gcc_phat(sig, refsig, fs=1, max_tau=None, interp=16):\n",
    "    '''\n",
    "    This function computes the offset between the signal sig and the reference signal refsig\n",
    "    using the Generalized Cross Correlation - Phase Transform (GCC-PHAT)method.\n",
    "    '''\n",
    "\n",
    "    # make sure the length for the FFT is larger or equal than len(sig) + len(refsig)\n",
    "    n = sig.shape[0] + refsig.shape[0]\n",
    "\n",
    "    # Generalized Cross Correlation Phase Transform\n",
    "    SIG = np.fft.rfft(sig, n=n)\n",
    "    REFSIG = np.fft.rfft(refsig, n=n)\n",
    "    R = SIG * np.conj(REFSIG)\n",
    "\n",
    "    # 純粋なGCC-PHATの値はこれ。\n",
    "    cc = np.fft.irfft(R / np.abs(R), n=(interp * n))\n",
    "    \n",
    "    return cc, n"
   ]
  },
  {
   "cell_type": "code",
   "execution_count": 68,
   "id": "50f6e4ad-36c3-4eb6-801c-7ec9c189a624",
   "metadata": {},
   "outputs": [],
   "source": [
    "# GCC-PHATをフィルタにTDOA(Time Difference Of Arrival)を算出する\n",
    "def tdoa_from_gccphat(cc, n, fs=1, max_tau=None, interp=16):\n",
    "    max_shift = int(interp * n / 2)\n",
    "    if max_tau:\n",
    "        max_shift = np.minimum(int(interp * fs * max_tau), max_shift)\n",
    "\n",
    "    cc = np.concatenate((cc[-max_shift:], cc[:max_shift+1]))\n",
    "\n",
    "    # find max cross correlation index\n",
    "    shift = np.argmax(np.abs(cc)) - max_shift\n",
    "\n",
    "    tau = shift / float(interp * fs)\n",
    "\n",
    "    return tau, cc"
   ]
  },
  {
   "cell_type": "markdown",
   "id": "ec8f0492-b19c-47c3-9f9d-0824c281bd2d",
   "metadata": {},
   "source": [
    "## 最大ピーク値"
   ]
  },
  {
   "cell_type": "code",
   "execution_count": 69,
   "id": "8b3f7d64-e23d-4b43-bfa8-db7dacd64f18",
   "metadata": {},
   "outputs": [],
   "source": [
    "# 直交するマイク間の距離に基づく理論上の最大遅延[s]\n",
    "MAX_DELAY = 0.000236\n",
    "\n",
    "# 音声データの最大ピーク検出\n",
    "max_index, _, _ = findMaxPeak(t, v, 3)\n",
    "# +-MAX_DELAYだけ切り出す\n",
    "max_delay_ix, max_delay_val = getWaveWithinTimeRange(t, v, max_index, MAX_DELAY, fs)\n",
    "\n",
    "# 同様\n",
    "max_index2, _, _ = findMaxPeak(t2, v2, 3)\n",
    "max_delay_ix2, max_delay_val2 = getWaveWithinTimeRange(t2, v2, max_index2, MAX_DELAY, fs2)"
   ]
  },
  {
   "cell_type": "code",
   "execution_count": 70,
   "id": "a45d1605-18a1-4fd2-a13f-6de80eae019b",
   "metadata": {},
   "outputs": [],
   "source": [
    "sound_speed = 343.2\n",
    "distance = 0.14\n",
    "\n",
    "# max_tauは時間\n",
    "max_tau = distance / sound_speed\n",
    "\n",
    "# GCC-PHATの計算\n",
    "cc, n = gcc_phat(max_delay_val, max_delay_val2, fs=fs)"
   ]
  },
  {
   "cell_type": "code",
   "execution_count": 71,
   "id": "9973864f-a4bd-447b-b4d0-4a93e819a1dc",
   "metadata": {},
   "outputs": [],
   "source": [
    "gp_ix = np.arange(len(cc))"
   ]
  },
  {
   "cell_type": "code",
   "execution_count": 72,
   "id": "d3ace3d2-a5c6-4f30-8fe1-7268a761de96",
   "metadata": {},
   "outputs": [],
   "source": [
    "# GCC-PHATの最大ピークを計算\n",
    "gp_max_ix, _, gp_max_val = findMaxPeak(gp_ix, cc, 3)"
   ]
  },
  {
   "cell_type": "markdown",
   "id": "82383040-36d4-4172-8dbf-9dd5e4891e61",
   "metadata": {},
   "source": [
    "## 最大ピークインデックス（すなわちチャンネル間の遅延）"
   ]
  },
  {
   "cell_type": "markdown",
   "id": "f2efefbb-1230-4670-bec5-52c01fdcf4b2",
   "metadata": {},
   "source": [
    "## 曲線下面積"
   ]
  },
  {
   "cell_type": "code",
   "execution_count": 73,
   "id": "0c61e571-ecdf-4cff-8fd9-6a7cfda3d4d3",
   "metadata": {},
   "outputs": [
    {
     "data": {
      "text/plain": [
       "4.358589444166521"
      ]
     },
     "execution_count": 73,
     "metadata": {},
     "output_type": "execute_result"
    }
   ],
   "source": [
    "gp_s = calcAUC(cc)\n",
    "gp_s"
   ]
  },
  {
   "cell_type": "markdown",
   "id": "2cc9ff90-081e-43cf-b093-33d8b236e9e9",
   "metadata": {},
   "source": [
    "## TDOA"
   ]
  },
  {
   "cell_type": "code",
   "execution_count": 74,
   "id": "73b83897-8114-4497-82d2-94b9b411f815",
   "metadata": {},
   "outputs": [
    {
     "data": {
      "text/plain": [
       "(-2.6041666666666666e-06,\n",
       " array([ 1.56327311e-04,  5.30575918e-05, -4.14073831e-05, -1.19873404e-04,\n",
       "        -1.76024494e-04, -2.04730175e-04, -2.02301885e-04, -1.66687087e-04,\n",
       "        -9.75921321e-05,  3.47216463e-06,  1.33225074e-04,  2.86730145e-04,\n",
       "         4.57585199e-04,  6.38181092e-04,  8.20019203e-04,  9.94075085e-04,\n",
       "         1.15119357e-03,  1.28249913e-03,  1.37980446e-03,  1.43599994e-03,\n",
       "         1.44540742e-03,  1.40408263e-03,  1.31005267e-03,  1.16347733e-03,\n",
       "         9.66725915e-04,  7.24364612e-04,  4.43052846e-04,  1.31350910e-04,\n",
       "        -2.00555422e-04, -5.41204038e-04, -8.78267077e-04, -1.19900796e-03,\n",
       "        -1.49076779e-03, -1.74146252e-03, -1.94007165e-03, -2.07709915e-03,\n",
       "        -2.14498802e-03, -2.13847148e-03, -2.05484601e-03, -1.89415399e-03,\n",
       "        -1.65926740e-03, -1.35586716e-03, -9.92317248e-04, -5.79436172e-04,\n",
       "        -1.30172597e-04,  3.40804328e-04,  8.17586155e-04,  1.28356109e-03,\n",
       "         1.72198573e-03,  2.11657200e-03,  2.45206800e-03,  2.71481133e-03,\n",
       "         2.89323438e-03,  2.97830264e-03,  2.96386941e-03,  2.84693319e-03,\n",
       "         2.62778759e-03,  2.31005751e-03,  1.90061936e-03,  1.40940758e-03,\n",
       "         8.49113670e-04,  2.34788005e-04, -4.16641612e-04, -1.08691776e-03,\n",
       "        -1.75704812e-03, -2.40792593e-03, -3.02095415e-03, -3.57865097e-03,\n",
       "        -4.06521526e-03, -4.46703197e-03, -4.77309967e-03, -4.97536546e-03,\n",
       "        -5.06895594e-03, -5.05229673e-03, -4.92711738e-03, -4.69834239e-03,\n",
       "        -4.37387380e-03, -3.96427429e-03, -3.48236363e-03, -2.94274437e-03,\n",
       "        -2.36127513e-03, -1.75451159e-03, -1.13913629e-03, -5.31398487e-04,\n",
       "         5.34152430e-05,  6.01460611e-04,  1.10074837e-03,  1.54147605e-03,\n",
       "         1.91626797e-03,  2.22031619e-03,  2.45141963e-03,  2.60992203e-03,\n",
       "         2.69855381e-03,  2.72218651e-03,  2.68751183e-03,  2.60266016e-03,\n",
       "         2.47677575e-03,  2.31956698e-03,  2.14085134e-03,  1.95011411e-03,\n",
       "         1.75609932e-03,  1.56644985e-03,  1.38741099e-03,  1.22360941e-03,\n",
       "         1.07791558e-03,  9.51394467e-04,  8.43345228e-04,  7.51426903e-04,\n",
       "         6.71863281e-04,  5.99716804e-04,  5.29218340e-04,  4.54137266e-04,\n",
       "         3.68174553e-04,  2.65360541e-04,  1.40438893e-04, -1.07812464e-05,\n",
       "        -1.91121480e-04, -4.01793326e-04, -6.42232155e-04, -9.10014544e-04,\n",
       "        -1.20086401e-03, -1.50874634e-03, -1.82605164e-03, -2.14385657e-03,\n",
       "        -2.45225652e-03, -2.74075418e-03, -2.99868860e-03, -3.21568652e-03,\n",
       "        -3.38211672e-03, -3.48952751e-03, -3.53104815e-03, -3.50173585e-03,\n",
       "        -3.39885239e-03, -3.22205679e-03, -2.97350407e-03, -2.65784381e-03,\n",
       "        -2.28211629e-03, -1.85554851e-03, -1.38925640e-03, -8.95863736e-04,\n",
       "        -3.89052054e-04,  1.16941234e-04,  6.07856571e-04,  1.06995630e-03,\n",
       "         1.49055667e-03,  1.85852540e-03,  2.16472362e-03,  2.40237269e-03,\n",
       "         2.56732935e-03,  2.65825602e-03,  2.67667722e-03,  2.62691768e-03,\n",
       "         2.51592250e-03,  2.35296463e-03,  2.14924973e-03,  1.91743307e-03,\n",
       "         1.67106680e-03,  1.42399963e-03,  1.18975303e-03,  9.80899790e-04,\n",
       "         8.08471188e-04,  6.81418563e-04,  6.06153223e-04,  5.86186165e-04,\n",
       "         6.21885390e-04,  7.10364192e-04,  8.45508776e-04,  1.01814801e-03,\n",
       "         1.21636238e-03,  1.42592342e-03,  1.63084926e-03,  1.81405699e-03,\n",
       "         1.95808774e-03,  2.04587703e-03,  2.06154011e-03,  1.99114073e-03,\n",
       "         1.82341123e-03,  1.55039314e-03,  1.16796954e-03,  6.76263847e-04,\n",
       "         7.98845445e-05, -6.11999645e-04, -1.38576299e-03, -2.22360672e-03,\n",
       "        -3.10401905e-03, -4.00239950e-03, -4.89182900e-03, -5.74396118e-03,\n",
       "        -6.53000478e-03, -7.22176260e-03, -7.79268932e-03, -8.21892883e-03,\n",
       "        -8.48029103e-03, -8.56112939e-03, -8.45108327e-03, -8.14565290e-03,\n",
       "        -7.64658047e-03, -6.96201713e-03, -6.10646348e-03, -5.10047883e-03,\n",
       "        -3.97016333e-03, -2.74642543e-03, -1.46405553e-03, -1.60634166e-04,\n",
       "         1.12468973e-03,  2.35250974e-03,  3.48451657e-03,  4.48484850e-03,\n",
       "         5.32138869e-03,  5.96696101e-03,  6.40037899e-03,  6.60730641e-03,\n",
       "         6.58089421e-03,  6.32216564e-03,  5.84013016e-03,  5.15161594e-03,\n",
       "         4.28082077e-03,  3.25859155e-03,  2.12145225e-03,  9.10410097e-04,\n",
       "        -3.30422075e-04, -1.55534153e-03, -2.71865813e-03, -3.77632787e-03,\n",
       "        -4.68755988e-03, -5.41633872e-03, -5.93280610e-03, -6.21444988e-03,\n",
       "        -6.24705425e-03, -6.02537258e-03, -5.55349381e-03, -4.84488324e-03,\n",
       "        -3.92209038e-03, -2.81612781e-03, -1.56553685e-03, -2.15167436e-04,\n",
       "         1.18529008e-03,  2.58297391e-03,  3.92366542e-03,  5.15368812e-03,\n",
       "         6.22182589e-03,  7.08119352e-03,  7.69099330e-03,  8.01809431e-03,\n",
       "         8.03837640e-03,  7.73778818e-03,  7.11307752e-03,  6.17216412e-03,\n",
       "         4.93413553e-03,  3.42886117e-03,  1.69623168e-03, -2.14955302e-04,\n",
       "        -2.24842990e-03, -4.34216031e-03, -6.43028373e-03, -8.44519459e-03,\n",
       "        -1.03197207e-02, -1.19893140e-02, -1.33941815e-02, -1.44812826e-02,\n",
       "        -1.52061247e-02, -1.55342916e-02, -1.54426536e-02, -1.49202113e-02,\n",
       "        -1.39685454e-02, -1.26018506e-02, -1.08465520e-02, -8.74051182e-03,\n",
       "        -6.33185332e-03, -3.67743697e-03, -8.41040751e-04,  2.10869589e-03,\n",
       "         5.10049528e-03,  8.06275672e-03,  1.09258851e-02,  1.36245529e-02,\n",
       "         1.60998191e-02,  1.83010294e-02,  2.01874353e-02,  2.17294722e-02,\n",
       "         2.29096541e-02,  2.37230518e-02,  2.41773377e-02,  2.42923950e-02,\n",
       "         2.40995025e-02,  2.36401249e-02,  2.29643475e-02,  2.21290103e-02,\n",
       "         2.11956058e-02,  2.02280126e-02,  1.92901451e-02,  1.84435989e-02,\n",
       "         1.77453766e-02,  1.72457727e-02,  1.69864912e-02,  1.69990644e-02,\n",
       "         1.73036276e-02,  1.79080944e-02,  1.88077629e-02,  1.99853672e-02,\n",
       "         2.14115751e-02,  2.30459158e-02,  2.48381061e-02,  2.67297316e-02,\n",
       "         2.86562246e-02,  3.05490719e-02,  3.23381757e-02,  3.39542866e-02,\n",
       "         3.53314256e-02,  3.64092090e-02,  3.71349973e-02,  3.74657928e-02,\n",
       "         3.73698189e-02,  3.68277264e-02,  3.58333840e-02,  3.43942238e-02,\n",
       "         3.25311304e-02,  3.02778738e-02,  2.76801069e-02,  2.47939591e-02,\n",
       "         2.16842740e-02,  1.84225510e-02,  1.50846590e-02,  1.17484024e-02,\n",
       "         8.49101898e-03,  5.38669721e-03,  2.50419544e-03, -9.53549222e-05,\n",
       "        -2.36038859e-03, -4.25052201e-03, -5.73779092e-03, -6.80746842e-03,\n",
       "        -7.45843625e-03, -7.70309750e-03, -7.56683441e-03, -7.08703053e-03,\n",
       "        -6.31169127e-03, -5.29771047e-03, -4.10884245e-03, -2.81344914e-03,\n",
       "        -1.48209889e-03, -1.85098906e-04,  1.00995515e-03,  2.04052948e-03,\n",
       "         2.85132321e-03,  3.39618723e-03,  3.63972680e-03,  3.55853470e-03,\n",
       "         3.14201436e-03,  2.39276643e-03,  1.32652698e-03, -2.83393007e-05,\n",
       "        -1.63177274e-03, -3.43334668e-03, -5.37394443e-03, -7.38772835e-03,\n",
       "        -9.40433481e-03, -1.13512216e-02, -1.31560902e-02, -1.47493020e-02,\n",
       "        -1.60662110e-02, -1.70493352e-02, -1.76502980e-02, -1.78314778e-02,\n",
       "        -1.75673129e-02, -1.68452229e-02, -1.56661190e-02, -1.40444896e-02,\n",
       "        -1.20080615e-02, -9.59705132e-03, -6.86303394e-03, -3.86746747e-03,\n",
       "        -6.79924191e-04,  2.62391381e-03,  5.96442932e-03,  9.26034535e-03,\n",
       "         1.24310297e-02,  1.53987570e-02,  1.80908605e-02,  2.04417086e-02,\n",
       "         2.23944501e-02,  2.39024788e-02,  2.49305802e-02,  2.54557314e-02,\n",
       "         2.54675385e-02,  2.49683076e-02,  2.39727571e-02,  2.25073881e-02,\n",
       "         2.06095438e-02,  1.83261933e-02,  1.57124858e-02,  1.28301258e-02,\n",
       "         9.74562217e-03,  6.52846994e-03,  3.24931826e-03, -2.18192671e-05,\n",
       "        -3.21726194e-03, -6.27322134e-03, -9.13118361e-03, -1.17390831e-02,\n",
       "        -1.40522441e-02, -1.60340757e-02, -1.76565143e-02, -1.89002160e-02,\n",
       "        -1.97545090e-02, -2.02171243e-02, -2.02937285e-02, -1.99972874e-02,\n",
       "        -1.93472916e-02, -1.83688820e-02, -1.70919067e-02, -1.55499476e-02,\n",
       "        -1.37793477e-02, -1.18182707e-02, -9.70581816e-03, -7.48122591e-03,\n",
       "        -5.18315671e-03, -2.84909884e-03, -5.14876413e-04,  1.78572879e-03,\n",
       "         4.02124938e-03,  6.16270761e-03,  8.18370683e-03,  1.00604550e-02,\n",
       "         1.17717375e-02,  1.32988572e-02,  1.46255596e-02,  1.57379593e-02,\n",
       "         1.66244819e-02,  1.72758330e-02,  1.76850014e-02,  1.78473020e-02,\n",
       "         1.77604563e-02,  1.74247089e-02,  1.68429707e-02,  1.60209788e-02,\n",
       "         1.49674587e-02,  1.36942744e-02,  1.22165478e-02,  1.05527321e-02,\n",
       "         8.72462152e-03,  6.75728338e-03,  4.67890001e-03,  2.52051114e-03,\n",
       "         3.15651812e-04, -1.90011503e-03, -4.08976761e-03, -6.21548752e-03,\n",
       "        -8.23940180e-03, -1.01243875e-02, -1.18349177e-02, -1.33379237e-02,\n",
       "        -1.46036485e-02, -1.56064612e-02, -1.63256064e-02, -1.67458595e-02,\n",
       "        -1.68580631e-02, -1.66595221e-02, -1.61542379e-02, -1.53529692e-02,\n",
       "        -1.42731088e-02, -1.29383758e-02, -1.13783251e-02, -9.62768498e-03,\n",
       "        -7.72553713e-03, -5.71436166e-03, -3.63897248e-03, -1.54537371e-03,\n",
       "         5.20429218e-04,  2.51362840e-03,  4.39178542e-03,  6.11594047e-03,\n",
       "         7.65162406e-03,  8.96973960e-03,  1.00472891e-02,  1.08679189e-02,\n",
       "         1.14222692e-02,  1.17081149e-02,  1.17302956e-02,  1.15004367e-02,\n",
       "         1.10364711e-02,  1.03619787e-02,  9.50536481e-03,  8.49890543e-03,\n",
       "         7.37769142e-03,  6.17850561e-03,  4.93867006e-03,  3.69490105e-03,\n",
       "         2.48220846e-03,  1.33287479e-03,  2.75545668e-04, -6.65540026e-04,\n",
       "        -1.47115778e-03, -2.12752557e-03, -2.62654172e-03, -2.96582846e-03,\n",
       "        -3.14858348e-03, -3.18324874e-03, -3.08301158e-03, -2.86515871e-03,\n",
       "        -2.55030867e-03, -2.16155166e-03, -1.72352865e-03, -1.26148305e-03,\n",
       "        -8.00318615e-04, -3.63696197e-04,  2.67997615e-05,  3.52397474e-04,\n",
       "         5.97753099e-04,  7.51426224e-04,  8.06202046e-04,  7.59252485e-04,\n",
       "         6.12134387e-04,  3.70628824e-04,  4.44311129e-05, -3.53293723e-04,\n",
       "        -8.06470789e-04, -1.29676752e-03, -1.80431251e-03, -2.30845349e-03,\n",
       "        -2.78852610e-03, -3.22460562e-03, -3.59821492e-03, -3.89296434e-03,\n",
       "        -4.09510222e-03, -4.19395861e-03, -4.18226926e-03, -4.05637140e-03,\n",
       "        -3.81626806e-03, -3.46556243e-03, -3.01126867e-03, -2.46350971e-03,\n",
       "        -1.83511671e-03, -1.14114783e-03, -3.98346571e-04,  3.75438593e-04,\n",
       "         1.16185075e-03,  1.94261495e-03,  2.70010112e-03,  3.41783998e-03,\n",
       "         4.08097503e-03,  4.67663666e-03,  5.19422802e-03,  5.62561626e-03,\n",
       "         5.96522649e-03,  6.21003998e-03,  6.35950176e-03,  6.41534628e-03,\n",
       "         6.38135262e-03,  6.26304335e-03,  6.06734261e-03,  5.80221026e-03,\n",
       "         5.47626897e-03,  5.09844092e-03,  4.67760933e-03,  4.22231866e-03,\n",
       "         3.74052455e-03,  3.23940214e-03,  2.72521829e-03,  2.20326984e-03,\n",
       "         1.67788703e-03,  1.15249794e-03,  6.29746948e-04,  1.11657761e-04,\n",
       "        -4.00170449e-04, -9.04346754e-04, -1.39946574e-03, -1.88389229e-03,\n",
       "        -2.35556723e-03, -2.81184622e-03, -3.24938244e-03, -3.66406145e-03,\n",
       "        -4.05099412e-03, -4.40457039e-03, -4.71857387e-03, -4.98635401e-03,\n",
       "        -5.20104966e-03, -5.35585519e-03, -5.44431804e-03, -5.46065442e-03,\n",
       "        -5.40006900e-03, -5.25906337e-03, -5.03571822e-03, -4.72993480e-03,\n",
       "        -4.34362235e-03, -3.88082042e-03, -3.34774703e-03, -2.75276676e-03,\n",
       "        -2.10627590e-03, -1.42050519e-03, -7.09244240e-04,  1.25052304e-05,\n",
       "         7.28936765e-04,  1.42389397e-03,  2.08135726e-03,  2.68594535e-03,\n",
       "         3.22341318e-03,  3.68112765e-03,  4.04850291e-03,  4.31737807e-03,\n",
       "         4.48232185e-03,  4.54085142e-03,  4.49355517e-03,  4.34411320e-03,\n",
       "         4.09921229e-03,  3.76835666e-03,  3.36357937e-03,  2.89906296e-03,\n",
       "         2.39068163e-03,  1.85548025e-03,  1.31110783e-03,  7.75225328e-04,\n",
       "         2.64908623e-04, -2.03932153e-04, -6.17095915e-04, -9.62576890e-04,\n",
       "        -1.23097602e-03, -1.41582230e-03, -1.51379193e-03, -1.52481704e-03,\n",
       "        -1.45207938e-03, -1.30188885e-03, -1.08345072e-03, -8.08529631e-04,\n",
       "        -4.91022041e-04, -1.46452338e-04,  2.08589444e-04]))"
      ]
     },
     "execution_count": 74,
     "metadata": {},
     "output_type": "execute_result"
    }
   ],
   "source": [
    "tdoa = tdoa_from_gccphat(cc, n, fs=fs, max_tau=max_tau)\n",
    "tdoa"
   ]
  }
 ],
 "metadata": {
  "kernelspec": {
   "display_name": "Python 3 (ipykernel)",
   "language": "python",
   "name": "python3"
  },
  "language_info": {
   "codemirror_mode": {
    "name": "ipython",
    "version": 3
   },
   "file_extension": ".py",
   "mimetype": "text/x-python",
   "name": "python",
   "nbconvert_exporter": "python",
   "pygments_lexer": "ipython3",
   "version": "3.9.7"
  },
  "toc-autonumbering": true
 },
 "nbformat": 4,
 "nbformat_minor": 5
}
