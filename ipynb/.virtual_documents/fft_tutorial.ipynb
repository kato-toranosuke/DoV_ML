import sys
import scipy.io.wavfile
import numpy as np
import matplotlib.pyplot as plt
from scipy import signal


# 音声ファイルの読み込み
args = sys.argv # コマンド実行時の引数を取得
wav_filename = '/Users/toranosuke/Desktop/data/s1/s1_downstairs_nowall_trial1/A0_1_0/recording0_0_0.wav'
rate, data = scipy.io.wavfile.read(wav_filename)

N = data.shape[0]

f'rate: {rate}'


# 音声データの表示
data = data / ((2**16)/2)
time = np.arange(0, data.shape[0]/rate, 1/rate)


# データプロット
plt.plot(time, data)
plt.show()


F = np.fft.fft(data)
F_abs = np.abs(F)
plt.plot(F_abs[:int(N/2)+1])


plt.plot(F_abs)


F_abs.shape


F_abs


F_power = F_abs*F_abs


low = sum(F_power[:7000])
high = sum(F_power[7000:])
ratio = low/high
ratio



