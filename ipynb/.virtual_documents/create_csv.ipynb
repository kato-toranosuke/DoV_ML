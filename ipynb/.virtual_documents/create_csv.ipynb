import os


os.path.exists(".")


# 被験者
participants = ['s' + str(i) for i in range(1, 11)]
# 発言
utterances = ['recording' + str(i) for i in range(2)]
# セッション
sessions = ['trial1', 'trial2']
# 部屋
rooms = ['upstairs', 'downstairs']
# 設置場所
placements = ['wall', 'nowall']
# ユーザとの距離
distances = [str(i) for i in range(1, 6, 2)]
# 極座標
positions = []
for i, d in enumerate(['A', 'B', 'C']):
    for p in range(0, 3):
        positions.append(d + str(p) + '_' + str(2*i+1) + '_' + str(45*p))

# DoV angles
angles = [str(i) for i in range(0, 360, 45)]


# ファイルのフェッチ
file_paths = []
HOME_PATH = '/Volumes/GoogleDrive/マイドライブ/Research/Project/DoV/dataset'
for participant_id in participants:
    first_dir_name = participant_id
    for room_id in rooms:
        for device_placement_id in placements:
            for session_id in sessions:
                second_dir_name = participant_id + '_' + room_id + '_' + device_placement_id + '_' + session_id
                for polar_position_id in positions:
                    third_dir_name = polar_position_id
                    for utterance_id in utterances:
                        for dov_angle in angles:
                            for mic_channel in range(0, 6):
                                filename = utterance_id + '_' + dov_angle + '_' + str(mic_channel) + '.wav'
                                file_paths.append(HOME_PATH + '/' + first_dir_name + '/' + second_dir_name + '/' + third_dir_name + '/' + filename)


len(file_paths)



