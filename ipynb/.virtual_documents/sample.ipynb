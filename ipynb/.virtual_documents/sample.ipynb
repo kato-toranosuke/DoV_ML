import sys
import scipy.io.wavfile
import numpy as np
import matplotlib.pyplot as plt


# 音声ファイルの読み込み
args = sys.argv
wav_filename = '/Users/toranosuke/Desktop/dataset/s1/s1_downstairs_nowall_trial1/A0_1_0/recording0_0_0.wav'
rate, data = scipy.io.wavfile.read(wav_filename)


# 音声データの表示
data = data / ((2**16)/2)
time = np.arange(0, data.shape[0]/rate, 1/rate)


# データプロット
plt.plot(time, data)
plt.show()


rate


import numpy as np
import matplotlib.pyplot as plt
get_ipython().run_line_magic("matplotlib", " inline")
from scipy import signal


x = np.arange(0, 2*np.pi, 0.1)
y  = np.sin(x)
plt.plot(x, y)
# plt.show()


# グラフのx軸をΠで表示してみる
x = np.arange(0, 2*np.pi, 0.1)
y = np.sin(x)
plt.xticks(np.arange(0, 2.1*np.pi, 0.5*np.pi), ['0', '1/2$\pi$', u'$\pi$', '3/2$\pi$', u'2$\pi$'], fontsize=14)
plt.plot(x, y)


N = 32 #データ数
n = np.arange(N)
freq = 3 #周期
signal = np.sin(freq*2*np.pi*n/N)


# グラフ表示
plt.figure(figsize=(8,4))
plt.xlabel('n')
plt.ylabel('Signal')
plt.plot(signal)


F = np.fft.fft(signal)


print(type(F), F.dtype)
print(F)


F_abs = np.abs(F)
plt.plot(F_abs)


plt.plot(F_abs[:int(N/2)+1])


F_abs_amp = F_abs / N * 2 #交流成分はデータ数で割って２倍する。
F_abs_amp[0] = F_abs_amp[0] / 2 #直流成分は２倍不要
plt.plot(F_abs_amp[:int(N/2)+1])


N = 32
n = np.arange(N)
freq = 3 # 周期
amp = 4 # 振幅
f = amp * np.sin(freq*2*np.pi*(n/N))

# グラフ表示
plt.figure(figsize=(8,4))
plt.xlabel('n')
plt.ylabel('Signal')
plt.plot(f)


# 高速フーリエ変換
F = np.fft.fft(f)
# fftの結果（複素数）を絶対値変換
F_abs = np.abs(F)
# 振幅を元の信号に揃える
F_abs_amp = F_abs / N * 2
F_abs_amp[0] = F_abs_amp[0] / 2

plt.plot(F_abs_amp[:int(N/2)+1])


N = 64
n = np.arange(N)
f1 = 2
f2 =6
f = np.sin(f1*2*np.pi*(n/N)) + np.sin(f2*2*np.pi*(n/N))

plt.figure(figsize=(8,4))
plt.xlabel('n')
plt.ylabel('Signal')
plt.plot(f)


# フーリエ変換
F = np.fft.fft(f)
F_abs = np.abs(F)
F_abs_amp = F_abs/N*2
F_abs_amp[0] = F_abs_amp[0]/2

plt.plot(F_abs_amp[:int(N/2)+1])


import sys, os, cis
import matplotlib.pyplot as plt
import numpy as np


sys.path.append('..')


from mylib.fft import fft


data, fs = cis.wavread('/Users/toranosuke/Desktop/dataset/s10/s10_downstairs_wall_trial2/C1_5_45/recording1_45_0.wav')


N = len(data)
N


# 時間空間での表示
dt = 1/fs
d = len(data)/fs
t = np.arange(0, d, dt)


plt.plot(t, data)
plt.show()
plt.close()


fft_array, fft_mean, fft_axis = fft(data, fs, 2**12, 0)


plt.plot(fft_axis, fft_mean)
plt.show()


import scipy.fftpack as sfft
import scipy.signal as ss
import math


N = 2**12
cs = sfft.fft(data[:N])

# x軸の定義
hz_delta = fs/N
x = np.arange(0, fs/2, hz_delta)

# 描画
plt.xlabel('Hz')
plt.plot(x, np.abs(cs[:int(N/2)]))
plt.show()


import cis
import numba as nb


from scipy.signal import *


v, fs = cis.wavread('../../data.wav')


import numpy as np


a = np.array([0,1,2])
b = 2


a*b


c = [0,1,2]
a*c


len(v)


from typing import List, Union

def CalcDiffer(data: List) -> List:
    '''
    微分値を求める関数

    Parameters
    ----------
    data : array-like
        波形データ

    Returns
    -------
    differs : array-like
        微分値が格納された配列

    Notes
    -----
    波形データのx軸はインデックスであることが前提。
    '''
    differs = []
    for i in range(0, len(data)-1):
        d = np.abs((data[i+1] - data[i])/1)
        differs.append(d)
    return differs


arry = [0, 1, 2, 3, 5, 4]


CalcDiffer(arry)


np.gradient(arry)


np.gradient(arry, edge_order=2)


np.abs(np.diff(arry, n=1))


def CalcDiffer(data: List) -> List:
    '''
    微分値を求める関数

    Parameters
    ----------
    data : array-like
        波形データ

    Returns
    -------
    differs : array-like
        微分値が格納された配列

    Notes
    -----
    波形データのx軸はインデックスであることが前提。
    '''
    return np.abs(np.gradient(data, edge_order=2))


CalcDiffer(arry)


from scipy import integrate


diff = CalcDiffer(v)


auc = integrate.simpson(diff)


auc


import itertools


x = [0,1,2,3,4,5,6]
list(itertools.accumulate(diff))[-1]


import time
import numba as nb

def CalcAUC(data: List) -> float:
    '''
    曲線下面積を求める関数

    Parameters
    ----------
    data : array-like
        データ配列

    Returns
    -------
    S : float
        曲線下面積
    '''
    time_sta = time.perf_counter()
    # 総面積
    S = 0

    for i in range(0, len(data)):
        S += np.abs(data[i]) * 1
    
    time_end = time.perf_counter()
    tim = time_end - time_sta
    print(tim)

    return S, tim

def CalcAUC2(data: List) -> float:
    '''
    曲線下面積を求める関数

    Parameters
    ----------
    data : array-like
        データ配列

    Returns
    -------
    S : float
        曲線下面積
    '''
    time_sta = time.perf_counter()
    
    S = np.sum(data)
    
    time_end = time.perf_counter()
    tim = time_end - time_sta
    print(tim)

    return S, tim

@nb.jit(nopython=True, parallel=True)
def hoge(data):
    return np.sum(data)

def CalcAUC3(data: List) -> float:
    '''
    曲線下面積を求める関数

    Parameters
    ----------
    data : array-like
        データ配列

    Returns
    -------
    S : float
        曲線下面積
    '''
    time_sta = time.perf_counter()
    
    S = hoge(data)
    
    time_end = time.perf_counter()
    tim = time_end - time_sta
    print(tim)

    return S


s1, tim1 = CalcAUC(diff)


s2, tim2 = CalcAUC2(diff)


(tim1 - tim2)*10616 / 60


CalcAUC3(diff)


ac = np.correlate(v, v, "full")


type(diff)


CalcAUC(ac)


integrate.simpson(ac)


import matlab.engine as mleng


eng = mleng.start_matlab()


sig1, fs1 = cis.wavread('/Users/toranosuke/Desktop/dataset/s1/s1_downstairs_nowall_trial1/A0_1_0/recording0_0_1.wav')
sig2, fs2 = cis.wavread('/Users/toranosuke/Desktop/dataset/s1/s1_downstairs_nowall_trial1/A0_1_0/recording0_0_2.wav')
sig3, fs3 = cis.wavread('/Users/toranosuke/Desktop/dataset/s1/s1_downstairs_nowall_trial1/A0_1_0/recording0_0_3.wav')
sig4, fs4 = cis.wavread('/Users/toranosuke/Desktop/dataset/s1/s1_downstairs_nowall_trial1/A0_1_0/recording0_0_4.wav')


sig1_mat = eng.cell2mat(sig1.tolist())


sig2_mat = eng.cell2mat(sig2.tolist())


fs_db = eng.double(fs1)


A, B, C = eng.gccphat(sig1_mat, sig2_mat, fs_db)


type(sig1_list[0])


eng.iscell(sig1_list)


sig1_mat = eng.cell2mat(sig1.tolist())


a = [0,1,2,3,4,5,6,7,8,9]


a = np.array(a)


a[-2:]


max_shift = 1

np.concatenate((a[-max_shift:], a[:max_shift+1]))


def gcc_phat(sig, refsig, fs=1, max_tau=None, interp=16):
    '''
    This function computes the offset between the signal sig and the reference signal refsig
    using the Generalized Cross Correlation - Phase Transform (GCC-PHAT)method.
    '''

    # make sure the length for the FFT is larger or equal than len(sig) + len(refsig)
    n = sig.shape[0] + refsig.shape[0]

    # Generalized Cross Correlation Phase Transform
    SIG = np.fft.rfft(sig, n=n)
    REFSIG = np.fft.rfft(refsig, n=n)
    R = SIG * np.conj(REFSIG)

    cc = np.fft.irfft(R / np.abs(R), n=(interp * n))

    max_shift = int(interp * n / 2)
    if max_tau:
        max_shift = np.minimum(int(interp * fs * max_tau), max_shift)

    cc = np.concatenate((cc[-max_shift:], cc[:max_shift+1]))

    # find max cross correlation index
    orig_shift = np.argmax(np.abs(cc))
    shift = orig_shift - max_shift

    tau = shift / float(interp * fs)

    return tau, cc, orig_shift, shift


max_tau = 343.2 / 0.070
gcc_phat(sig1, sig3, fs1, max_tau=max_tau)


gcc_phat(sig2, sig4, fs1)


fs1*16 


np.max(a)


math.ceil(4.3)


x = range(1, 5)


for i in x:
    print(i)


from typing import Obj



